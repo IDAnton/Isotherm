{
 "cells": [
  {
   "cell_type": "code",
   "execution_count": 1,
   "id": "initial_id",
   "metadata": {
    "collapsed": true,
    "ExecuteTime": {
     "end_time": "2024-02-18T11:57:15.848214900Z",
     "start_time": "2024-02-18T11:57:10.660184400Z"
    }
   },
   "outputs": [],
   "source": [
    "import random\n",
    "import numpy as np\n",
    "import tensorflow.compat.v1 as tf\n",
    "import matplotlib.pyplot as plt\n",
    "from tensorflow.keras import layers, Sequential, Input\n",
    "from sklearn.model_selection import train_test_split\n",
    "from sklearn.utils import shuffle\n",
    "from generator import Generator"
   ]
  },
  {
   "cell_type": "code",
   "execution_count": 3,
   "outputs": [],
   "source": [
    "def plot():\n",
    "    plt.legend()\n",
    "    plt.grid(True)\n",
    "    plt.show()\n",
    "\n",
    "def plot_loss(history):\n",
    "    plt.plot(history.history['loss'], label='loss', marker=\".\")\n",
    "    plt.plot(history.history['val_loss'], label='val_loss')\n",
    "    plt.xlabel('Epoch')\n",
    "    plt.ylabel('Error [MPG]')\n",
    "    plot()\n",
    "\n",
    "def pre_process_isotherm(isotherm):\n",
    "    isotherm -= min(isotherm)\n",
    "    isotherm /= max(isotherm)\n",
    "    return isotherm\n",
    "    \n",
    "def load_dataset(path, interp=False, gen_silica=None, gen_carbon=None):\n",
    "    min_exp_pressure_i = 40\n",
    "    max_exp_pressure_i = 458\n",
    "    with open(path, 'rb') as f:\n",
    "            dataset = np.load(f)\n",
    "            isotherm_data = dataset[\"isotherm_data\"]\n",
    "            pore_distribution_data = dataset[\"pore_distribution_data\"]\n",
    "    x = np.empty((isotherm_data.shape[0], (-min_exp_pressure_i + max_exp_pressure_i)))\n",
    "    y = np.empty(pore_distribution_data.shape)\n",
    "    for i in range(len(isotherm_data)):\n",
    "        if interp:\n",
    "            interp_isotherm = np.interp(gen_silica.pressures_s, gen_carbon.pressures_s, isotherm_data[i])\n",
    "        else:\n",
    "            interp_isotherm = isotherm_data[i]\n",
    "        isotherm = pre_process_isotherm(interp_isotherm[min_exp_pressure_i:max_exp_pressure_i])\n",
    "        pore_distribution = pre_process_isotherm(pore_distribution_data[i])\n",
    "        x[i] = isotherm\n",
    "        y[i] = pore_distribution\n",
    "    #x, y = shuffle(x, y)\n",
    "    return x, y\n",
    "\n",
    "def create_model(input_shape):\n",
    "    ## CONV NET\n",
    "    # model = Sequential()\n",
    "    # model.add(layers.Conv1D(filters=64, kernel_size=3, activation='relu', input_shape=(input_shape,1)))\n",
    "    # model.add(layers.Conv1D(filters=64, kernel_size=3, activation='relu'))\n",
    "    # model.add(layers.Dropout(0.5))\n",
    "    # model.add(layers.MaxPooling1D(pool_size=2))\n",
    "    # model.add(layers.Flatten())\n",
    "    # model.add(layers.Dense(100, activation='relu'))\n",
    "    # model.add(layers.Dense(2, activation='softmax'))\n",
    "    ###\n",
    "        ## DENSE NET\n",
    "    model = Sequential(\n",
    "        [\n",
    "            Input(shape=len(x_train[0],)),\n",
    "            layers.Dense(400, activation='relu'),\n",
    "            layers.Dense(200, activation='relu'),\n",
    "            layers.Dense(100, activation='relu'),\n",
    "            layers.Dense(50, activation='relu'),\n",
    "            layers.Dense(2, activation='softmax')\n",
    "        ]\n",
    "    )\n",
    "    model.compile(loss='categorical_crossentropy', optimizer='adam', metrics=['accuracy'])\n",
    "    return model"
   ],
   "metadata": {
    "collapsed": false,
    "ExecuteTime": {
     "end_time": "2024-02-18T12:11:46.631937100Z",
     "start_time": "2024-02-18T12:11:46.613911400Z"
    }
   },
   "id": "586d532d7b2b798d"
  },
  {
   "cell_type": "code",
   "execution_count": 4,
   "outputs": [],
   "source": [
    "gen_silica = Generator(path_s=\"data/kernel_generated2/Kernel_s_Silica-loc-isoth1.xlsx.npy\",\n",
    "                              path_d=\"data/kernel_generated2/Kernel_d_Silica-loc-isoth1.xlsx.npy\",\n",
    "                              path_p_d=\"data/kernel_generated2/Pressure_d_Silica-loc-isoth1.xlsx.npy\",\n",
    "                              path_p_s=\"data/kernel_generated2/Pressure_s_Silica-loc-isoth1.xlsx.npy\",\n",
    "                              path_a=\"data/kernel_generated2/Size_Silica-loc-isoth1.xlsx.npy\"\n",
    "                              )\n",
    "gen_carbon = Generator(path_s=\"data/initial kernels/Kernel_Carbon_Adsorption.npy\",\n",
    "                              path_d=\"data/initial kernels/Kernel_Carbon_Desorption.npy\",\n",
    "                              path_p_d=\"data/initial kernels/Pressure_Carbon.npy\",\n",
    "                              path_p_s=\"data/initial kernels/Pressure_Carbon.npy\",\n",
    "                              path_a=\"data/initial kernels/Size_Kernel_Carbon_Adsorption.npy\"\n",
    "                              )\n",
    "x1, y1 = load_dataset('data/datasets/Carbon_classification.npz', interp=True, gen_carbon=gen_carbon, gen_silica=gen_silica)\n",
    "x2, y2 = load_dataset('data/datasets/Silica_classification.npz', interp=False)"
   ],
   "metadata": {
    "collapsed": false,
    "ExecuteTime": {
     "end_time": "2024-02-18T12:11:54.079236900Z",
     "start_time": "2024-02-18T12:11:47.212773400Z"
    }
   },
   "id": "52a4935677a58471"
  },
  {
   "cell_type": "code",
   "execution_count": 7,
   "outputs": [],
   "source": [
    "i = random.randint(0, len(x1))\n",
    "plt.plot(x1[i], marker=\".\", label=\"Carbon isotherm\")\n",
    "plt.plot(x2[i], marker=\".\", label=\"Silica isotherm\")\n",
    "plt.plot(gen_carbon.a_array, y1[i], marker=\".\", label=\"Carbon distribution\")\n",
    "plt.plot(gen_silica.a_array, y2[i], marker=\".\", label=\"Silica distribution\")\n",
    "plot()"
   ],
   "metadata": {
    "collapsed": false,
    "ExecuteTime": {
     "end_time": "2024-02-18T12:12:26.964768900Z",
     "start_time": "2024-02-18T12:12:09.369681100Z"
    }
   },
   "id": "9e18e14b8cfdd6a7"
  },
  {
   "cell_type": "code",
   "execution_count": 18,
   "outputs": [],
   "source": [
    "y_carbon = np.empty(shape = (len(x1), 2))\n",
    "y_silica = np.empty(shape = (len(x1), 2))\n",
    "for i in range(len(x1)):\n",
    "    y_carbon[i] = np.array([0, 1])\n",
    "    y_silica[i] = np.array([1, 0])"
   ],
   "metadata": {
    "collapsed": false,
    "ExecuteTime": {
     "end_time": "2024-02-18T12:13:37.236957300Z",
     "start_time": "2024-02-18T12:13:37.156948900Z"
    }
   },
   "id": "63cc2fed24fea18c"
  },
  {
   "cell_type": "code",
   "execution_count": 19,
   "outputs": [],
   "source": [
    "x = np.concatenate((x1, x2), axis=0)\n",
    "y = np.concatenate((y_carbon, y_silica), axis=0)"
   ],
   "metadata": {
    "collapsed": false,
    "ExecuteTime": {
     "end_time": "2024-02-18T12:13:39.598502700Z",
     "start_time": "2024-02-18T12:13:39.519506300Z"
    }
   },
   "id": "e89a163621b67952"
  },
  {
   "cell_type": "code",
   "execution_count": 20,
   "outputs": [],
   "source": [
    "x_train, x_test, y_train, y_test = train_test_split(x, y, test_size=0.25)"
   ],
   "metadata": {
    "collapsed": false,
    "ExecuteTime": {
     "end_time": "2024-02-18T12:13:42.975143200Z",
     "start_time": "2024-02-18T12:13:42.893141600Z"
    }
   },
   "id": "f7e19ca9ee63cd00"
  },
  {
   "cell_type": "code",
   "execution_count": 21,
   "outputs": [],
   "source": [
    "model = create_model(input_shape=len(x[0]))"
   ],
   "metadata": {
    "collapsed": false,
    "ExecuteTime": {
     "end_time": "2024-02-18T12:13:43.882777700Z",
     "start_time": "2024-02-18T12:13:43.821626Z"
    }
   },
   "id": "485d210c2dda2d6e"
  },
  {
   "cell_type": "code",
   "execution_count": 27,
   "outputs": [
    {
     "name": "stdout",
     "output_type": "stream",
     "text": [
      "Epoch 1/10\n",
      "10/10 [==============================] - ETA: 0s - loss: 0.2316 - accuracy: 0.9447\n",
      "Epoch 1: accuracy improved from -inf to 0.94474, saving model to data/models\\classification.keras\n",
      "10/10 [==============================] - 0s 39ms/step - loss: 0.2316 - accuracy: 0.9447 - val_loss: 0.1820 - val_accuracy: 0.9705 - lr: 0.0010\n",
      "Epoch 2/10\n",
      "10/10 [==============================] - ETA: 0s - loss: 0.2705 - accuracy: 0.8978\n",
      "Epoch 2: accuracy did not improve from 0.94474\n",
      "10/10 [==============================] - 0s 27ms/step - loss: 0.2705 - accuracy: 0.8978 - val_loss: 0.1561 - val_accuracy: 0.9677 - lr: 0.0010\n",
      "Epoch 3/10\n",
      "10/10 [==============================] - ETA: 0s - loss: 0.2008 - accuracy: 0.9305\n",
      "Epoch 3: accuracy did not improve from 0.94474\n",
      "10/10 [==============================] - 0s 26ms/step - loss: 0.2008 - accuracy: 0.9305 - val_loss: 0.1288 - val_accuracy: 0.9753 - lr: 0.0010\n",
      "Epoch 4/10\n",
      "10/10 [==============================] - ETA: 0s - loss: 0.1356 - accuracy: 0.9692\n",
      "Epoch 4: accuracy improved from 0.94474 to 0.96920, saving model to data/models\\classification.keras\n",
      "10/10 [==============================] - 0s 32ms/step - loss: 0.1356 - accuracy: 0.9692 - val_loss: 0.1192 - val_accuracy: 0.9756 - lr: 0.0010\n",
      "Epoch 5/10\n",
      "10/10 [==============================] - ETA: 0s - loss: 0.0971 - accuracy: 0.9807\n",
      "Epoch 5: accuracy improved from 0.96920 to 0.98069, saving model to data/models\\classification.keras\n",
      "10/10 [==============================] - 0s 32ms/step - loss: 0.0971 - accuracy: 0.9807 - val_loss: 0.0863 - val_accuracy: 0.9823 - lr: 0.0010\n",
      "Epoch 6/10\n",
      "10/10 [==============================] - ETA: 0s - loss: 0.0772 - accuracy: 0.9840\n",
      "Epoch 6: accuracy improved from 0.98069 to 0.98401, saving model to data/models\\classification.keras\n",
      "10/10 [==============================] - 0s 32ms/step - loss: 0.0772 - accuracy: 0.9840 - val_loss: 0.0717 - val_accuracy: 0.9846 - lr: 0.0010\n",
      "Epoch 7/10\n",
      "10/10 [==============================] - ETA: 0s - loss: 0.0640 - accuracy: 0.9860\n",
      "Epoch 7: accuracy improved from 0.98401 to 0.98605, saving model to data/models\\classification.keras\n",
      "10/10 [==============================] - 0s 32ms/step - loss: 0.0640 - accuracy: 0.9860 - val_loss: 0.0637 - val_accuracy: 0.9829 - lr: 0.0010\n",
      "Epoch 8/10\n",
      "10/10 [==============================] - ETA: 0s - loss: 0.0552 - accuracy: 0.9871\n",
      "Epoch 8: accuracy improved from 0.98605 to 0.98705, saving model to data/models\\classification.keras\n",
      "10/10 [==============================] - 0s 31ms/step - loss: 0.0552 - accuracy: 0.9871 - val_loss: 0.0544 - val_accuracy: 0.9855 - lr: 0.0010\n",
      "Epoch 9/10\n",
      "10/10 [==============================] - ETA: 0s - loss: 0.0475 - accuracy: 0.9868\n",
      "Epoch 9: accuracy did not improve from 0.98705\n",
      "10/10 [==============================] - 0s 27ms/step - loss: 0.0475 - accuracy: 0.9868 - val_loss: 0.0475 - val_accuracy: 0.9889 - lr: 0.0010\n",
      "Epoch 10/10\n",
      "10/10 [==============================] - ETA: 0s - loss: 0.0420 - accuracy: 0.9888\n",
      "Epoch 10: accuracy improved from 0.98705 to 0.98877, saving model to data/models\\classification.keras\n",
      "10/10 [==============================] - 0s 32ms/step - loss: 0.0420 - accuracy: 0.9888 - val_loss: 0.0433 - val_accuracy: 0.9878 - lr: 0.0010\n"
     ]
    }
   ],
   "source": [
    "mcp_save = tf.keras.callbacks.ModelCheckpoint(filepath='data/models/classification.keras', save_best_only=True,\n",
    "                                           monitor='accuracy', mode='max', verbose=1, save_weights_only=False,\n",
    "                                           save_freq='epoch')\n",
    "\n",
    "reduce_lr_loss = tf.keras.callbacks.ReduceLROnPlateau(monitor='val_loss', factor=0.5,\n",
    "                                                   patience=100, verbose=1, mode='auto')\n",
    "history = model.fit(np.array(x_train), np.array(y_train),\n",
    "                    epochs=10, batch_size=5000, shuffle=True,\n",
    "                    validation_data=(np.array(x_test), np.array(y_test)), callbacks=[mcp_save, reduce_lr_loss])\n",
    "plot_loss(history)"
   ],
   "metadata": {
    "collapsed": false,
    "ExecuteTime": {
     "end_time": "2024-02-18T12:14:04.543973900Z",
     "start_time": "2024-02-18T12:14:00.109810100Z"
    }
   },
   "id": "f3eb22e74bff9cd0"
  },
  {
   "cell_type": "code",
   "execution_count": 28,
   "outputs": [],
   "source": [
    "# Test on experimental data\n",
    "exp_file = \"MCM-41-adsorb\"\n",
    "exp_data = np.loadtxt(f\"data/real/{exp_file}.txt\")\n",
    "p_exp = np.empty(len(exp_data))\n",
    "n_exp = np.empty(len(exp_data))\n",
    "for i in range(len(exp_data)):  # Загружаем адсорбцию и давления\n",
    "    p_exp[i] = exp_data[i][0]\n",
    "    n_exp[i] = exp_data[i][1]\n",
    "j = np.argmax(n_exp) + 1  # Отделяем адсорбционную ветку\n",
    "n_s_exp_raw = n_exp[:j]\n",
    "p_exp_sorb = p_exp[:j]\n",
    "plt.plot(p_exp_sorb, n_s_exp_raw, marker=\".\", label=\"MCM-41\")\n",
    "plot()"
   ],
   "metadata": {
    "collapsed": false,
    "ExecuteTime": {
     "end_time": "2024-02-18T12:14:07.615277300Z",
     "start_time": "2024-02-18T12:14:06.296460400Z"
    }
   },
   "id": "f74420bb0c7dd326"
  },
  {
   "cell_type": "code",
   "execution_count": 29,
   "outputs": [],
   "source": [
    "# интерполируем экспериментальную изотерму под давления кернала\n",
    "n_s_exp_uncut = np.interp(gen_silica.pressures_s[40:], p_exp_sorb, n_s_exp_raw)\n",
    "plt.plot(gen_silica.pressures_s[40:], n_s_exp_uncut)\n",
    "n_s_exp = n_s_exp_uncut"
   ],
   "metadata": {
    "collapsed": false,
    "ExecuteTime": {
     "end_time": "2024-02-18T12:14:08.999178500Z",
     "start_time": "2024-02-18T12:14:08.907172100Z"
    }
   },
   "id": "630dacdf89beb67c"
  },
  {
   "cell_type": "code",
   "execution_count": 30,
   "outputs": [
    {
     "name": "stdout",
     "output_type": "stream",
     "text": [
      "1/1 [==============================] - 0s 23ms/step\n"
     ]
    }
   ],
   "source": [
    "n_s_exp_for_net = pre_process_isotherm(n_s_exp)\n",
    "fit_exp = model.predict(np.array([n_s_exp_for_net])).T"
   ],
   "metadata": {
    "collapsed": false,
    "ExecuteTime": {
     "end_time": "2024-02-18T12:14:09.655142100Z",
     "start_time": "2024-02-18T12:14:09.579144300Z"
    }
   },
   "id": "9d9bba6cd5b05a67"
  },
  {
   "cell_type": "code",
   "execution_count": 31,
   "outputs": [
    {
     "data": {
      "text/plain": "array([[0.03094007],\n       [0.9690599 ]], dtype=float32)"
     },
     "execution_count": 31,
     "metadata": {},
     "output_type": "execute_result"
    }
   ],
   "source": [
    "fit_exp"
   ],
   "metadata": {
    "collapsed": false,
    "ExecuteTime": {
     "end_time": "2024-02-18T12:14:11.165791400Z",
     "start_time": "2024-02-18T12:14:11.148792500Z"
    }
   },
   "id": "beb2bc6b1a61f235"
  },
  {
   "cell_type": "code",
   "execution_count": null,
   "outputs": [],
   "source": [],
   "metadata": {
    "collapsed": false,
    "ExecuteTime": {
     "start_time": "2024-02-17T15:19:12.318470Z"
    }
   },
   "id": "554088104cad624e"
  }
 ],
 "metadata": {
  "kernelspec": {
   "display_name": "Python 3",
   "language": "python",
   "name": "python3"
  },
  "language_info": {
   "codemirror_mode": {
    "name": "ipython",
    "version": 2
   },
   "file_extension": ".py",
   "mimetype": "text/x-python",
   "name": "python",
   "nbconvert_exporter": "python",
   "pygments_lexer": "ipython2",
   "version": "2.7.6"
  }
 },
 "nbformat": 4,
 "nbformat_minor": 5
}
