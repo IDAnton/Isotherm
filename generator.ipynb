{
 "cells": [
  {
   "cell_type": "code",
   "execution_count": 2,
   "outputs": [],
   "source": [
    "import pandas as pd\n",
    "import numpy as np\n",
    "import matplotlib.pyplot as plt\n",
    "import matplotlib as mpl\n",
    "import matplotlib.animation as animation\n",
    "\n",
    "import os\n",
    "import pygaps\n",
    "\n",
    "\n",
    "mpl.use('TkAgg')\n",
    "plt.rcParams.update({'font.size': 14})\n",
    "#plt.rcParams.update({'font.family': 'Times New Roman'})\n",
    "\n",
    "class Generator:\n",
    "    def __init__(self, path_s, path_d, path_p_s, path_p_d, path_a):\n",
    "        with open(path_s, 'rb') as f:\n",
    "            self.data_sorb = np.load(f)\n",
    "        with open(path_d, 'rb') as f:\n",
    "            self.data_desorb = np.load(f, allow_pickle=True)\n",
    "        with open(path_p_d, 'rb') as f:\n",
    "            self.pressures_d = np.load(f)\n",
    "            self.pressures_d_current = self.pressures_d\n",
    "        with open(path_p_s, 'rb') as f:\n",
    "            self.pressures_s = np.load(f)\n",
    "        with open(path_a, 'rb') as f:\n",
    "            self.a_array = np.load(f)\n",
    "        \n",
    "        self.pore_distribution = None\n",
    "        self.n_s = np.zeros(len(self.pressures_s))\n",
    "        self.n_d = np.zeros(len(self.pressures_d))\n",
    "\n",
    "    \n",
    "    def generate_pore_distribution(self, sigma1, sigma2, d0_1, d0_2, a=1):\n",
    "        pore_distribution1 = (1 / sigma1) * np.exp(-np.power((self.a_array - d0_1), 2) / (2 * sigma1 ** 2))\n",
    "        pore_distribution1 /= max(pore_distribution1)\n",
    "        pore_distribution2 = (1 / sigma2) * np.exp(-np.power((self.a_array - d0_2), 2) / (2 * sigma2 ** 2))\n",
    "        pore_distribution2 /= max(pore_distribution2)\n",
    "        self.pore_distribution = pore_distribution1*a + pore_distribution2\n",
    "        self.pore_distribution /= max(self.pore_distribution)\n",
    "\n",
    "    \n",
    "    def calculate_isotherms_from_new_kernel(self):\n",
    "        self.n_s = np.zeros(len(self.pressures_s))\n",
    "        self.n_d = np.zeros(len(self.pressures_d))\n",
    "        for p_i in range(len(self.pressures_s)):\n",
    "            for d_i in range(len(self.pore_distribution)):\n",
    "                self.n_s[p_i] += self.pore_distribution[d_i] * self.data_sorb[d_i][p_i]\n",
    "                \n",
    "        for p_i in range(len(self.pressures_d)):\n",
    "            for d_i in range(len(self.pore_distribution)):\n",
    "                if not np.isnan(self.data_desorb[d_i][p_i]):\n",
    "                    self.n_d[p_i] += self.pore_distribution[d_i] * self.data_desorb[d_i][p_i]\n",
    "\n",
    "\n",
    "    def normalize_data(self):\n",
    "        self.n_s = self.n_s / self.n_s.max()\n",
    "        self.n_d = self.n_d / self.n_d.max()\n",
    "        \n",
    "    def interp_desorption(self):\n",
    "        self.n_d = np.interp(self.pressures_s, self.pressures_d, self.n_d)\n",
    "        self.pressures_d_current = self.pressures_s\n",
    "\n",
    "    \n",
    "    def plot_isotherm(self):\n",
    "        fig, axs = plt.subplots(2, 1)\n",
    "        axs[0].plot(self.pressures_s, self.n_s, marker=\".\", label=\"Сорбция\")\n",
    "        axs[0].plot(self.pressures_d_current, self.n_d, marker=\".\", label=\"Десорбция\")\n",
    "        axs[0].set_xlabel(\"Давление\")\n",
    "        axs[0].set_ylabel(\"Величина адсорбции\")\n",
    "        axs[1].plot(self.a_array, self.pore_distribution, marker=\".\", label=\"Размер пор\")\n",
    "        axs[1].set_ylabel(\"Функция распределения\")\n",
    "        axs[1].set_xlabel(\"Размер пор (нм)\")\n",
    "        axs[0].legend()\n",
    "        axs[1].legend()\n",
    "        plt.show()\n",
    "        return fig, axs\n",
    "    \n",
    "    def ani(self):\n",
    "        fig, axs = plt.subplots(2, 1, figsize=(8,6))\n",
    "        axs[0].set_ylim(0,2)\n",
    "        self.generate_pore_distribution(sigma1=0.1, sigma2=2, d0_1=1, d0_2=10, a=0.1)\n",
    "        self.calculate_isotherms_from_new_kernel()\n",
    "        sorb_line, = axs[0].plot(self.pressures_s, self.n_s, marker=\".\", label=\"Сорбция\")\n",
    "        desorb_line, = axs[0].plot(self.pressures_d, self.n_d, marker=\".\", label=\"Десорбция\")\n",
    "        distr_line, = axs[1].plot(self.a_array, self.pore_distribution, marker=\".\")\n",
    "\n",
    "        def animate(i):\n",
    "            self.generate_pore_distribution(sigma1=0.1, sigma2=2, d0_1=1, d0_2=10, a=i)\n",
    "            self.calculate_isotherms_from_new_kernel()\n",
    "            self.normalize_data()\n",
    "            sorb_line.set_ydata(self.n_s)  # update the data\n",
    "            desorb_line.set_ydata(self.n_d)  # update the data\n",
    "            distr_line.set_ydata(self.pore_distribution)  # update the data\n",
    "            return sorb_line, desorb_line, distr_line\n",
    "        \n",
    "    \n",
    "        anim = animation.FuncAnimation(fig, animate, np.linspace(0.1, 10, 250),\n",
    "                                      interval=25, blit=False)\n",
    "        writervideo = animation.FFMpegWriter(fps=30) \n",
    "        anim.save(\"anim.mp4\", writer=writervideo)\n",
    "        plt.show()\n",
    "\n",
    "\n",
    "    def generate_data_set(self):\n",
    "        d0_2_range = np.linspace(0.5, 10, 20)\n",
    "        a_range = np.linspace(0.5, 2, 10)\n",
    "        i = 0\n",
    "        for a in a_range:\n",
    "                for d0_2 in d0_2_range:\n",
    "                    i+=1\n",
    "                    self.generate_pore_distribution(sigma1=0.1, sigma2=2, d0_1=1, d0_2=d0_2, a=a)\n",
    "                    self.calculate_isotherms_from_new_kernel()\n",
    "                    self.interp_desorption()\n",
    "                    # \n",
    "                    # \n",
    "                    # point_isotherm = pygaps.PointIsotherm(\n",
    "                    # # First the pandas.DataFrame\n",
    "                    # isotherm_data=pd.DataFrame({\n",
    "                    #     'pressure' : np.concatenate((self.pressures_s, self.pressures_d), axis = 0),             # required\n",
    "                    #     'loading' :  np.concatenate((self.n_s, self.n_d), axis = 0),              # required\n",
    "                    # }),\n",
    "                    #     material='carbon',              # Required\n",
    "                    #     adsorbate='nitrogen',           # Required\n",
    "                    #     temperature=77, \n",
    "                    #     \n",
    "                    #     loading_key='loading',          # The loading column\n",
    "                    #     pressure_key='pressure',        # The pressure column\n",
    "                    #     d0_1 = d0_1,\n",
    "                    #     d0_2 = d0_2,\n",
    "                    #     \n",
    "                    # )\n",
    "                    # \n",
    "                    # point_isotherm.to_aif(f\"test_set/{i}.aif\")\n",
    "                    np.savez(f\"data/test_carbon/{i}\", a = self.pore_distribution, d0_2 = d0_2, n_s = gen.n_s, n_d = gen.n_d)\n",
    "    \n",
    "    \n",
    "    def save_isotherm_and_distribution(self, path):\n",
    "        np.savez(path, n_s = gen.n_s, n_d = gen.n_d, distr = self.pore_distribution)\n",
    "        \n"
   ],
   "metadata": {
    "collapsed": false,
    "ExecuteTime": {
     "end_time": "2023-11-30T03:16:49.503101200Z",
     "start_time": "2023-11-30T03:16:49.477436900Z"
    }
   },
   "id": "cb65238c-1f28-4ec7-a5f9-693819748243"
  },
  {
   "cell_type": "code",
   "execution_count": 3,
   "outputs": [],
   "source": [
    "gen = Generator(path_s=\"data/kernel_generated2/Kernel_s_Carbon-loc-isoth-N2.xlsx.npy\",\n",
    "                        path_d=\"data/kernel_generated2/Kernel_d_Carbon-loc-isoth-N2.xlsx.npy\",\n",
    "                        path_p_d=\"data/kernel_generated2/Pressure_d_Carbon-loc-isoth-N2.xlsx.npy\",\n",
    "                        path_p_s=\"data/kernel_generated2/Pressure_s_Carbon-loc-isoth-N2.xlsx.npy\",\n",
    "                        path_a=\"data/kernel_generated2/Size_Carbon-loc-isoth-N2.xlsx.npy\"\n",
    "                )\n",
    "gen.generate_data_set()\n",
    "# gen.generate_pore_distribution(sigma1=1, sigma2=2, d0_1=1, d0_2=20, a=1)\n",
    "# gen.calculate_isotherms_from_new_kernel()\n",
    "# gen.interp_desorption()\n",
    "# _ = gen.plot_isotherm()\n",
    "# gen.save_isotherm_and_distribution(\"data/inverse problem/1.npz\")\n",
    "# \n",
    "# gen.ani()"
   ],
   "metadata": {
    "collapsed": false,
    "ExecuteTime": {
     "end_time": "2023-11-30T03:18:55.217738300Z",
     "start_time": "2023-11-30T03:16:50.336794900Z"
    }
   },
   "id": "b93f8f157bc9ca31"
  },
  {
   "cell_type": "code",
   "execution_count": null,
   "outputs": [],
   "source": [
    "from matplotlib.widgets import Slider\n",
    " \n",
    "gen2.generate_pore_distribution(sigma1=0.1, sigma2=1, d0_1=1, d0_2=10, path_a=\"data/kernel_generated2/Size_Carbon-loc-isoth-N2.xlsx.npy\")\n",
    "gen2.calculate_isotherms_from_new_kernel(path_s=\"data/kernel_generated2/Kernel_s_Carbon-loc-isoth-N2.xlsx.npy\",\n",
    "                                           path_d=\"data/kernel_generated2/Kernel_d_Carbon-loc-isoth-N2.xlsx.npy\",\n",
    "                                         path_p=\"data/kernel_generated2/Pressure_d_Carbon-loc-isoth-N2.xlsx.npy\")\n",
    "gen2.interp_desorption()\n",
    " \n",
    "fig, ax = plt.subplots()\n",
    "fig.subplots_adjust(bottom=0.2)\n",
    "l, = ax.plot(gen2.pressures_s, gen2.n_s, marker=\".\")\n",
    " \n",
    "def onChange(value):\n",
    "    gen2.generate_pore_distribution(sigma1=0.1, sigma2=1, d0_1=1, d0_2=value, path_a=\"data/kernel_generated2/Size_Carbon-loc-isoth-N2.xlsx.npy\")\n",
    "    gen2.calculate_isotherms_from_new_kernel(path_s=\"data/kernel_generated2/Kernel_s_Carbon-loc-isoth-N2.xlsx.npy\",\n",
    "                                           path_d=\"data/kernel_generated2/Kernel_d_Carbon-loc-isoth-N2.xlsx.npy\",\n",
    "                                         path_p=\"data/kernel_generated2/Pressure_d_Carbon-loc-isoth-N2.xlsx.npy\")\n",
    "    gen2.interp_desorption()\n",
    "    l.set_ydata(gen2.n_s)\n",
    "    fig.canvas.draw_idle()\n",
    "    ax.set_ylim(0, 1.1*max(gen2.n_s))\n",
    " \n",
    "slideraxis = fig.add_axes([0.25, 0.1, 0.65, 0.03])\n",
    "slider = Slider(slideraxis, label='Frequency [Hz]',\n",
    "                valmin=0, valmax=10, valinit=5)\n",
    "slider.on_changed(onChange)\n",
    "plt.show()"
   ],
   "metadata": {
    "collapsed": false,
    "ExecuteTime": {
     "start_time": "2023-10-11T13:04:48.749296900Z"
    }
   },
   "id": "52cc3142ecdb3788"
  },
  {
   "cell_type": "code",
   "execution_count": null,
   "id": "1ebe9df0-633b-4a88-bc1e-2c896166ad89",
   "metadata": {
    "tags": [],
    "ExecuteTime": {
     "start_time": "2023-10-11T13:04:48.751297900Z"
    }
   },
   "outputs": [],
   "source": [
    "with open('new_data/new_a_array_s.npy', 'rb') as f:\n",
    "    new_a_array_s = np.load(f)\n",
    "with open('new_data/new_a_array_d.npy', 'rb') as f:\n",
    "    new_a_array_d = np.load(f)\n",
    "\n",
    "with open('new_data/new_isotherms_s.npy', 'rb') as f:\n",
    "    data_sorb = np.load(f)\n",
    "with open('new_data/new_isotherms_d.npy', 'rb') as f:\n",
    "    data_desorb = np.load(f)"
   ]
  },
  {
   "cell_type": "code",
   "execution_count": null,
   "id": "e4757f09-ba16-4a1f-9049-24fc9df58936",
   "metadata": {
    "tags": [],
    "ExecuteTime": {
     "end_time": "2023-10-11T13:04:48.805526100Z",
     "start_time": "2023-10-11T13:04:48.754297300Z"
    }
   },
   "outputs": [],
   "source": [
    "df1 = pd.DataFrame(data_sorb,\n",
    "                   columns = gen.pressures_s,\n",
    "                   index=new_a_array_s).T\n",
    "\n",
    "df2 = pd.DataFrame(data_desorb,\n",
    "                   columns = gen.pressures_s,\n",
    "                   index=new_a_array_s).T\n",
    "\n",
    "\n",
    "with pd.ExcelWriter('newT.xlsx') as writer:  \n",
    "    df1.to_excel(writer, sheet_name='sorb')\n",
    "    df2.to_excel(writer, sheet_name='desorb')"
   ]
  },
  {
   "cell_type": "code",
   "execution_count": null,
   "id": "00dfa8e1-a5c4-40f3-b094-aaf22c044355",
   "metadata": {
    "tags": [],
    "ExecuteTime": {
     "start_time": "2023-10-11T13:04:48.757299Z"
    }
   },
   "outputs": [],
   "source": [
    "def get_k_b(x1, y1, x2, y2):\n",
    "        k = (y1 - y2) / (x1 - x2)\n",
    "        b = y1 - k*x1\n",
    "        return k, b\n",
    "\n",
    "def find_nearests(a, n):\n",
    "    value1 = a[np.argsort(np.abs(a-n))[0]]\n",
    "    index1 = np.where(a == value1)[0]\n",
    "    if value1 > n:\n",
    "        index2 = index1 - 1\n",
    "    else:\n",
    "        index2 = index1 + 1\n",
    "    return index1, index2\n",
    "\n",
    "dataframe_sorb = pd.read_excel('SBA-15.xlsx', header=None, sheet_name=\"SBA-15\")\n",
    "# plt.plot(exp_p, exp_sorb, marker=\".\")\n",
    "# plt.show()\n",
    "exp_data = dataframe_sorb.to_numpy()\n",
    "exp_p = exp_data[:, 3][1:75]\n",
    "exp_sorb = exp_data[:, 4][1:75]\n",
    "new_exp_sorb = np.empty(gen.pressures_s.shape)\n",
    "# exp_scale = np.max(new_exp_sorb)\n",
    "# new_exp_sorb = new_exp_sorb / exp_scale\n",
    "\n",
    "for i in range(len(gen.pressures_s)):\n",
    "    index1, index2 = find_nearests(exp_p, gen.pressures_s[i])\n",
    "    x1 = exp_p[index1]\n",
    "    x2 = exp_p[index2]\n",
    "    y1 = exp_sorb[index1]\n",
    "    y2 = exp_sorb[index2]\n",
    "    k, b = get_k_b(x1, y1, x2, y2)\n",
    "    new_exp_sorb[i] = k * gen.pressures_s[i] + b"
   ]
  },
  {
   "cell_type": "code",
   "execution_count": null,
   "id": "9986de3a-c7f6-4c31-9f80-49955937060c",
   "metadata": {
    "tags": [],
    "ExecuteTime": {
     "start_time": "2023-10-11T13:04:48.758745Z"
    }
   },
   "outputs": [],
   "source": [
    "exp_scale = np.max(new_exp_sorb)\n",
    "new_exp_sorb = new_exp_sorb / exp_scale"
   ]
  },
  {
   "cell_type": "code",
   "execution_count": null,
   "id": "76593a8f-dd0b-44b8-ad61-2a51bac3eb16",
   "metadata": {
    "tags": [],
    "ExecuteTime": {
     "start_time": "2023-10-11T13:04:48.760744200Z"
    }
   },
   "outputs": [],
   "source": [
    "plt.plot(exp_p, exp_sorb / exp_scale, marker=\".\")\n",
    "plt.plot(gen.pressures_s, new_exp_sorb, marker=\".\")\n",
    "plt.show()"
   ]
  },
  {
   "cell_type": "code",
   "execution_count": null,
   "id": "8f4352a9-67d8-4a2a-9a73-9d12b37d1740",
   "metadata": {
    "tags": [],
    "ExecuteTime": {
     "start_time": "2023-10-11T13:04:48.763745900Z"
    }
   },
   "outputs": [],
   "source": [
    "delta_d = new_a_array_s[1:] - new_a_array_s[0:1] \n",
    "delta_d[0], new_a_array_s[0], new_a_array_s[1]"
   ]
  },
  {
   "cell_type": "code",
   "execution_count": null,
   "id": "53048c72-7c4d-4d46-9d5e-cb0451ed4a62",
   "metadata": {
    "tags": [],
    "ExecuteTime": {
     "start_time": "2023-10-11T13:04:48.766746100Z"
    }
   },
   "outputs": [],
   "source": [
    "# нормирование\n",
    "p_len = data_sorb.shape[1]\n",
    "d_len = data_sorb.shape[0]\n",
    "norm = np.zeros(p_len)\n",
    "data_sorb_normed = np.zeros(data_sorb.shape)\n",
    "nfit = np.zeros(p_len)\n",
    "f_k = np.ones(d_len)\n",
    "f_k_pr = np.ones(d_len)\n",
    "\n",
    "\n",
    "# for k in range(d_len):\n",
    "#     for i in range(p_len):\n",
    "#         norm[k] += data_sorb[k][i]\n",
    "\n",
    "for j in range(p_len):\n",
    "    for i in range(d_len):\n",
    "        norm[j] += data_sorb[i][j]\n",
    "\n",
    "\n",
    "for j in range(d_len):\n",
    "    for i in range(p_len):\n",
    "        if norm[i] != 0:\n",
    "            data_sorb_normed[j][i] = data_sorb[j][i] / norm[i]\n",
    "        else:\n",
    "            data_sorb_normed[j][i] = 0        \n",
    "\n",
    "for i in range(p_len):\n",
    "    for k in range(d_len):\n",
    "        nfit[i]=data_sorb_normed[k][i]*f_k[k]\n"
   ]
  },
  {
   "cell_type": "code",
   "execution_count": null,
   "id": "08b667c7-b53e-4295-8335-2b5a5028adb4",
   "metadata": {
    "tags": [],
    "ExecuteTime": {
     "start_time": "2023-10-11T13:04:48.770744600Z"
    }
   },
   "outputs": [],
   "source": [
    "nfit"
   ]
  },
  {
   "cell_type": "code",
   "execution_count": null,
   "id": "58297617-b4a1-4c3e-b19e-c98632baab2a",
   "metadata": {
    "tags": [],
    "ExecuteTime": {
     "start_time": "2023-10-11T13:04:48.774243100Z"
    }
   },
   "outputs": [],
   "source": [
    "for step in range(5):     \n",
    "        for i in range(p_len):\n",
    "            sum = 0\n",
    "            for k in range(d_len - 1):\n",
    "                sum += data_sorb_normed[k][i]*f_k[k] * delta_d[k]\n",
    "            nfit[i] = sum\n",
    "\n",
    "        for j in range(d_len - 1):\n",
    "            sum = 0\n",
    "            for i in range(p_len):\n",
    "                sum += nfit[i] / new_exp_sorb[i] * data_sorb_normed[j][i] * delta_d[k]\n",
    "            f_k[j] = f_k_pr[j] * sum\n",
    "            f_k_pr[j] = f_k[j]\n",
    "        \n",
    "    \n",
    "        \n",
    "        "
   ]
  },
  {
   "cell_type": "code",
   "execution_count": null,
   "id": "dc7efa38-f3fc-4558-ba1a-e6a80ab31514",
   "metadata": {
    "tags": [],
    "ExecuteTime": {
     "start_time": "2023-10-11T13:04:48.774243100Z"
    }
   },
   "outputs": [],
   "source": [
    "f_k"
   ]
  },
  {
   "cell_type": "code",
   "execution_count": null,
   "id": "5f9b2a06-2958-4e37-8554-069c1f55d3c3",
   "metadata": {
    "tags": [],
    "ExecuteTime": {
     "start_time": "2023-10-11T13:04:48.781356400Z"
    }
   },
   "outputs": [],
   "source": [
    "plt.plot(gen.pressures_s, nfit, marker=\".\")\n",
    "plt.show()"
   ]
  },
  {
   "cell_type": "code",
   "execution_count": null,
   "id": "d2ad179d-c841-4497-85e1-d540a68b8b57",
   "metadata": {
    "tags": [],
    "ExecuteTime": {
     "start_time": "2023-10-11T13:04:48.784356500Z"
    }
   },
   "outputs": [],
   "source": [
    "plt.plot(new_a_array_s, f_k, marker=\".\")\n",
    "plt.show()"
   ]
  },
  {
   "cell_type": "code",
   "execution_count": null,
   "id": "0c05c443-79a0-4997-87a7-4c2cfc9e0a8a",
   "metadata": {
    "ExecuteTime": {
     "start_time": "2023-10-11T13:04:48.786357300Z"
    }
   },
   "outputs": [],
   "source": []
  }
 ],
 "metadata": {
  "kernelspec": {
   "display_name": "Python 3 (ipykernel)",
   "language": "python",
   "name": "python3"
  },
  "language_info": {
   "codemirror_mode": {
    "name": "ipython",
    "version": 3
   },
   "file_extension": ".py",
   "mimetype": "text/x-python",
   "name": "python",
   "nbconvert_exporter": "python",
   "pygments_lexer": "ipython3",
   "version": "3.11.3"
  }
 },
 "nbformat": 4,
 "nbformat_minor": 5
}
