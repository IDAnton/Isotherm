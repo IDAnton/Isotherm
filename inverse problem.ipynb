{
 "cells": [
  {
   "cell_type": "code",
   "execution_count": 1,
   "id": "initial_id",
   "metadata": {
    "collapsed": true,
    "ExecuteTime": {
     "end_time": "2023-10-27T20:48:12.665187600Z",
     "start_time": "2023-10-27T20:48:12.109445500Z"
    }
   },
   "outputs": [],
   "source": [
    "import numpy as np\n",
    "import matplotlib.pyplot as plt"
   ]
  },
  {
   "cell_type": "code",
   "execution_count": 8,
   "outputs": [],
   "source": [
    "a = np.load(\"data/test_carbon/100.npz\")\n",
    "data = a[\"n_s\"]"
   ],
   "metadata": {
    "collapsed": false,
    "ExecuteTime": {
     "end_time": "2023-10-28T14:51:44.279422200Z",
     "start_time": "2023-10-28T14:51:44.273439300Z"
    }
   },
   "id": "ed286776ed768928"
  },
  {
   "cell_type": "code",
   "execution_count": 10,
   "outputs": [],
   "source": [
    "kernel = np.load(\"data/kernel_generated2/Kernel_s_Carbon-loc-isoth-N2.xlsx.npy\")"
   ],
   "metadata": {
    "collapsed": false,
    "ExecuteTime": {
     "end_time": "2023-10-28T14:57:47.279958600Z",
     "start_time": "2023-10-28T14:57:47.269616600Z"
    }
   },
   "id": "728c8398198128c2"
  },
  {
   "cell_type": "code",
   "execution_count": null,
   "outputs": [],
   "source": [],
   "metadata": {
    "collapsed": false
   },
   "id": "389bcc9a453b6301"
  },
  {
   "cell_type": "code",
   "execution_count": null,
   "outputs": [],
   "source": [
    "def kernel_loading(pore_dist):\n",
    "        return np.multiply(\n",
    "            kernel,\n",
    "            pore_dist[:, np.newaxis]\n",
    "        ).sum(axis=0)"
   ],
   "metadata": {
    "collapsed": false
   },
   "id": "7812e3abb04d0dbf"
  }
 ],
 "metadata": {
  "kernelspec": {
   "display_name": "Python 3",
   "language": "python",
   "name": "python3"
  },
  "language_info": {
   "codemirror_mode": {
    "name": "ipython",
    "version": 2
   },
   "file_extension": ".py",
   "mimetype": "text/x-python",
   "name": "python",
   "nbconvert_exporter": "python",
   "pygments_lexer": "ipython2",
   "version": "2.7.6"
  }
 },
 "nbformat": 4,
 "nbformat_minor": 5
}
