{
 "cells": [
  {
   "cell_type": "code",
   "execution_count": null,
   "id": "initial_id",
   "metadata": {
    "collapsed": true
   },
   "outputs": [],
   "source": [
    "import numpy as np\n",
    "import matplotlib.pyplot as plt\n",
    "from scipy import optimize"
   ]
  },
  {
   "cell_type": "code",
   "execution_count": null,
   "outputs": [],
   "source": [
    "a = np.load(\"data/inverse problem/1.npz\")\n",
    "data = a[\"n_s\"]\n",
    "distr = a[\"distr\"]"
   ],
   "metadata": {
    "collapsed": false
   },
   "id": "ed286776ed768928"
  },
  {
   "cell_type": "code",
   "execution_count": null,
   "outputs": [],
   "source": [
    "plt.plot(data, marker=\".\")"
   ],
   "metadata": {
    "collapsed": false
   },
   "id": "c6cb41f584dc2bc2"
  },
  {
   "cell_type": "code",
   "execution_count": null,
   "outputs": [],
   "source": [
    "kernel_carbon = np.load(\"data/kernel_generated2/Kernel_s_Carbon-loc-isoth-N2.xlsx.npy\")"
   ],
   "metadata": {
    "collapsed": false
   },
   "id": "728c8398198128c2"
  },
  {
   "cell_type": "code",
   "execution_count": null,
   "outputs": [],
   "source": [
    "pore_widths = np.load(\"data/kernel_generated2/Size_Carbon-loc-isoth-N2.xlsx.npy\")"
   ],
   "metadata": {
    "collapsed": false
   },
   "id": "389bcc9a453b6301"
  },
  {
   "cell_type": "code",
   "execution_count": null,
   "outputs": [],
   "source": [
    "def plot():\n",
    "    plt.grid()\n",
    "    plt.legend()\n",
    "    plt.show()\n",
    "\n",
    "\n",
    "def fit(loading, kernel, alpha=0, beta=0):\n",
    "    def kernel_loading(pore_dist):\n",
    "            return np.multiply(\n",
    "                kernel,\n",
    "                pore_dist[:, np.newaxis]\n",
    "            ).sum(axis=0)\n",
    "    \n",
    "    def sum_squares(pore_dist):\n",
    "        S_tot = np.sum(pore_dist)\n",
    "        w = pore_dist / S_tot\n",
    "        return np.square( \n",
    "            np.subtract(\n",
    "                kernel_loading(pore_dist),\n",
    "                loading)).sum(axis=0) + alpha*np.sum(w*np.log(w))/len(pore_dist) + beta*np.sum(np.square(pore_dist))\n",
    "    \n",
    "    cons = [{\n",
    "        'type': 'ineq',\n",
    "        'fun': lambda x: x,\n",
    "    }]\n",
    "    guess = np.array([0.001 for pore in pore_widths])\n",
    "    bounds = [(0, None) for pore in pore_widths]\n",
    "    result = optimize.minimize(\n",
    "        sum_squares,\n",
    "        guess,\n",
    "        method='SLSQP',\n",
    "        bounds=bounds,\n",
    "        constraints=cons,\n",
    "        options={'ftol': 1e-04}\n",
    "    )\n",
    "    return result"
   ],
   "metadata": {
    "collapsed": false
   },
   "id": "7812e3abb04d0dbf"
  },
  {
   "cell_type": "code",
   "execution_count": null,
   "outputs": [],
   "source": [
    "data_with_error = data * np.random.normal(loc=1, scale=0.01, size=len(data))\n",
    "plt.plot(data, marker=\".\", label=\"original\")\n",
    "plt.plot(data_with_error, marker=\".\", label=\"with error\")\n",
    "plot()"
   ],
   "metadata": {
    "collapsed": false
   },
   "id": "1f342f725fee9c6e"
  },
  {
   "cell_type": "markdown",
   "source": [
    "## Without regularization"
   ],
   "metadata": {
    "collapsed": false
   },
   "id": "ab4148cc0bdeee0c"
  },
  {
   "cell_type": "code",
   "execution_count": null,
   "outputs": [],
   "source": [
    "res1 = fit(data, kernel_carbon)\n",
    "res2 = fit(data_with_error, kernel_carbon)"
   ],
   "metadata": {
    "collapsed": false
   },
   "id": "5f53887c90e21aa7"
  },
  {
   "cell_type": "code",
   "execution_count": null,
   "outputs": [],
   "source": [
    "plt.plot(pore_widths, res1.x, marker=\".\", label=\"prediction\")\n",
    "plt.plot(pore_widths, res2.x, marker=\".\", label=\"prediction with error\")\n",
    "plt.plot(pore_widths, distr, marker=\".\", label=\"real\")\n",
    "plot()"
   ],
   "metadata": {
    "collapsed": false
   },
   "id": "e52e5ef0f225e789"
  },
  {
   "cell_type": "code",
   "execution_count": null,
   "outputs": [],
   "source": [],
   "metadata": {
    "collapsed": false
   },
   "id": "a54eca495e2054ea"
  },
  {
   "cell_type": "code",
   "execution_count": null,
   "outputs": [],
   "source": [
    "res3 = fit(data, kernel_carbon, alpha=0.01, beta=0.01)\n",
    "res4 = fit(data_with_error, kernel_carbon, alpha=0.01, beta=0.01)"
   ],
   "metadata": {
    "collapsed": false
   },
   "id": "a867d22d3fd2f684"
  },
  {
   "cell_type": "code",
   "execution_count": null,
   "outputs": [],
   "source": [
    "#plt.plot(pore_widths, res3.x, marker=\".\", label=\"prediction\")\n",
    "plt.plot(pore_widths, res4.x, marker=\".\", label=\"prediction with error\")\n",
    "plt.plot(pore_widths, distr, marker=\".\", label=\"real\")\n",
    "plot()"
   ],
   "metadata": {
    "collapsed": false
   },
   "id": "152921fa798f1e7a"
  },
  {
   "cell_type": "code",
   "execution_count": null,
   "outputs": [],
   "source": [
    "kernel2 = np.load(\"data/kernel_generated2/Kernel_s_Silica-loc-isoth1.xlsx.npy\")"
   ],
   "metadata": {
    "collapsed": false
   },
   "id": "3265ce1d4c3aa0e1"
  },
  {
   "cell_type": "code",
   "execution_count": null,
   "outputs": [],
   "source": [
    "exp_data = np.loadtxt(\"data/real/carbon.txt\")\n",
    "p_exp = np.empty(len(exp_data))\n",
    "volume_exp = np.empty(len(exp_data))\n",
    "for i in range(len(exp_data)):\n",
    "    p_exp[i] = exp_data[i][0]\n",
    "    volume_exp[i] = exp_data[i][1]\n",
    "j = np.argmax(volume_exp)\n",
    "volume_exp_sorb = volume_exp[:j]\n",
    "p_exp_sorb = p_exp[:j]\n",
    "plt.plot(p_exp_sorb, volume_exp_sorb, marker=\".\", label=\"real\")\n",
    "plot()"
   ],
   "metadata": {
    "collapsed": false
   },
   "id": "fe7c89bbf29602ab"
  },
  {
   "cell_type": "code",
   "execution_count": null,
   "outputs": [],
   "source": [
    "kernel_p = np.load(\"data/kernel_generated2/Pressure_s_Carbon-loc-isoth-N2.xlsx.npy\")\n",
    "p_exp_sorb_interp = np.interp(kernel_p, p_exp_sorb, volume_exp_sorb)\n",
    "plt.plot(kernel_p, p_exp_sorb_interp, marker=\".\")\n",
    "plt.plot(p_exp_sorb, volume_exp_sorb, marker=\".\")\n",
    "plot()"
   ],
   "metadata": {
    "collapsed": false
   },
   "id": "167d0c84be852aa5"
  },
  {
   "cell_type": "code",
   "execution_count": 48,
   "outputs": [
    {
     "name": "stderr",
     "output_type": "stream",
     "text": [
      "C:\\Users\\ivano\\AppData\\Local\\Temp\\ipykernel_8660\\1021987262.py:20: RuntimeWarning: divide by zero encountered in log\n",
      "  loading)).sum(axis=0) + alpha*np.sum(w*np.log(w))/len(pore_dist) + beta*np.sum(np.square(pore_dist))\n",
      "C:\\Users\\ivano\\AppData\\Local\\Temp\\ipykernel_8660\\1021987262.py:20: RuntimeWarning: invalid value encountered in multiply\n",
      "  loading)).sum(axis=0) + alpha*np.sum(w*np.log(w))/len(pore_dist) + beta*np.sum(np.square(pore_dist))\n"
     ]
    }
   ],
   "source": [
    "res_exp = fit(p_exp_sorb_interp, kernel_carbon, alpha=0.01, beta=0.01)"
   ],
   "metadata": {
    "collapsed": false,
    "ExecuteTime": {
     "end_time": "2023-11-09T14:07:22.294669300Z",
     "start_time": "2023-11-09T14:06:16.158972700Z"
    }
   },
   "id": "d1e4f5befaef89b0"
  },
  {
   "cell_type": "code",
   "execution_count": 51,
   "outputs": [],
   "source": [
    "real_distr = np.loadtxt(\"data/real/carbon_distr.txt\", skiprows=4, unpack=True)"
   ],
   "metadata": {
    "collapsed": false,
    "ExecuteTime": {
     "end_time": "2023-11-09T14:08:23.414590700Z",
     "start_time": "2023-11-09T14:08:23.405155300Z"
    }
   },
   "id": "cefd294af6cab15b"
  },
  {
   "cell_type": "code",
   "execution_count": 53,
   "outputs": [
    {
     "data": {
      "text/plain": "<Figure size 640x480 with 1 Axes>",
      "image/png": "[encoded data removed]"
     },
     "metadata": {},
     "output_type": "display_data"
    }
   ],
   "source": [
    "plt.plot(pore_widths, res_exp.x, marker=\".\", label=\"my\")\n",
    "plt.plot(real_distr[0], real_distr[4], marker=\".\", label=\"real\")\n",
    "\n",
    "plot()"
   ],
   "metadata": {
    "collapsed": false,
    "ExecuteTime": {
     "end_time": "2023-11-09T14:08:48.402853100Z",
     "start_time": "2023-11-09T14:08:48.175299300Z"
    }
   },
   "id": "7b2ac89baa51424d"
  },
  {
   "cell_type": "code",
   "execution_count": null,
   "outputs": [],
   "source": [],
   "metadata": {
    "collapsed": false
   },
   "id": "5e961710836c9670"
  }
 ],
 "metadata": {
  "kernelspec": {
   "display_name": "Python 3",
   "language": "python",
   "name": "python3"
  },
  "language_info": {
   "codemirror_mode": {
    "name": "ipython",
    "version": 2
   },
   "file_extension": ".py",
   "mimetype": "text/x-python",
   "name": "python",
   "nbconvert_exporter": "python",
   "pygments_lexer": "ipython2",
   "version": "2.7.6"
  }
 },
 "nbformat": 4,
 "nbformat_minor": 5
}
