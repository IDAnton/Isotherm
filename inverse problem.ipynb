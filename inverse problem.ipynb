{
 "cells": [
  {
   "cell_type": "code",
   "execution_count": 1,
   "outputs": [],
   "source": [
    "import numpy as np\n",
    "import matplotlib.pyplot as plt\n",
    "import copy\n",
    "\n",
    "from generator import Generator\n",
    "from inverse import fit_SLSQP, fit_matrix\n",
    "\n",
    "def plot():\n",
    "    plt.grid()\n",
    "    plt.legend()\n",
    "    plt.show()"
   ],
   "metadata": {
    "collapsed": false,
    "ExecuteTime": {
     "end_time": "2023-12-06T09:27:18.277568500Z",
     "start_time": "2023-12-06T09:27:16.845924100Z"
    }
   },
   "id": "f92477c2cd9ffd45"
  },
  {
   "cell_type": "markdown",
   "source": [
    "### Генерируем изотерму, решаем для нее обратную задачу"
   ],
   "metadata": {
    "collapsed": false
   },
   "id": "458645f14769b086"
  },
  {
   "cell_type": "code",
   "execution_count": 2,
   "outputs": [],
   "source": [
    "gen = Generator(path_s=\"data/initial kernels/Kernel_Carbon_Adsorption.npy\",\n",
    "                        path_d=\"data/initial kernels/Kernel_Carbon_Desorption.npy\",\n",
    "                        path_p_d=\"data/initial kernels/Pressure_Carbon.npy\",\n",
    "                        path_p_s=\"data/initial kernels/Pressure_Carbon.npy\",\n",
    "                        path_a=\"data/initial kernels/Size_Kernel_Carbon_Adsorption.npy\"\n",
    "                )\n",
    "gen.generate_pore_distribution(sigma1=1, sigma2=2, d0_1=1, d0_2=20, a=1)\n",
    "gen.calculate_isotherms()\n",
    "gen.interp_desorption()\n",
    "_ = gen.plot_isotherm()"
   ],
   "metadata": {
    "collapsed": false,
    "ExecuteTime": {
     "end_time": "2023-12-06T09:27:19.631249700Z",
     "start_time": "2023-12-06T09:27:18.281569900Z"
    }
   },
   "id": "a775204c097ace97"
  },
  {
   "cell_type": "code",
   "execution_count": 3,
   "outputs": [],
   "source": [
    "kernel_carbon = np.load(\"data/initial kernels/Kernel_Carbon_Adsorption.npy\")\n",
    "pore_widths = np.load(\"data/initial kernels/Size_Kernel_Carbon_Adsorption.npy\")"
   ],
   "metadata": {
    "collapsed": false,
    "ExecuteTime": {
     "end_time": "2023-12-06T09:27:19.631249700Z",
     "start_time": "2023-12-06T09:27:19.622244300Z"
    }
   },
   "id": "3b62c855cc8733d2"
  },
  {
   "cell_type": "code",
   "execution_count": 4,
   "outputs": [
    {
     "name": "stderr",
     "output_type": "stream",
     "text": [
      "C:\\Users\\ivano\\PycharmProjects\\isotherm\\inverse.py:19: RuntimeWarning: divide by zero encountered in log\n",
      "  adsorption)).sum(axis=0) + alpha * np.sum(w * np.log(w)) / len(pore_dist) + beta * np.sum(\n",
      "C:\\Users\\ivano\\PycharmProjects\\isotherm\\inverse.py:19: RuntimeWarning: invalid value encountered in multiply\n",
      "  adsorption)).sum(axis=0) + alpha * np.sum(w * np.log(w)) / len(pore_dist) + beta * np.sum(\n"
     ]
    }
   ],
   "source": [
    "fit1 = fit_SLSQP(adsorption=gen.n_s, kernel=kernel_carbon)\n",
    "fit2 = fit_matrix(adsorption=gen.n_s, kernel=kernel_carbon.T)"
   ],
   "metadata": {
    "collapsed": false,
    "ExecuteTime": {
     "end_time": "2023-12-06T09:27:21.515652200Z",
     "start_time": "2023-12-06T09:27:19.625255300Z"
    }
   },
   "id": "fea4ee157767af6d"
  },
  {
   "cell_type": "code",
   "execution_count": 6,
   "outputs": [],
   "source": [
    "plt.plot(pore_widths, fit1.x, marker=\".\", label=\"SLSQP\")\n",
    "plt.plot(pore_widths, fit2[0], marker=\".\", label=\"Matrix\")\n",
    "plt.plot(pore_widths, gen.pore_distribution, marker=\".\", label=\"Generated isotherm\")\n",
    "plot()"
   ],
   "metadata": {
    "collapsed": false,
    "ExecuteTime": {
     "end_time": "2023-12-06T09:27:25.774358300Z",
     "start_time": "2023-12-06T09:27:24.500728Z"
    }
   },
   "id": "9fc93077aaca60b4"
  },
  {
   "cell_type": "markdown",
   "source": [
    "### Добавляем случайного шума к сгенерированной изотерме"
   ],
   "metadata": {
    "collapsed": false
   },
   "id": "5dc9d2c221a40a09"
  },
  {
   "cell_type": "code",
   "execution_count": 17,
   "outputs": [],
   "source": [
    "n_s_with_noise = gen.n_s * np.random.normal(loc=1, scale=0.015, size=len(gen.n_s))\n",
    "plt.plot(gen.pressures_s, gen.n_s, marker=\".\", label=\"generated\")\n",
    "plt.plot(gen.pressures_s, n_s_with_noise, marker=\".\", label=\"generated with noise\")\n",
    "plot()"
   ],
   "metadata": {
    "collapsed": false,
    "ExecuteTime": {
     "end_time": "2023-12-06T09:33:42.868123300Z",
     "start_time": "2023-12-06T09:33:38.341906Z"
    }
   },
   "id": "62539a0fb233af64"
  },
  {
   "cell_type": "code",
   "execution_count": 18,
   "outputs": [],
   "source": [
    "# решаем задачу с шумом\n",
    "fit1_noise = fit_SLSQP(adsorption=n_s_with_noise, kernel=kernel_carbon)\n",
    "fit2_noise = fit_matrix(adsorption=n_s_with_noise, kernel=kernel_carbon.T, rcond=0)\n",
    "plt.plot(pore_widths, fit1_noise.x, marker=\".\", label=\"SLSQP\")\n",
    "plt.plot(pore_widths, fit2_noise[0], marker=\".\", label=\"Matrix\")\n",
    "plt.plot(pore_widths, gen.pore_distribution, marker=\".\", label=\"generated isotherm\")\n",
    "plot()"
   ],
   "metadata": {
    "collapsed": false,
    "ExecuteTime": {
     "end_time": "2023-12-06T09:33:47.953488400Z",
     "start_time": "2023-12-06T09:33:44.277358900Z"
    }
   },
   "id": "748771e45d77531f"
  },
  {
   "cell_type": "code",
   "execution_count": 26,
   "outputs": [],
   "source": [
    "# строим изотермы по полученному распределению пор\n",
    "gen1 = copy.deepcopy(gen)\n",
    "gen2 = copy.deepcopy(gen)\n",
    "gen1.pore_distribution = fit1_noise.x\n",
    "gen2.pore_distribution = fit2_noise[0]\n",
    "gen1.calculate_isotherms()\n",
    "gen2.calculate_isotherms()\n",
    "plt.plot(gen1.pressures_s, gen1.n_s, marker=\".\", label=\"SLSQP\")\n",
    "plt.plot(gen2.pressures_s, gen2.n_s, marker=\".\", label=\"Matrix\")\n",
    "plt.plot(gen.pressures_s, gen.n_s, marker=\".\", label=\"Generated isotherm\")\n",
    "plot()"
   ],
   "metadata": {
    "collapsed": false,
    "ExecuteTime": {
     "end_time": "2023-12-06T09:37:19.796757Z",
     "start_time": "2023-12-06T09:37:02.130330100Z"
    }
   },
   "id": "a250b6cb004cc958"
  },
  {
   "cell_type": "markdown",
   "source": [
    "### Теперь с экспериментальной изотермой угля"
   ],
   "metadata": {
    "collapsed": false
   },
   "id": "5ce1ec7931b78f63"
  },
  {
   "cell_type": "code",
   "execution_count": 27,
   "outputs": [],
   "source": [
    "exp_data = np.loadtxt(\"data/real/carbon.txt\")\n",
    "p_exp = np.empty(len(exp_data))\n",
    "n_exp = np.empty(len(exp_data))\n",
    "for i in range(len(exp_data)):  # Загружаем адсорбцию и давления\n",
    "    p_exp[i] = exp_data[i][0]\n",
    "    n_exp[i] = exp_data[i][1]\n",
    "j = np.argmax(n_exp)  # Отделяем адсорбционную ветку\n",
    "n_s_exp_raw = n_exp[:j]\n",
    "p_exp_sorb = p_exp[:j]\n",
    "plt.plot(p_exp_sorb, n_s_exp_raw, marker=\".\", label=\"real carbon isotherm\")\n",
    "plot()"
   ],
   "metadata": {
    "collapsed": false,
    "ExecuteTime": {
     "end_time": "2023-12-06T09:37:31.624368300Z",
     "start_time": "2023-12-06T09:37:29.739977500Z"
    }
   },
   "id": "fe7c89bbf29602ab"
  },
  {
   "cell_type": "code",
   "execution_count": 62,
   "outputs": [],
   "source": [
    "# интерполируем экспериментальную изотерму под давления кернала\n",
    "n_s_exp_uncut = np.interp(gen.pressures_s, p_exp_sorb, n_s_exp_raw)\n",
    "min_exp_pressure_i = np.where(n_s_exp_uncut==min(n_s_exp_uncut))[0][-1]  # индекс первого давления в эксп\n",
    "max_exp_pressure_i = sorted((np.abs(gen.pressures_s - p_exp_sorb[-1])).argsort()[:1], reverse=False)[0]  # индекс последнего давления в эксп\n",
    "n_s_exp = n_s_exp_uncut[min_exp_pressure_i:max_exp_pressure_i]\n",
    "pressures_s_cut = gen.pressures_s[min_exp_pressure_i:max_exp_pressure_i]\n",
    "cut_kernel = (kernel_carbon.T[min_exp_pressure_i:max_exp_pressure_i]).T  # отрезаем от кернела давления которых нет в эксперименте\n",
    "plt.plot(pressures_s_cut, n_s_exp, marker=\".\", label=\"Interpolated real carbon isotherm\")\n",
    "plot()"
   ],
   "metadata": {
    "collapsed": false,
    "ExecuteTime": {
     "end_time": "2023-12-06T10:03:14.569324900Z",
     "start_time": "2023-12-06T10:03:09.681667900Z"
    }
   },
   "id": "167d0c84be852aa5"
  },
  {
   "cell_type": "code",
   "execution_count": 63,
   "outputs": [
    {
     "name": "stderr",
     "output_type": "stream",
     "text": [
      "C:\\Users\\ivano\\PycharmProjects\\isotherm\\inverse.py:19: RuntimeWarning: divide by zero encountered in log\n",
      "  adsorption)).sum(axis=0) + alpha * np.sum(w * np.log(w)) / len(pore_dist) + beta * np.sum(\n",
      "C:\\Users\\ivano\\PycharmProjects\\isotherm\\inverse.py:19: RuntimeWarning: invalid value encountered in multiply\n",
      "  adsorption)).sum(axis=0) + alpha * np.sum(w * np.log(w)) / len(pore_dist) + beta * np.sum(\n"
     ]
    }
   ],
   "source": [
    "fit1_exp= fit_SLSQP(adsorption=n_s_exp, kernel=cut_kernel)\n",
    "fit2_exp = fit_matrix(adsorption=n_s_exp, kernel=cut_kernel.T, rcond=0)"
   ],
   "metadata": {
    "collapsed": false,
    "ExecuteTime": {
     "end_time": "2023-12-06T10:03:19.613976300Z",
     "start_time": "2023-12-06T10:03:17.679902600Z"
    }
   },
   "id": "d1e4f5befaef89b0"
  },
  {
   "cell_type": "code",
   "execution_count": 69,
   "outputs": [],
   "source": [
    "real_distr = np.loadtxt(\"data/real/carbon_distr.txt\", skiprows=4, unpack=True)\n",
    "plt.plot(pore_widths, fit1_exp.x, marker=\".\", label=\"SLSQP\")\n",
    "#plt.plot(pore_widths, fit2_exp[0], marker=\".\", label=\"Matrix\") # с матричным все очень плохо\n",
    "plt.plot(real_distr[0], real_distr[4], marker=\".\", label=\"Real\")\n",
    "plt.yscale(\"log\")\n",
    "plot()"
   ],
   "metadata": {
    "collapsed": false,
    "ExecuteTime": {
     "end_time": "2023-12-06T10:04:51.226772500Z",
     "start_time": "2023-12-06T10:04:43.461938800Z"
    }
   },
   "id": "cefd294af6cab15b"
  },
  {
   "cell_type": "code",
   "execution_count": 68,
   "outputs": [],
   "source": [
    "# строим изотермы по полученному распределению пор\n",
    "gen1_exp = copy.deepcopy(gen)\n",
    "gen2_exp = copy.deepcopy(gen)\n",
    "gen1_exp.pore_distribution = fit1_exp.x\n",
    "gen2_exp.pore_distribution = fit2_exp[0]\n",
    "gen1_exp.calculate_isotherms()\n",
    "gen2_exp.calculate_isotherms()\n",
    "plt.plot(gen1_exp.pressures_s[min_exp_pressure_i:max_exp_pressure_i], gen1_exp.n_s[min_exp_pressure_i:max_exp_pressure_i], marker=\".\", label=\"SLSQP\")\n",
    "plt.plot(gen2_exp.pressures_s[min_exp_pressure_i:max_exp_pressure_i], gen2_exp.n_s[min_exp_pressure_i:max_exp_pressure_i], marker=\".\", label=\"Matrix\")\n",
    "plt.plot(pressures_s_cut, n_s_exp, marker=\".\", label=\"Interpolated real carbon isotherm\")\n",
    "plot()"
   ],
   "metadata": {
    "collapsed": false,
    "ExecuteTime": {
     "end_time": "2023-12-06T10:04:41.809942200Z",
     "start_time": "2023-12-06T10:04:34.001588700Z"
    }
   },
   "id": "b6ab71e4c0c1b1ea"
  },
  {
   "cell_type": "code",
   "execution_count": null,
   "outputs": [],
   "source": [
    "plt.plot(pore_widths, res_exp.x, marker=\".\", label=\"my\")\n",
    "plt.plot(real_distr[0], real_distr[4], marker=\".\", label=\"real\")\n",
    "plt.yscale(\"log\")\n",
    "plot()"
   ],
   "metadata": {
    "collapsed": false,
    "ExecuteTime": {
     "end_time": "2023-12-06T09:27:31.378582200Z",
     "start_time": "2023-12-06T09:27:31.369584100Z"
    }
   },
   "id": "7b2ac89baa51424d"
  },
  {
   "cell_type": "code",
   "execution_count": null,
   "outputs": [],
   "source": [
    "res_exp = fit(p_exp_sorb_interp, kernel_carbon, alpha=0.01, beta=0)\n",
    "plt.plot(pore_widths, res_exp.x, marker=\".\", label=\"my\")\n",
    "plt.plot(real_distr[0], real_distr[4], marker=\".\", label=\"real\")\n",
    "plt.yscale(\"log\")\n",
    "plot()"
   ],
   "metadata": {
    "collapsed": false,
    "ExecuteTime": {
     "start_time": "2023-12-06T09:27:31.371584600Z"
    }
   },
   "id": "5e961710836c9670"
  },
  {
   "cell_type": "code",
   "execution_count": null,
   "outputs": [],
   "source": [
    "res_exp = fit(p_exp_sorb_interp, kernel_carbon, alpha=0, beta=0)\n",
    "plt.plot(pore_widths, res_exp.x, marker=\".\", label=\"my\")\n",
    "plt.plot(real_distr[0], real_distr[4], marker=\".\", label=\"real\")\n",
    "plt.yscale(\"log\")\n",
    "plot()"
   ],
   "metadata": {
    "collapsed": false,
    "ExecuteTime": {
     "start_time": "2023-12-06T09:27:31.375581100Z"
    }
   },
   "id": "e9c95ff2e1f87985"
  },
  {
   "cell_type": "code",
   "execution_count": null,
   "outputs": [],
   "source": [],
   "metadata": {
    "collapsed": false,
    "ExecuteTime": {
     "start_time": "2023-12-06T09:27:31.377606800Z"
    }
   },
   "id": "44437a4ed50e0721"
  }
 ],
 "metadata": {
  "kernelspec": {
   "display_name": "Python 3",
   "language": "python",
   "name": "python3"
  },
  "language_info": {
   "codemirror_mode": {
    "name": "ipython",
    "version": 2
   },
   "file_extension": ".py",
   "mimetype": "text/x-python",
   "name": "python",
   "nbconvert_exporter": "python",
   "pygments_lexer": "ipython2",
   "version": "2.7.6"
  }
 },
 "nbformat": 4,
 "nbformat_minor": 5
}
