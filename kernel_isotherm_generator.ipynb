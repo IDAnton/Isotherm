{
 "cells": [
  {
   "cell_type": "code",
   "execution_count": 27,
   "id": "47ccd3cb-ed19-440b-885c-1082e7d9c7b6",
   "metadata": {
    "tags": []
   },
   "outputs": [],
   "source": [
    "import numpy as np\n",
    "import pandas as pd\n",
    "import matplotlib.pyplot as plt\n",
    "import matplotlib as mpl\n",
    "\n",
    "from datetime import datetime\n",
    "mpl.use('TkAgg')"
   ]
  },
  {
   "cell_type": "code",
   "execution_count": 87,
   "id": "0500e0ed-dd19-4207-b4de-5e7796b2add6",
   "metadata": {
    "tags": []
   },
   "outputs": [],
   "source": [
    "dataframe_sorb = pd.read_excel('Silica-loc-isoth1.xlsx', header=None, sheet_name=\"Desorption\")\n",
    "P_START = 21  # индекс минимального давления\n",
    "p_array = np.array(dataframe_sorb[0][P_START:])  # сетка давлений\n",
    "a_array = np.array(dataframe_sorb.iloc[0][1:])  # сетка размеров пор\n",
    "\n",
    "array_of_isotherms = np.empty((len(a_array), len(p_array)))  # массив изотерм с i-м размером пор\n",
    "for i in range(len(a_array)):  # заполняем массив изотерм из таблицы pandas\n",
    "    array_of_isotherms[i] = dataframe_sorb[i+1][P_START:]\n",
    "    \n",
    "pore_size_jump_pressure = pd.DataFrame(columns=['pore_size', 'pressure_of_jump'])  # таблица размер пор - давление при котором происходит скачок в изотерме с данным размером пор\n",
    "for i, sorption_a in enumerate(array_of_isotherms):\n",
    "    sorption_delta_array = sorption_a[1:] - sorption_a[:-1]\n",
    "    jump_i = np.argmax(sorption_delta_array)  # индекс скачка \n",
    "    jump_pressure = p_array[jump_i]  #  давление скачка\n",
    "    pore_size_jump_pressure.loc[len(pore_size_jump_pressure.index)] = [a_array[i], jump_pressure]\n",
    "\n",
    "fig, ax=plt.subplots()\n",
    "ax.plot(pore_size_jump_pressure[\"pressure_of_jump\"], pore_size_jump_pressure[\"pore_size\"], marker=\".\", label=\"Jump pressure (pore size)\")\n",
    "ax.set_ylabel(\"pore size (nm)\")\n",
    "ax.set_xlabel(\"jump pressure\")\n",
    "legend = ax.legend(loc='upper right')\n",
    "plt.show()"
   ]
  },
  {
   "cell_type": "code",
   "execution_count": 88,
   "id": "4c9e91b9-b510-4ce4-8a8f-c29f9b6577ac",
   "metadata": {
    "tags": []
   },
   "outputs": [],
   "source": [
    "new_a_array = np.interp(p_array,  pore_size_jump_pressure[\"pressure_of_jump\"].to_numpy(), pore_size_jump_pressure[\"pore_size\"].to_numpy())  # получаем размеры пор в которых происходит скачок\n",
    "# интерполяцией для кажой точки из сетки давлений\n",
    "new_a_array = new_a_array[:jump_i+1]  # обрезаем массив пор так как для последних давлений не было изотерм со скачками\n",
    "\n",
    "fig, ax=plt.subplots()\n",
    "ax.plot(pore_size_jump_pressure[\"pressure_of_jump\"], pore_size_jump_pressure[\"pore_size\"], marker=\"o\", label=\"Jump pressure (pore size)\")\n",
    "ax.plot(p_array[:jump_i+1], new_a_array, marker=\"*\", label=\"Jump pressure (pore size), interp\")\n",
    "ax.set_xlabel(\"pore size (nm)\")\n",
    "ax.set_ylabel(\"jump pressure\")\n",
    "legend = ax.legend(loc='upper right')\n",
    "plt.show()"
   ]
  },
  {
   "cell_type": "code",
   "execution_count": 89,
   "id": "b4d294bb-8814-4b15-9832-23d5c5a3accf",
   "metadata": {
    "tags": []
   },
   "outputs": [],
   "source": [
    "result = []\n",
    "A_START = 20\n",
    "a_train = a_array[A_START:]\n",
    "step_array_train = pore_size_jump_pressure[\"pressure_of_jump\"].to_numpy()[A_START:]\n",
    "for step_i in range(1, len(new_a_array)-1): \n",
    "    cuurent_a_size = new_a_array[step_i]\n",
    "    new_isotherms = np.zeros(shape=p_array.shape)\n",
    "    j1, j2  = (np.abs(a_train - cuurent_a_size)).argsort()[:2]\n",
    "    def get_k_b(x1, y1, x2, y2):\n",
    "        k = (y1 - y2) / (x1 - x2)\n",
    "        b = y1 - k*x1\n",
    "        return k, b\n",
    "\n",
    "    step1 = min(np.where(p_array == step_array_train[j2])[0][0], np.where(p_array == step_array_train[j1])[0][0])\n",
    "    step2 = max(np.where(p_array == step_array_train[j2])[0][0], np.where(p_array == step_array_train[j1])[0][0])\n",
    "\n",
    "    for i in range(len(p_array[:step1+1])):\n",
    "        k, b = get_k_b(a_train[j1], dataframe_sorb[j1+1+A_START][P_START+i], a_train[j2], dataframe_sorb[j2+1+A_START][P_START+i])\n",
    "        new_isotherms[i] = cuurent_a_size * k + b\n",
    "\n",
    "    for i in range(len(p_array[step2+1:])):\n",
    "        k, b = get_k_b(a_train[j1], dataframe_sorb[j1+1+A_START][P_START+i+step2+1], a_train[j2], dataframe_sorb[j2+1+A_START][P_START+i+step2+1])\n",
    "        new_isotherms[i+step2+1] = cuurent_a_size * k + b\n",
    "\n",
    "\n",
    "\n",
    "    for i in range(step1+1, step_i+1):\n",
    "        k, b = get_k_b(p_array[i-2], new_isotherms[i-2], p_array[i-1], new_isotherms[i-1])\n",
    "        new_isotherms[i] = p_array[i] * k + b\n",
    "\n",
    "    for i in range(step2, step_i, -1):\n",
    "        k, b = get_k_b(p_array[i+2], new_isotherms[i+2], p_array[i+1], new_isotherms[i+1])\n",
    "        new_isotherms[i] = p_array[i] * k + b\n",
    "        \n",
    "    result.append(new_isotherms)"
   ]
  },
  {
   "cell_type": "code",
   "execution_count": 114,
   "id": "80f44ddd-2384-4e01-96dd-40a73384dabe",
   "metadata": {
    "tags": []
   },
   "outputs": [],
   "source": [
    "def get_k_b(x1, y1, x2, y2):\n",
    "    k = (y1 - y2) / (x1 - x2)\n",
    "    b = y1 - k*x1\n",
    "    return k, b\n",
    "\n",
    "result = []\n",
    "A_START = 20\n",
    "a_train = a_array[A_START:]\n",
    "step_array_train = pore_size_jump_pressure[\"pressure_of_jump\"].to_numpy()[A_START:]\n",
    "for step_i in range(1, len(new_a_array)-1): \n",
    "    curent_a_size = new_a_array[step_i]\n",
    "    new_isotherms = np.zeros(shape=p_array.shape)\n",
    "    j1, j2  = (np.abs(a_train - curent_a_size)).argsort()[:2]  # находим индексы ближайших к текущему размеров пор\n",
    "    step1 = min(np.where(p_array == step_array_train[j2])[0][0], np.where(p_array == step_array_train[j1])[0][0])\n",
    "    # находим индекс давления до ступеньки\n",
    "    step2 = max(np.where(p_array == step_array_train[j2])[0][0], np.where(p_array == step_array_train[j1])[0][0]) \n",
    "    # находим индекс давления после ступеньки\n",
    "\n",
    "    #считаем новую изотерму через аппроксимация и интерполяция\n",
    "    for i in range(len(p_array[:step1+1])):\n",
    "        k, b = get_k_b(a_train[j1], dataframe_sorb[j1+1+A_START][P_START+i], a_train[j2], dataframe_sorb[j2+1+A_START][P_START+i])\n",
    "        new_isotherms[i] = curent_a_size * k + b\n",
    "\n",
    "    for i in range(len(p_array[step2+1:])):\n",
    "        k, b = get_k_b(a_train[j1], dataframe_sorb[j1+1+A_START][P_START+i+step2+1], a_train[j2], dataframe_sorb[j2+1+A_START][P_START+i+step2+1])\n",
    "        new_isotherms[i+step2+1] = curent_a_size * k + b\n",
    "\n",
    "    for i in range(step1+1, step_i+1):\n",
    "        k, b = get_k_b(p_array[i-2], new_isotherms[i-2], p_array[i-1], new_isotherms[i-1])\n",
    "        new_isotherms[i] = p_array[i] * k + b\n",
    "\n",
    "    for i in range(step2, step_i, -1):\n",
    "        k, b = get_k_b(p_array[i+2], new_isotherms[i+2], p_array[i+1], new_isotherms[i+1])\n",
    "        new_isotherms[i] = p_array[i] * k + b\n",
    "        \n",
    "    result.append(new_isotherms)"
   ]
  },
  {
   "cell_type": "code",
   "execution_count": 115,
   "id": "ae6b290b-b215-4648-83fa-5dd9fd4faad6",
   "metadata": {
    "tags": []
   },
   "outputs": [],
   "source": [
    "plt.plot(p_array[step1-10:step2+10], result[100][step1-10:step2+10], marker = \"*\")\n",
    "plt.plot(p_array[step1-10:step2+10], array_of_isotherms[j1 + A_START][step1-10:step2+10], marker = \"*\")\n",
    "plt.plot(p_array[step1-10:step2+10], array_of_isotherms[j2 + A_START][step1-10:step2+10], marker = \"*\")\n",
    "plt.show()"
   ]
  },
  {
   "cell_type": "code",
   "execution_count": 120,
   "id": "da398d75-08a5-41bd-b9af-6f0236a02292",
   "metadata": {
    "tags": []
   },
   "outputs": [],
   "source": [
    "# анимация всех новых изотерм\n",
    "import matplotlib.pyplot as plt\n",
    "import matplotlib.animation as animation\n",
    "fig, ax = plt.subplots()\n",
    "line2 = ax.plot(p_array, result[0])[0]\n",
    "ax.set_xlim(0, 1)\n",
    "ax.set_ylim(0, 0.7)\n",
    "def update(frame):\n",
    "    # update the line plot:\n",
    "    line2.set_ydata(result[frame])\n",
    "    return (scat, line2)\n",
    "\n",
    "\n",
    "ani = animation.FuncAnimation(fig=fig, func=update, frames=len(result), interval=30)\n",
    "plt.show()"
   ]
  },
  {
   "cell_type": "code",
   "execution_count": 133,
   "id": "6246899a-4f7c-44d4-aed2-2b1b2be17abb",
   "metadata": {
    "tags": []
   },
   "outputs": [],
   "source": [
    "# сохраняем изотермы и размеры пор в формате np\n",
    "now = datetime.now().strftime('%Y-%m-%d_T_%H-%M-%S')\n",
    "with open(f'data/kernel_generated/kernel_isotherms_{now}.npy', 'wb') as f:\n",
    "    np.save(f, np.array(result))\n",
    "\n",
    "with open(f'data/kernel_generated/kernel_a_array_{now}.npy', 'wb') as f:\n",
    "    np.save(f, new_a_array)"
   ]
  }
 ],
 "metadata": {
  "kernelspec": {
   "display_name": "Python 3 (ipykernel)",
   "language": "python",
   "name": "python3"
  },
  "language_info": {
   "codemirror_mode": {
    "name": "ipython",
    "version": 3
   },
   "file_extension": ".py",
   "mimetype": "text/x-python",
   "name": "python",
   "nbconvert_exporter": "python",
   "pygments_lexer": "ipython3",
   "version": "3.11.3"
  }
 },
 "nbformat": 4,
 "nbformat_minor": 5
}
