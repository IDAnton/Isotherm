{
 "cells": [
  {
   "cell_type": "code",
   "execution_count": 1,
   "id": "47ccd3cb-ed19-440b-885c-1082e7d9c7b6",
   "metadata": {
    "tags": [],
    "ExecuteTime": {
     "end_time": "2023-10-01T12:48:21.446868600Z",
     "start_time": "2023-10-01T12:48:20.259017100Z"
    }
   },
   "outputs": [],
   "source": [
    "import numpy as np\n",
    "import pandas as pd\n",
    "import matplotlib.pyplot as plt\n",
    "import matplotlib as mpl\n",
    "\n",
    "from datetime import datetime\n",
    "mpl.use('TkAgg')"
   ]
  },
  {
   "cell_type": "code",
   "execution_count": 2,
   "id": "3822b48c-c05b-40c1-93e9-86067b7aab37",
   "metadata": {
    "tags": [],
    "ExecuteTime": {
     "end_time": "2023-10-01T12:48:24.950095300Z",
     "start_time": "2023-10-01T12:48:21.448871300Z"
    }
   },
   "outputs": [],
   "source": [
    "list_name = \"Carbon-loc-isoth-N2.xlsx\"\n",
    "#list_name = \"Silica-loc-isoth1.xlsx\"\n",
    "dataframe_sorb = pd.read_excel(list_name, header=None, sheet_name=\"Adsorption\")\n",
    "dataframe_desorb = pd.read_excel(list_name, header=None, sheet_name=\"Desorption\")\n",
    "P_START = 21  # индекс минимального давления\n",
    "p_array = np.array(dataframe_sorb[0][P_START:])  # сетка давлений\n",
    "a_array = np.array(dataframe_sorb.iloc[0][1:])  # сетка размеров пор\n",
    "\n",
    "array_of_isotherms = np.empty((len(a_array), len(p_array)))  # массив изотерм с i-м размером пор\n",
    "for i in range(len(a_array)):  # заполняем массив изотерм из таблицы pandas\n",
    "    array_of_isotherms[i] = dataframe_sorb[i+1][P_START:]\n",
    "    \n",
    "array_of_isotherms_d = np.empty((len(a_array), len(p_array)))  # массив десорбционных изотерм с i-м размером пор\n",
    "for i in range(len(a_array)):  # заполняем массив изотерм из таблицы pandas\n",
    "    array_of_isotherms_d[i] = dataframe_desorb[i+1][P_START:]"
   ]
  },
  {
   "cell_type": "code",
   "execution_count": 3,
   "outputs": [],
   "source": [
    "j = 60\n",
    "fig, ax=plt.subplots()  # строим график j-й изотермы из исходного набора\n",
    "ax.plot(p_array, array_of_isotherms[j], marker=\".\", label=f\"kernel isotherm №{j}, pore size = {a_array[j]} nm (adsorption)\")\n",
    "ax.plot(p_array, array_of_isotherms_d[j], marker=\".\", label=f\"kernel isotherm №{j}, pore size = {a_array[j]} nm (desorption)\")\n",
    "ax.set_ylabel(\"sorption\")\n",
    "ax.set_xlabel(\"pressure\")\n",
    "legend = ax.legend(loc='upper right')\n",
    "plt.show()    "
   ],
   "metadata": {
    "collapsed": false,
    "ExecuteTime": {
     "end_time": "2023-10-01T12:48:26.845140500Z",
     "start_time": "2023-10-01T12:48:24.952083800Z"
    }
   },
   "id": "ac7f07e6e6abcd5f"
  },
  {
   "cell_type": "code",
   "execution_count": 5,
   "id": "0500e0ed-dd19-4207-b4de-5e7796b2add6",
   "metadata": {
    "tags": [],
    "ExecuteTime": {
     "end_time": "2023-10-01T12:48:59.386217Z",
     "start_time": "2023-10-01T12:48:46.321508800Z"
    }
   },
   "outputs": [],
   "source": [
    "#  обработка изотерм со скачком\n",
    "pore_size_jump_pressure = pd.DataFrame(columns=['pore_size', 'pressure_of_jump'])  # таблица размер пор - давление при котором происходит скачок в изотерме с данным размером пор\n",
    "for i, sorption_a in enumerate(array_of_isotherms):\n",
    "    sorption_delta_array = sorption_a[1:] - sorption_a[:-1]\n",
    "    jump_i = np.argmax(sorption_delta_array)  # индекс скачка \n",
    "    jump_pressure = p_array[jump_i]  #  давление скачка\n",
    "    pore_size_jump_pressure.loc[len(pore_size_jump_pressure.index)] = [a_array[i], jump_pressure]\n",
    "    \n",
    "pore_size_jump_pressure_d = pd.DataFrame(columns=['pore_size', 'pressure_of_jump'])  # таблица размер пор - давление при котором происходит скачок в изотерме с данным размером пор\n",
    "for i, sorption_a in enumerate(array_of_isotherms_d):\n",
    "    sorption_delta_array = sorption_a[1:] - sorption_a[:-1]\n",
    "    jump_i = np.argmax(sorption_delta_array)  # индекс скачка \n",
    "    jump_pressure = p_array[jump_i]  #  давление скачка\n",
    "    pore_size_jump_pressure_d.loc[len(pore_size_jump_pressure_d.index)] = [a_array[i], jump_pressure]\n",
    "\n",
    "fig, ax=plt.subplots()\n",
    "ax.plot(pore_size_jump_pressure[\"pressure_of_jump\"], pore_size_jump_pressure[\"pore_size\"], marker=\".\", label=\"Jump pressure (pore size) (adsorption)\")\n",
    "ax.plot(pore_size_jump_pressure_d[\"pressure_of_jump\"], pore_size_jump_pressure_d[\"pore_size\"], marker=\".\", label=\"Jump pressure (pore size) (desorption)\")\n",
    "ax.set_ylabel(\"pore size (nm)\")\n",
    "ax.set_xlabel(\"jump pressure\")\n",
    "legend = ax.legend(loc='upper right')\n",
    "plt.show()"
   ]
  },
  {
   "cell_type": "code",
   "execution_count": 6,
   "id": "4c9e91b9-b510-4ce4-8a8f-c29f9b6577ac",
   "metadata": {
    "tags": [],
    "ExecuteTime": {
     "end_time": "2023-10-01T12:49:06.807451100Z",
     "start_time": "2023-10-01T12:49:03.842404400Z"
    }
   },
   "outputs": [],
   "source": [
    "# получаем размеры пор в которых происходит скачок интерполяцией для кажой точки из сетки давлений\n",
    "new_a_array_raw = np.interp(p_array,  pore_size_jump_pressure[\"pressure_of_jump\"].to_numpy(), pore_size_jump_pressure[\"pore_size\"].to_numpy())\n",
    "#new_a_array = new_a_array_raw[j_no_step:jump_i+1]  # обрезаем массив пор так как для последних и первых давлений не было изотерм со скачками\n",
    "\n",
    "j_first_step = 40\n",
    "j_last_step = np.where(p_array == pore_size_jump_pressure.iloc[-1][\"pressure_of_jump\"])[0][0] + 1 #  индекс давления последнего скачка\n",
    "\n",
    "\n",
    "fig, ax=plt.subplots()\n",
    "ax.plot(pore_size_jump_pressure[\"pressure_of_jump\"], pore_size_jump_pressure[\"pore_size\"], marker=\"o\", label=\"Jump pressure (pore size)\")\n",
    "ax.plot(p_array[j_first_step:j_last_step], new_a_array_raw[j_first_step:j_last_step], marker=\"*\", label=\"Jump pressure (pore size), interp\")\n",
    "ax.set_ylabel(\"pore size (nm)\")\n",
    "ax.set_xlabel(\"jump pressure\")\n",
    "legend = ax.legend(loc='upper right')\n",
    "plt.show()\n",
    "new_a_array = new_a_array_raw[j_first_step:j_last_step]"
   ]
  },
  {
   "cell_type": "code",
   "execution_count": 7,
   "id": "360453ce-4b15-4848-8f45-7ca25dbee7bf",
   "metadata": {
    "tags": [],
    "ExecuteTime": {
     "end_time": "2023-10-01T12:49:16.106029200Z",
     "start_time": "2023-10-01T12:49:12.372300600Z"
    }
   },
   "outputs": [],
   "source": [
    "def get_k_b(x1, y1, x2, y2):\n",
    "    k = (y1 - y2) / (x1 - x2)\n",
    "    b = y1 - k*x1\n",
    "    return k, b\n",
    "\n",
    "A_START = j_first_step\n",
    "step_array_train = pore_size_jump_pressure[\"pressure_of_jump\"].to_numpy()\n",
    "def generate_kernel_isotherm(step_i):\n",
    "    curent_a_size = new_a_array[step_i]\n",
    "    new_isotherm = np.zeros(shape=p_array.shape)\n",
    "    j1, j2  = sorted((np.abs(a_array - curent_a_size)).argsort()[:2])  # находим индексы ближайших к текущему размеров пор\n",
    "    \n",
    "    if curent_a_size == a_array[j1]:\n",
    "        return array_of_isotherms[j1]\n",
    "    if curent_a_size == a_array[j2]:\n",
    "        return array_of_isotherms[j2]\n",
    "    \n",
    "    i = 0\n",
    "    while p_array[i] <= pore_size_jump_pressure[\"pressure_of_jump\"][j1]:\n",
    "        new_isotherm[i] = np.interp(curent_a_size, xp=(a_array[j1], a_array[j2]), fp=(array_of_isotherms[j1][i], array_of_isotherms[j2][i]))\n",
    "        i += 1\n",
    "    tmp = i\n",
    "    \n",
    "    i = len(p_array) - 1\n",
    "    while p_array[i] > pore_size_jump_pressure[\"pressure_of_jump\"][j2]:\n",
    "        new_isotherm[i] = np.interp(curent_a_size, xp=(a_array[j1], a_array[j2]), fp=(array_of_isotherms[j1][i], array_of_isotherms[j2][i]))\n",
    "        i -= 1\n",
    "    \n",
    "    while p_array[i] >= p_array[step_i+A_START]:\n",
    "        k, b = get_k_b(p_array[i+2], new_isotherm[i+2],  p_array[i+1],  new_isotherm[i+1])\n",
    "        new_isotherm[i] =  p_array[i] * k + b\n",
    "        i -= 1\n",
    "    \n",
    "    i = tmp\n",
    "    while p_array[i] <= p_array[step_i+A_START]:\n",
    "        k, b = get_k_b(p_array[i-2], new_isotherm[i-2],  p_array[i-1],  new_isotherm[i-1])\n",
    "        new_isotherm[i] =  p_array[i] * k + b\n",
    "        i += 1\n",
    "    \n",
    "    return new_isotherm\n",
    "    \n",
    "    \n",
    "result = []\n",
    "for step_i in range(len(new_a_array)):\n",
    "    result.append(generate_kernel_isotherm(step_i))"
   ]
  },
  {
   "cell_type": "code",
   "execution_count": 11,
   "id": "85f82d83-f44b-4e45-91cf-b3ab8185ecbc",
   "metadata": {
    "tags": [],
    "ExecuteTime": {
     "end_time": "2023-10-01T12:50:11.034705600Z",
     "start_time": "2023-10-01T12:50:04.013983600Z"
    }
   },
   "outputs": [
    {
     "name": "stdout",
     "output_type": "stream",
     "text": [
      "new isotherm pore size = 2.4456371385596483 nm\n",
      "base isotherm 45 pore size = 2.43347001075745 nm\n",
      "base isotherm 46 pore size = 2.51864004135132 nm\n"
     ]
    }
   ],
   "source": [
    "#  строим графики и изучаем новую j-ю изотерму и корневые, по котором ее сгенерировали\n",
    "fig, ax=plt.subplots()\n",
    "j = 50\n",
    "j1, j2 = sorted((np.abs(a_array - new_a_array[j])).argsort()[:2])  # находим индексы ближайших к текущему размеров пор\n",
    "\n",
    "print(f\"new isotherm pore size = {new_a_array[j]} nm\")\n",
    "print(f\"base isotherm {j1} pore size = {a_array[j1]} nm\")\n",
    "print(f\"base isotherm {j2} pore size = {a_array[j2]} nm\")\n",
    "\n",
    "ax.plot(p_array, result[j], marker = \"*\", label=f\"new kernel isotherm №{j}, pore size = {round(new_a_array[j], 3)} nm\")\n",
    "ax.plot(p_array,  array_of_isotherms[j1], marker = \".\", label=f\"kernel isotherm №{j1}, pore size = {round(a_array[j1], 3)} nm\")\n",
    "ax.plot(p_array, array_of_isotherms[j2], marker = \".\", label=f\"kernel isotherm №{j2}, pore size = {round(a_array[j2], 3)} nm\")\n",
    "\n",
    "legend = ax.legend(loc='upper right')\n",
    "ax.set_ylabel(\"sorption\")\n",
    "ax.set_xlabel(\"pressure\")\n",
    "plt.show()"
   ]
  },
  {
   "cell_type": "code",
   "execution_count": 12,
   "id": "da398d75-08a5-41bd-b9af-6f0236a02292",
   "metadata": {
    "tags": [],
    "ExecuteTime": {
     "end_time": "2023-10-01T12:50:28.379352200Z",
     "start_time": "2023-10-01T12:50:28.365263200Z"
    }
   },
   "outputs": [],
   "source": [
    "# анимация всех новых изотерм\n",
    "def create_animation(file):\n",
    "    import matplotlib.pyplot as plt\n",
    "    import matplotlib.animation as animation\n",
    "    fig, ax = plt.subplots()\n",
    "    fig.set_size_inches(8, 5, True)\n",
    "    line1, = ax.plot(p_array, result[0], marker = \".\", label=\"\")\n",
    "    j1, j2 = sorted((np.abs(a_array - new_a_array[0])).argsort()[:2])\n",
    "    line2, = ax.plot(p_array, array_of_isotherms[j1], marker = \".\", label=\"\")\n",
    "    line3, = ax.plot(p_array, array_of_isotherms[j2], marker = \".\", label=\"\")\n",
    "\n",
    "    texts = [ax.text(0.70, 0.1-i*0.05,  '', transform=ax.transAxes) for i in range(3)]\n",
    "\n",
    "    ax.set_xlim(0, 1)\n",
    "    ax.set_ylim(0, array_of_isotherms[j2][-1])\n",
    "    ax.set_ylabel(\"sorption\")\n",
    "    ax.set_xlabel(\"pressure\")\n",
    "    def update(frame):\n",
    "        line1.set_ydata(result[frame])\n",
    "        j1, j2 = sorted((np.abs(a_array - new_a_array[frame])).argsort()[:2])\n",
    "        line2.set_ydata(array_of_isotherms[j1])\n",
    "        line3.set_ydata(array_of_isotherms[j2])\n",
    "        ax.set_ylim(0, array_of_isotherms[j2][-1]*1.1)\n",
    "        texts[0].set_text(f\"new kernel isotherm №{frame}, pore size = {round(new_a_array[frame], 2)} nm\")\n",
    "        texts[1].set_text(f\"kernel isotherm №{j1}, pore size = {round(a_array[j1], 2)} nm\")\n",
    "        texts[2].set_text(f\"kernel isotherm №{j2}, pore size = {round(a_array[j2], 2)} nm\")\n",
    "        return (line1, line2, line3)\n",
    "\n",
    "    ani = animation.FuncAnimation(fig=fig, func=update, frames=len(result), interval=100)\n",
    "    writervideo = animation.FFMpegWriter(fps=len(result)/100)\n",
    "    ani.save(file, writer=writervideo, dpi = 200)\n",
    "    plt.show()\n",
    "    \n",
    "#create_animation('test.mp4')"
   ]
  },
  {
   "cell_type": "code",
   "execution_count": 20,
   "outputs": [],
   "source": [
    "# десорбция\n",
    "# Находим сетку давлений для десорбции\n",
    "part_of_new_p_array = np.interp(new_a_array, pore_size_jump_pressure_d[\"pore_size\"], pore_size_jump_pressure_d[\"pressure_of_jump\"].to_numpy())\n",
    "fig, ax=plt.subplots()\n",
    "ax.plot(p_array, label=\"Default pressure\", marker = \".\")\n",
    "ax.plot(part_of_new_p_array, label=\"Custom pressure\", marker = \".\")\n",
    "legend = ax.legend(loc='upper right')\n",
    "plt.show()"
   ],
   "metadata": {
    "collapsed": false,
    "ExecuteTime": {
     "end_time": "2023-10-01T12:57:01.318075200Z",
     "start_time": "2023-10-01T12:56:57.580883500Z"
    }
   },
   "id": "9fa4b5c8c3e2c36f"
  },
  {
   "cell_type": "code",
   "execution_count": 58,
   "outputs": [],
   "source": [
    "# строим изотермы десорбции\n",
    "def generate_kernel_isotherm_d(step_i):\n",
    "    current_a_size = new_a_array[step_i]\n",
    "    new_isotherm = np.zeros(shape=part_of_new_p_array.shape)\n",
    "    j1, j2  = sorted((np.abs(a_array - current_a_size)).argsort()[:2])  # находим индексы ближайших к текущему размеров пор\n",
    "    \n",
    "    if current_a_size == a_array[j1]:\n",
    "        return np.interp(part_of_new_p_array, p_array, array_of_isotherms_d[j1])\n",
    "    if current_a_size == a_array[j2]:\n",
    "        return np.interp(part_of_new_p_array, p_array, array_of_isotherms_d[j2])\n",
    "    \n",
    "    i = 0\n",
    "    while part_of_new_p_array[i] <= pore_size_jump_pressure_d[\"pressure_of_jump\"][j1]:\n",
    "        i1, i2  = sorted((np.abs(p_array - part_of_new_p_array[i])).argsort()[:2])\n",
    "        s1 = np.interp(part_of_new_p_array[i], (p_array[i1], p_array[i2]),(array_of_isotherms_d[j1][i1], array_of_isotherms_d[j1][i2])) # интерполяция корневых изотрем под новую сетку давлений \n",
    "        s2 = np.interp(part_of_new_p_array[i], (p_array[i1], p_array[i2]),(array_of_isotherms_d[j2][i1], array_of_isotherms_d[j2][i2]))\n",
    "        new_isotherm[i] = np.interp(current_a_size, xp=(a_array[j1], a_array[j2]), fp=(s1, s2))\n",
    "        i += 1\n",
    "    tmp = i\n",
    "    \n",
    "    i = len(part_of_new_p_array) - 1\n",
    "    while p_array[min((np.abs(p_array - part_of_new_p_array[i])).argsort()[:2])] > pore_size_jump_pressure_d[\"pressure_of_jump\"][j2]:\n",
    "        i1, i2  = sorted((np.abs(p_array - part_of_new_p_array[i])).argsort()[:2])\n",
    "        s1 = np.interp(part_of_new_p_array[i], (p_array[i1], p_array[i2]),(array_of_isotherms_d[j1][i1], array_of_isotherms_d[j1][i2]))\n",
    "        s2 = np.interp(part_of_new_p_array[i], (p_array[i1], p_array[i2]),(array_of_isotherms_d[j2][i1], array_of_isotherms_d[j2][i2]))\n",
    "        new_isotherm[i] = np.interp(current_a_size, xp=(a_array[j1], a_array[j2]), fp=(s1, s2))\n",
    "        i -= 1\n",
    "        \n",
    "    step_pressure = part_of_new_p_array[step_i]\n",
    "    while part_of_new_p_array[i] >= step_pressure and i >=0:\n",
    "        k, b = get_k_b(part_of_new_p_array[i+2], new_isotherm[i+2],  part_of_new_p_array[i+1],  new_isotherm[i+1])\n",
    "        new_isotherm[i] =  part_of_new_p_array[i] * k + b\n",
    "        i -= 1\n",
    "\n",
    "    i = tmp\n",
    "    while part_of_new_p_array[i] <= step_pressure:\n",
    "        k, b = get_k_b(part_of_new_p_array[i-2], new_isotherm[i-2],  part_of_new_p_array[i-1],  new_isotherm[i-1])\n",
    "        new_isotherm[i] =  part_of_new_p_array[i] * k + b\n",
    "        i += 1\n",
    "\n",
    "    return new_isotherm\n",
    "    \n",
    "\n",
    "result_d = []\n",
    "for step_i in range(len(new_a_array)):\n",
    "     result_d.append(generate_kernel_isotherm_d(step_i))"
   ],
   "metadata": {
    "collapsed": false,
    "ExecuteTime": {
     "end_time": "2023-10-01T13:26:57.105841300Z",
     "start_time": "2023-10-01T13:26:47.972090900Z"
    }
   },
   "id": "8717765b39225d7d"
  },
  {
   "cell_type": "code",
   "execution_count": 60,
   "outputs": [],
   "source": [
    "fig, ax=plt.subplots()\n",
    "j = 270\n",
    "ax.plot(p_array, result[j], marker=\"*\", label=f\"new sorption №{j}, pore size = {new_a_array[j]} nm\")\n",
    "ax.plot(part_of_new_p_array, result_d[j], marker=\".\", label=f\"new desorption №{j1}, pore size = {new_a_array[j]} nm\")\n",
    "\n",
    "j1, j2  = sorted((np.abs(a_array - new_a_array[j])).argsort()[:2])\n",
    "ax.plot(p_array, array_of_isotherms[j1], marker=\"*\", label=f\"kernel sorption №{j1}, pore size = {a_array[j1]} nm\")\n",
    "ax.plot(p_array, array_of_isotherms_d[j1], marker=\".\", label=f\"kernel desorption №{j1}, pore size = {a_array[j1]} nm\")\n",
    "ax.plot(p_array, array_of_isotherms[j2], marker=\"*\", label=f\"kernel sorption №{j2}, pore size = {a_array[j2]} nm\")\n",
    "ax.plot(p_array, array_of_isotherms_d[j2], marker=\".\", label=f\"kernel desorption №{j2}, pore size = {a_array[j2]} nm\")\n",
    "\n",
    "legend = ax.legend(loc='upper right')\n",
    "plt.show() "
   ],
   "metadata": {
    "collapsed": false,
    "ExecuteTime": {
     "end_time": "2023-10-01T13:27:19.617794300Z",
     "start_time": "2023-10-01T13:27:18.243758Z"
    }
   },
   "id": "8f2e4b45ec238ce2"
  },
  {
   "cell_type": "code",
   "execution_count": 114,
   "outputs": [],
   "source": [
    "# достраиваем изотермы десорбции в оставшихся давлениях\n",
    "p_i1 = (np.abs(p_array - part_of_new_p_array[0])).argsort()[:1][0]  # индексы давлений с начальной сетки\n",
    "p_i2 = (np.abs(p_array - part_of_new_p_array[-1])).argsort()[:1][0]\n",
    "def generate_kernel_isotherm_d_in_rest_pressure(j):\n",
    "    current_a_size = new_a_array[j]\n",
    "    j1, j2  = sorted((np.abs(a_array - current_a_size)).argsort()[:2])  # находим индексы ближайших к текущему размеров пор\n",
    "    i = 0\n",
    "    tmp = []\n",
    "    while p_array[i] < p_array[p_i1]:\n",
    "        tmp.append(np.interp(current_a_size, xp=(a_array[j1], a_array[j2]), fp=(array_of_isotherms_d[j1][i], array_of_isotherms_d[j2][i])))\n",
    "        i += 1\n",
    "    res = np.concatenate((np.array(tmp), result_d[j]), axis=0)\n",
    "    \n",
    "    i = -1\n",
    "    tmp = []\n",
    "    while p_array[i] >= p_array[p_i2]:\n",
    "        tmp.append(np.interp(current_a_size, xp=(a_array[j1], a_array[j2]), fp=(array_of_isotherms_d[j1][i], array_of_isotherms_d[j2][i])))\n",
    "        i -= 1    \n",
    "    return np.concatenate((res, np.array(tmp[::-1])), axis=0)\n",
    "\n",
    "new_result_d = []\n",
    "for j in range(len(result_d)):\n",
    "     new_result_d.append(generate_kernel_isotherm_d_in_rest_pressure(j))"
   ],
   "metadata": {
    "collapsed": false,
    "ExecuteTime": {
     "end_time": "2023-10-01T13:49:07.893942Z",
     "start_time": "2023-10-01T13:49:07.688013300Z"
    }
   },
   "id": "7cdb676831964de5"
  },
  {
   "cell_type": "code",
   "execution_count": 149,
   "outputs": [],
   "source": [
    "new_p_array = np.concatenate((p_array[:p_i1], part_of_new_p_array, p_array[p_i2:]), axis=0)\n",
    "plt.plot(new_p_array, label=\"new p_array\", marker=\".\")\n",
    "plt.plot(p_array, label=\"p_array\", marker=\".\")\n",
    "plt.legend()\n",
    "plt.show()"
   ],
   "metadata": {
    "collapsed": false,
    "ExecuteTime": {
     "end_time": "2023-10-01T20:40:46.537303100Z",
     "start_time": "2023-10-01T20:40:40.182448600Z"
    }
   },
   "id": "4333f6b713c326c5"
  },
  {
   "cell_type": "code",
   "execution_count": 117,
   "outputs": [],
   "source": [
    "fig, ax=plt.subplots()\n",
    "j = 300\n",
    "ax.plot(p_array, result[j], marker=\"*\", label=f\"new sorption №{j}, pore size = {new_a_array[j]} nm\")\n",
    "ax.plot(new_p_array, new_result_d[j], marker=\".\", label=f\"new desorption №{j1}, pore size = {new_a_array[j]} nm\")\n",
    "\n",
    "j1, j2  = sorted((np.abs(a_array - new_a_array[j])).argsort()[:2])\n",
    "ax.plot(p_array, array_of_isotherms[j1], marker=\"*\", label=f\"kernel sorption №{j1}, pore size = {a_array[j1]} nm\")\n",
    "ax.plot(p_array, array_of_isotherms_d[j1], marker=\".\", label=f\"kernel desorption №{j1}, pore size = {a_array[j1]} nm\")\n",
    "ax.plot(p_array, array_of_isotherms[j2], marker=\"*\", label=f\"kernel sorption №{j2}, pore size = {a_array[j2]} nm\")\n",
    "ax.plot(p_array, array_of_isotherms_d[j2], marker=\".\", label=f\"kernel desorption №{j2}, pore size = {a_array[j2]} nm\")\n",
    "\n",
    "legend = ax.legend(loc='upper right')\n",
    "plt.show() "
   ],
   "metadata": {
    "collapsed": false,
    "ExecuteTime": {
     "end_time": "2023-10-01T13:49:45.054568800Z",
     "start_time": "2023-10-01T13:49:31.917913900Z"
    }
   },
   "id": "53a2a8a3af00c688"
  },
  {
   "cell_type": "code",
   "execution_count": 163,
   "id": "d01fc65f-d71e-4092-b915-1898a8294b20",
   "metadata": {
    "tags": [],
    "ExecuteTime": {
     "end_time": "2023-10-01T20:50:10.649830600Z",
     "start_time": "2023-10-01T20:50:10.633012300Z"
    }
   },
   "outputs": [],
   "source": [
    "N = (np.abs(a_array - new_a_array[0])).argsort()[0]  # находим индекс последней изотермы с корневого набора, которую мы оставляем\n",
    "\n",
    "new_kernel_set = np.concatenate((array_of_isotherms[:N], np.array(result)), axis=0)\n",
    "new_a_size_set = np.concatenate((a_array[:N], new_a_array), axis=0)\n",
    "\n",
    "\n",
    "array_of_isotherms_d_interp = np.empty(shape=(len(new_kernel_set), len(new_p_array)))\n",
    "for i, isotherm_d in enumerate(array_of_isotherms_d[:N]):  # приводим к одной сетке давлений первые изотермы десорбции из начального набора\n",
    "    array_of_isotherms_d_interp[i] = np.interp(new_p_array, p_array, isotherm_d)\n",
    "\n",
    "new_kernel_d_lst = []  # Соединяем первые исходные и новые изотермы десорбции\n",
    "for i in range(N):\n",
    "    new_kernel_d_lst.append(array_of_isotherms_d_interp[i])\n",
    "for i in range(len(new_result_d)):\n",
    "    new_kernel_d_lst.append(np.array(new_result_d[i]))\n",
    "new_kernel_d_set = np.array(new_kernel_d_lst, dtype=object)"
   ]
  },
  {
   "cell_type": "code",
   "execution_count": 171,
   "outputs": [],
   "source": [
    "fig, ax=plt.subplots()\n",
    "j = 200\n",
    "ax.plot(p_array, new_kernel_set[j], marker=\"*\", label=f\"new sorption №{j}, pore size = {new_a_size_set[j]} nm\")\n",
    "ax.plot(new_p_array, new_kernel_d_set[j], marker=\".\", label=f\"new desorption №{j1}, pore size = {new_a_size_set[j]} nm\")\n",
    "\n",
    "j1, j2  = sorted((np.abs(a_array - new_a_size_set[j])).argsort()[:2])\n",
    "ax.plot(p_array, array_of_isotherms[j1], marker=\"*\", label=f\"kernel sorption №{j1}, pore size = {a_array[j1]} nm\")\n",
    "ax.plot(p_array, array_of_isotherms_d[j1], marker=\".\", label=f\"kernel desorption №{j1}, pore size = {a_array[j1]} nm\")\n",
    "ax.plot(p_array, array_of_isotherms[j2], marker=\"*\", label=f\"kernel sorption №{j2}, pore size = {a_array[j2]} nm\")\n",
    "ax.plot(p_array, array_of_isotherms_d[j2], marker=\".\", label=f\"kernel desorption №{j2}, pore size = {a_array[j2]} nm\")\n",
    "\n",
    "legend = ax.legend(loc='upper right')\n",
    "plt.show() "
   ],
   "metadata": {
    "collapsed": false,
    "ExecuteTime": {
     "end_time": "2023-10-01T20:51:48.271618900Z",
     "start_time": "2023-10-01T20:51:36.908764400Z"
    }
   },
   "id": "ee602747fd87f8ec"
  },
  {
   "cell_type": "code",
   "execution_count": 175,
   "id": "6246899a-4f7c-44d4-aed2-2b1b2be17abb",
   "metadata": {
    "tags": [],
    "ExecuteTime": {
     "end_time": "2023-10-01T20:56:52.889466Z",
     "start_time": "2023-10-01T20:56:52.862947200Z"
    }
   },
   "outputs": [],
   "source": [
    "# сохраняем изотермы и размеры пор в формате np\n",
    "#now = datetime.now().strftime('%Y-%m-%d_T_%H-%M-%S')\n",
    "with open(f'data/kernel_generated2/Kernel_s_{list_name}.npy', 'wb') as f:\n",
    "    np.save(f, new_kernel_set)\n",
    "    \n",
    "with open(f'data/kernel_generated2/Kernel_d_{list_name}.npy', 'wb') as f:\n",
    "    np.save(f, new_kernel_d_set)\n",
    "\n",
    "with open(f'data/kernel_generated2/Size_{list_name}.npy', 'wb') as f:\n",
    "    np.save(f, new_a_size_set)\n",
    "    \n",
    "with open(f'data/kernel_generated2/Pressure_d_{list_name}.npy', 'wb') as f:\n",
    "    np.save(f, new_p_array)"
   ]
  },
  {
   "cell_type": "code",
   "execution_count": null,
   "id": "8c77da30-d092-4dcb-a1a9-4911e6f7f065",
   "metadata": {},
   "outputs": [],
   "source": []
  }
 ],
 "metadata": {
  "kernelspec": {
   "display_name": "Python 3 (ipykernel)",
   "language": "python",
   "name": "python3"
  },
  "language_info": {
   "codemirror_mode": {
    "name": "ipython",
    "version": 3
   },
   "file_extension": ".py",
   "mimetype": "text/x-python",
   "name": "python",
   "nbconvert_exporter": "python",
   "pygments_lexer": "ipython3",
   "version": "3.11.3"
  }
 },
 "nbformat": 4,
 "nbformat_minor": 5
}
