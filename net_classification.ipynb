{
 "cells": [
  {
   "cell_type": "code",
   "execution_count": 1,
   "id": "initial_id",
   "metadata": {
    "collapsed": true,
    "ExecuteTime": {
     "end_time": "2023-12-12T20:17:06.186519600Z",
     "start_time": "2023-12-12T20:17:00.714385Z"
    }
   },
   "outputs": [
    {
     "name": "stdout",
     "output_type": "stream",
     "text": [
      "WARNING:tensorflow:From C:\\Users\\ivano\\PycharmProjects\\isotherm\\venv311\\Lib\\site-packages\\keras\\src\\losses.py:2976: The name tf.losses.sparse_softmax_cross_entropy is deprecated. Please use tf.compat.v1.losses.sparse_softmax_cross_entropy instead.\n"
     ]
    }
   ],
   "source": [
    "import numpy as np\n",
    "from tensorflow import keras\n",
    "from tensorflow.keras import layers\n",
    "from tensorflow import losses\n",
    "from sklearn.model_selection import train_test_split\n",
    "from sklearn.utils import shuffle\n",
    "import matplotlib.pyplot as plt\n",
    "import tensorflow as tf\n",
    "import generator"
   ]
  },
  {
   "cell_type": "code",
   "execution_count": 2,
   "outputs": [],
   "source": [
    "def generate_dataset():\n",
    "    gen = generator.Generator(path_s=\"data/initial kernels/Kernel_Carbon_Adsorption.npy\",\n",
    "                        path_d=\"data/initial kernels/Kernel_Carbon_Desorption.npy\",\n",
    "                        path_p_d=\"data/initial kernels/Pressure_Carbon.npy\",\n",
    "                        path_p_s=\"data/initial kernels/Pressure_Carbon.npy\",\n",
    "                        path_a=\"data/initial kernels/Size_Kernel_Carbon_Adsorption.npy\"\n",
    "                )\n",
    "    gen.generate_data_set()\n",
    "\n",
    "def show_dataset():\n",
    "        dataset = hkl.load('data/datasets/carbon3.hkl')\n",
    "        i = 8\n",
    "        plt.plot(dataset[i][\"isotherm\"], marker=\".\")\n",
    "        plt.plot(dataset[i][\"pore_distribution\"], marker=\".\")\n",
    "        plt.show()\n",
    "        print(len(dataset))"
   ],
   "metadata": {
    "collapsed": false,
    "ExecuteTime": {
     "end_time": "2023-12-12T20:17:06.194320800Z",
     "start_time": "2023-12-12T20:17:06.187519800Z"
    }
   },
   "id": "abffaafe1740b3f0"
  },
  {
   "cell_type": "code",
   "execution_count": 3,
   "outputs": [],
   "source": [
    "def plot_loss(history):\n",
    "    plt.plot(history.history['loss'], label='loss', marker=\".\")\n",
    "    plt.plot(history.history['val_loss'], label='val_loss')\n",
    "    plt.xlabel('Epoch')\n",
    "    plt.ylabel('Error [MPG]')\n",
    "    plt.legend()\n",
    "    plt.grid(True)\n",
    "    plt.yscale(\"log\")\n",
    "    plt.show()"
   ],
   "metadata": {
    "collapsed": false,
    "ExecuteTime": {
     "end_time": "2023-12-12T20:17:06.205526500Z",
     "start_time": "2023-12-12T20:17:06.195318600Z"
    }
   },
   "id": "39b0eb65244966a7"
  },
  {
   "cell_type": "code",
   "execution_count": 4,
   "outputs": [],
   "source": [
    "min_exp_pressure_i = 48\n",
    "max_exp_pressure_i = 546\n",
    "with open('data/datasets/carbon3_right.npz', 'rb') as f:\n",
    "        dataset = np.load(f)\n",
    "        isotherm_data = dataset[\"isotherm_data\"]\n",
    "        pore_distribution_data = dataset[\"pore_distribution_data\"]\n",
    "x = np.empty((isotherm_data.shape[0], (-min_exp_pressure_i + max_exp_pressure_i)))\n",
    "y = np.empty(pore_distribution_data.shape)\n",
    "for i in range(len(isotherm_data)):\n",
    "    isotherm = isotherm_data[i] #/ max(isotherm_data[i])\n",
    "    pore_distribution = pore_distribution_data[i] #/ max(pore_distribution_data[i])\n",
    "    isotherm = isotherm[min_exp_pressure_i:max_exp_pressure_i]\n",
    "    x[i] = isotherm\n",
    "    y[i] = pore_distribution\n",
    "x, y = shuffle(x, y)"
   ],
   "metadata": {
    "collapsed": false,
    "ExecuteTime": {
     "end_time": "2023-12-12T20:17:09.202444900Z",
     "start_time": "2023-12-12T20:17:06.208527500Z"
    }
   },
   "id": "6b25232e87d8279"
  },
  {
   "cell_type": "code",
   "execution_count": 6,
   "outputs": [],
   "source": [
    "x_train, x_test, y_train, y_test = train_test_split(x, y, test_size=0.25)"
   ],
   "metadata": {
    "collapsed": false,
    "ExecuteTime": {
     "end_time": "2023-12-12T20:17:12.628606600Z",
     "start_time": "2023-12-12T20:17:12.487197500Z"
    }
   },
   "id": "e4fad87bc946e8a4"
  },
  {
   "cell_type": "code",
   "execution_count": 5,
   "outputs": [
    {
     "name": "stdout",
     "output_type": "stream",
     "text": [
      "WARNING:tensorflow:From C:\\Users\\ivano\\PycharmProjects\\isotherm\\venv311\\Lib\\site-packages\\keras\\src\\backend.py:873: The name tf.get_default_graph is deprecated. Please use tf.compat.v1.get_default_graph instead.\n"
     ]
    }
   ],
   "source": [
    "norm_layer = layers.Normalization()\n",
    "norm_layer.adapt(x)"
   ],
   "metadata": {
    "collapsed": false,
    "ExecuteTime": {
     "end_time": "2023-12-12T20:17:12.467553900Z",
     "start_time": "2023-12-12T20:17:09.259443800Z"
    }
   },
   "id": "7843ae792456c9ee"
  },
  {
   "cell_type": "code",
   "execution_count": 45,
   "outputs": [],
   "source": [
    "### DENSE NET\n",
    "model = keras.Sequential(\n",
    "    [\n",
    "        keras.Input(shape=len(x_train[0], )),\n",
    "        norm_layer,\n",
    "        layers.Dense(400, activation='relu'),\n",
    "        layers.Dense(300, activation='relu'),\n",
    "        layers.Dense(300, activation='relu'),\n",
    "        layers.Dense(200, activation='relu'),\n",
    "        layers.Dense(len(y_train[0])) #  activation=tf.math.abs\n",
    "    ]\n",
    ")\n",
    "### CONV NET \n",
    "# x_train=np.array(x_train)\n",
    "# x_test=np.array(x_test)\n",
    "# x_train = x_train.reshape((x_train.shape[0], x_train.shape[1], 1))\n",
    "# x_test = x_test.reshape((x_test.shape[0], x_test.shape[1], 1))\n",
    "# def make_model(input_shape, norm_layer):\n",
    "#     input_layer = keras.layers.Input(input_shape)\n",
    "# \n",
    "#     conv1 = keras.layers.Conv1D(filters=64, kernel_size=3, padding=\"same\")(input_layer)\n",
    "#     conv1 = keras.layers.BatchNormalization()(conv1)\n",
    "#     conv1 = keras.layers.ReLU()(conv1)\n",
    "# \n",
    "#     conv2 = keras.layers.Conv1D(filters=64, kernel_size=3, padding=\"same\")(conv1)\n",
    "#     conv2 = keras.layers.BatchNormalization()(conv2)\n",
    "#     conv2 = keras.layers.ReLU()(conv2)\n",
    "# \n",
    "#     conv3 = keras.layers.Conv1D(filters=64, kernel_size=3, padding=\"same\")(conv2)\n",
    "#     conv3 = keras.layers.BatchNormalization()(conv3)\n",
    "#     conv3 = keras.layers.ReLU()(conv3)\n",
    "# \n",
    "#     gap = keras.layers.GlobalAveragePooling1D()(conv3)\n",
    "# \n",
    "#     output_layer = keras.layers.Dense(len(y_train[0]))(gap)\n",
    "# \n",
    "#     return keras.models.Model(inputs=input_layer, outputs=output_layer)\n",
    "# \n",
    "# norm_layer = keras.layers.Normalization(axis=None)\n",
    "# norm_layer.adapt(np.array(x))\n",
    "# model = make_model(input_shape=np.array(x_train).shape[1:], norm_layer=norm_layer)"
   ],
   "metadata": {
    "collapsed": false,
    "ExecuteTime": {
     "end_time": "2023-12-12T20:20:44.231870800Z",
     "start_time": "2023-12-12T20:20:44.164006800Z"
    }
   },
   "id": "55379ad62e32d82"
  },
  {
   "cell_type": "code",
   "execution_count": 46,
   "outputs": [],
   "source": [
    "model.compile(loss='mean_squared_error', optimizer='Adam')"
   ],
   "metadata": {
    "collapsed": false,
    "ExecuteTime": {
     "end_time": "2023-12-12T20:20:45.102008400Z",
     "start_time": "2023-12-12T20:20:45.089759800Z"
    }
   },
   "id": "5f652a0070f88e09"
  },
  {
   "cell_type": "code",
   "execution_count": 48,
   "outputs": [
    {
     "name": "stdout",
     "output_type": "stream",
     "text": [
      "Epoch 1/100\n",
      "586/586 [==============================] - 4s 6ms/step - loss: 0.0142 - val_loss: 0.0131 - lr: 0.0010\n",
      "Epoch 2/100\n",
      "586/586 [==============================] - 3s 5ms/step - loss: 0.0140 - val_loss: 0.0131 - lr: 0.0010\n",
      "Epoch 3/100\n",
      "586/586 [==============================] - 3s 5ms/step - loss: 0.0140 - val_loss: 0.0129 - lr: 0.0010\n",
      "Epoch 4/100\n",
      "586/586 [==============================] - 3s 5ms/step - loss: 0.0139 - val_loss: 0.0133 - lr: 0.0010\n",
      "Epoch 5/100\n",
      "586/586 [==============================] - 3s 5ms/step - loss: 0.0138 - val_loss: 0.0149 - lr: 0.0010\n",
      "Epoch 6/100\n",
      "586/586 [==============================] - 3s 5ms/step - loss: 0.0137 - val_loss: 0.0155 - lr: 0.0010\n",
      "Epoch 7/100\n",
      "586/586 [==============================] - 3s 5ms/step - loss: 0.0136 - val_loss: 0.0131 - lr: 0.0010\n",
      "Epoch 8/100\n",
      "586/586 [==============================] - 3s 5ms/step - loss: 0.0134 - val_loss: 0.0142 - lr: 0.0010\n",
      "Epoch 9/100\n",
      "586/586 [==============================] - 3s 5ms/step - loss: 0.0134 - val_loss: 0.0125 - lr: 0.0010\n",
      "Epoch 10/100\n",
      "586/586 [==============================] - 3s 5ms/step - loss: 0.0132 - val_loss: 0.0127 - lr: 0.0010\n",
      "Epoch 11/100\n",
      "586/586 [==============================] - 3s 5ms/step - loss: 0.0132 - val_loss: 0.0125 - lr: 0.0010\n",
      "Epoch 12/100\n",
      "586/586 [==============================] - 3s 5ms/step - loss: 0.0129 - val_loss: 0.0132 - lr: 0.0010\n",
      "Epoch 13/100\n",
      "586/586 [==============================] - 3s 6ms/step - loss: 0.0130 - val_loss: 0.0122 - lr: 0.0010\n",
      "Epoch 14/100\n",
      "586/586 [==============================] - 3s 5ms/step - loss: 0.0129 - val_loss: 0.0123 - lr: 0.0010\n",
      "Epoch 15/100\n",
      "586/586 [==============================] - 3s 5ms/step - loss: 0.0128 - val_loss: 0.0123 - lr: 0.0010\n",
      "Epoch 16/100\n",
      "586/586 [==============================] - 3s 5ms/step - loss: 0.0128 - val_loss: 0.0114 - lr: 0.0010\n",
      "Epoch 17/100\n",
      "586/586 [==============================] - 3s 5ms/step - loss: 0.0126 - val_loss: 0.0118 - lr: 0.0010\n",
      "Epoch 18/100\n",
      "586/586 [==============================] - 3s 5ms/step - loss: 0.0125 - val_loss: 0.0120 - lr: 0.0010\n",
      "Epoch 19/100\n",
      "586/586 [==============================] - 3s 5ms/step - loss: 0.0124 - val_loss: 0.0141 - lr: 0.0010\n",
      "Epoch 20/100\n",
      "586/586 [==============================] - 3s 5ms/step - loss: 0.0125 - val_loss: 0.0121 - lr: 0.0010\n",
      "Epoch 21/100\n",
      "586/586 [==============================] - 3s 5ms/step - loss: 0.0124 - val_loss: 0.0119 - lr: 0.0010\n",
      "Epoch 22/100\n",
      "586/586 [==============================] - 3s 5ms/step - loss: 0.0122 - val_loss: 0.0115 - lr: 0.0010\n",
      "Epoch 23/100\n",
      "586/586 [==============================] - 3s 5ms/step - loss: 0.0124 - val_loss: 0.0118 - lr: 0.0010\n",
      "Epoch 24/100\n",
      "577/586 [============================>.] - ETA: 0s - loss: 0.0120\n",
      "Epoch 24: ReduceLROnPlateau reducing learning rate to 0.0008500000403728336.\n",
      "586/586 [==============================] - 3s 5ms/step - loss: 0.0121 - val_loss: 0.0189 - lr: 0.0010\n",
      "Epoch 25/100\n",
      "586/586 [==============================] - 3s 5ms/step - loss: 0.0118 - val_loss: 0.0111 - lr: 8.5000e-04\n",
      "Epoch 26/100\n",
      "586/586 [==============================] - 3s 5ms/step - loss: 0.0116 - val_loss: 0.0103 - lr: 8.5000e-04\n",
      "Epoch 27/100\n",
      "586/586 [==============================] - 3s 5ms/step - loss: 0.0115 - val_loss: 0.0114 - lr: 8.5000e-04\n",
      "Epoch 28/100\n",
      "586/586 [==============================] - 3s 5ms/step - loss: 0.0112 - val_loss: 0.0096 - lr: 8.5000e-04\n",
      "Epoch 29/100\n",
      "586/586 [==============================] - 3s 5ms/step - loss: 0.0112 - val_loss: 0.0091 - lr: 8.5000e-04\n",
      "Epoch 30/100\n",
      "586/586 [==============================] - 3s 5ms/step - loss: 0.0113 - val_loss: 0.0126 - lr: 8.5000e-04\n",
      "Epoch 31/100\n",
      "586/586 [==============================] - 3s 5ms/step - loss: 0.0114 - val_loss: 0.0105 - lr: 8.5000e-04\n",
      "Epoch 32/100\n",
      "586/586 [==============================] - 3s 5ms/step - loss: 0.0112 - val_loss: 0.0103 - lr: 8.5000e-04\n",
      "Epoch 33/100\n",
      "586/586 [==============================] - 3s 5ms/step - loss: 0.0112 - val_loss: 0.0163 - lr: 8.5000e-04\n",
      "Epoch 34/100\n",
      "586/586 [==============================] - 3s 5ms/step - loss: 0.0111 - val_loss: 0.0102 - lr: 8.5000e-04\n",
      "Epoch 35/100\n",
      "586/586 [==============================] - 3s 5ms/step - loss: 0.0112 - val_loss: 0.0100 - lr: 8.5000e-04\n",
      "Epoch 36/100\n",
      "586/586 [==============================] - 3s 5ms/step - loss: 0.0115 - val_loss: 0.0106 - lr: 8.5000e-04\n",
      "Epoch 37/100\n",
      "582/586 [============================>.] - ETA: 0s - loss: 0.0110\n",
      "Epoch 37: ReduceLROnPlateau reducing learning rate to 0.0007225000590551645.\n",
      "586/586 [==============================] - 3s 5ms/step - loss: 0.0110 - val_loss: 0.0110 - lr: 8.5000e-04\n",
      "Epoch 38/100\n",
      "586/586 [==============================] - 3s 5ms/step - loss: 0.0106 - val_loss: 0.0106 - lr: 7.2250e-04\n",
      "Epoch 39/100\n",
      "586/586 [==============================] - 3s 5ms/step - loss: 0.0107 - val_loss: 0.0101 - lr: 7.2250e-04\n",
      "Epoch 40/100\n",
      "586/586 [==============================] - 3s 5ms/step - loss: 0.0102 - val_loss: 0.0084 - lr: 7.2250e-04\n",
      "Epoch 41/100\n",
      "586/586 [==============================] - 3s 5ms/step - loss: 0.0099 - val_loss: 0.0081 - lr: 7.2250e-04\n",
      "Epoch 42/100\n",
      "586/586 [==============================] - 3s 5ms/step - loss: 0.0100 - val_loss: 0.0108 - lr: 7.2250e-04\n",
      "Epoch 43/100\n",
      "586/586 [==============================] - 3s 5ms/step - loss: 0.0104 - val_loss: 0.0098 - lr: 7.2250e-04\n",
      "Epoch 44/100\n",
      "586/586 [==============================] - 3s 5ms/step - loss: 0.0101 - val_loss: 0.0083 - lr: 7.2250e-04\n",
      "Epoch 45/100\n",
      "586/586 [==============================] - 3s 5ms/step - loss: 0.0104 - val_loss: 0.0087 - lr: 7.2250e-04\n",
      "Epoch 46/100\n",
      "586/586 [==============================] - 3s 5ms/step - loss: 0.0099 - val_loss: 0.0084 - lr: 7.2250e-04\n",
      "Epoch 47/100\n",
      "586/586 [==============================] - 3s 5ms/step - loss: 0.0099 - val_loss: 0.0146 - lr: 7.2250e-04\n",
      "Epoch 48/100\n",
      "586/586 [==============================] - 3s 6ms/step - loss: 0.0100 - val_loss: 0.0134 - lr: 7.2250e-04\n",
      "Epoch 49/100\n",
      "576/586 [============================>.] - ETA: 0s - loss: 0.0100\n",
      "Epoch 49: ReduceLROnPlateau reducing learning rate to 0.0006141250254586339.\n",
      "586/586 [==============================] - 3s 5ms/step - loss: 0.0100 - val_loss: 0.0092 - lr: 7.2250e-04\n",
      "Epoch 50/100\n",
      "586/586 [==============================] - 3s 5ms/step - loss: 0.0092 - val_loss: 0.0085 - lr: 6.1413e-04\n",
      "Epoch 51/100\n",
      "586/586 [==============================] - 3s 5ms/step - loss: 0.0098 - val_loss: 0.0084 - lr: 6.1413e-04\n",
      "Epoch 52/100\n",
      "586/586 [==============================] - 3s 5ms/step - loss: 0.0095 - val_loss: 0.0083 - lr: 6.1413e-04\n",
      "Epoch 53/100\n",
      "586/586 [==============================] - 3s 5ms/step - loss: 0.0099 - val_loss: 0.0089 - lr: 6.1413e-04\n",
      "Epoch 54/100\n",
      "586/586 [==============================] - 3s 5ms/step - loss: 0.0093 - val_loss: 0.0108 - lr: 6.1413e-04\n",
      "Epoch 55/100\n",
      "146/586 [======>.......................] - ETA: 2s - loss: 0.0091"
     ]
    },
    {
     "name": "stderr",
     "output_type": "stream",
     "text": [
      "\n",
      "KeyboardInterrupt\n",
      "\n"
     ]
    }
   ],
   "source": [
    "mcp_save = keras.callbacks.ModelCheckpoint(filepath='data/models/carbon2_best.keras', save_best_only=True,\n",
    "                                           monitor='val_loss', mode='min', verbose=0, save_weights_only=False,\n",
    "                                           save_freq='epoch')\n",
    "reduce_lr_loss = keras.callbacks.ReduceLROnPlateau(monitor='val_loss', factor=0.85,\n",
    "                                                   patience=8, verbose=1, mode='auto')\n",
    "history = model.fit(np.array(x_train), np.array(y_train),\n",
    "                    epochs=100, batch_size=128, shuffle=True,\n",
    "                    validation_data=(np.array(x_test), np.array(y_test)),\n",
    "                    callbacks=[mcp_save, reduce_lr_loss])"
   ],
   "metadata": {
    "collapsed": false,
    "ExecuteTime": {
     "end_time": "2023-12-12T20:26:57.718822100Z",
     "start_time": "2023-12-12T20:24:12.481659400Z"
    }
   },
   "id": "6faedfd9ae963701"
  },
  {
   "cell_type": "code",
   "execution_count": 10,
   "outputs": [],
   "source": [
    "plot_loss(history)"
   ],
   "metadata": {
    "collapsed": false,
    "ExecuteTime": {
     "end_time": "2023-12-12T20:17:47.870167500Z",
     "start_time": "2023-12-12T20:17:45.375042500Z"
    }
   },
   "id": "8b7e56670053b97b"
  },
  {
   "cell_type": "code",
   "execution_count": 49,
   "outputs": [
    {
     "name": "stdout",
     "output_type": "stream",
     "text": [
      "2344/2344 [==============================] - 4s 2ms/step\n",
      "prediction shape: (75000, 130)\n"
     ]
    }
   ],
   "source": [
    "prediction = model.predict(np.array(x_train))\n",
    "print(\"prediction shape:\", prediction.shape)"
   ],
   "metadata": {
    "collapsed": false,
    "ExecuteTime": {
     "end_time": "2023-12-12T20:27:05.607773500Z",
     "start_time": "2023-12-12T20:27:00.534535700Z"
    }
   },
   "id": "4147cb982df89488"
  },
  {
   "cell_type": "code",
   "execution_count": 66,
   "outputs": [],
   "source": [
    "i = np.random.randint(0, len(prediction))\n",
    "pore_widths = np.load(\"data/initial kernels/Size_Kernel_Carbon_Adsorption.npy\")\n",
    "plt.plot(pore_widths, prediction[i], marker=\".\", label=\"Prediction\")\n",
    "plt.plot(pore_widths, y_train[i], marker=\".\", label=\"Real\")\n",
    "plt.legend()\n",
    "plt.show()"
   ],
   "metadata": {
    "collapsed": false,
    "ExecuteTime": {
     "end_time": "2023-12-12T20:27:50.358300700Z",
     "start_time": "2023-12-12T20:27:49.080393500Z"
    }
   },
   "id": "8d8ef97cab3bdc29"
  },
  {
   "cell_type": "code",
   "execution_count": 41,
   "outputs": [],
   "source": [
    "import generator\n",
    "gen = generator.Generator(path_s=\"data/initial kernels/Kernel_Carbon_Adsorption.npy\",\n",
    "                        path_d=\"data/initial kernels/Kernel_Carbon_Desorption.npy\",\n",
    "                        path_p_d=\"data/initial kernels/Pressure_Carbon.npy\",\n",
    "                        path_p_s=\"data/initial kernels/Pressure_Carbon.npy\",\n",
    "                        path_a=\"data/initial kernels/Size_Kernel_Carbon_Adsorption.npy\"\n",
    "                )\n",
    "gen.pore_distribution = prediction[i]\n",
    "gen.calculate_calculate_isotherms_right()\n",
    "plt.plot(gen.pressures_s[min_exp_pressure_i:max_exp_pressure_i], x_train[i], marker=\".\", label=\"Real\")\n",
    "plt.plot(gen.pressures_s[min_exp_pressure_i:max_exp_pressure_i], gen.n_s[min_exp_pressure_i:max_exp_pressure_i], marker=\".\", label=\"Net\")\n",
    "plt.legend()\n",
    "plt.show()"
   ],
   "metadata": {
    "collapsed": false,
    "ExecuteTime": {
     "end_time": "2023-12-12T20:20:23.613339900Z",
     "start_time": "2023-12-12T20:20:19.817082800Z"
    }
   },
   "id": "4a3872c3c5b2caf"
  },
  {
   "cell_type": "code",
   "execution_count": 14,
   "outputs": [],
   "source": [
    "model.save('data/models/carbon2.keras')"
   ],
   "metadata": {
    "collapsed": false,
    "ExecuteTime": {
     "end_time": "2023-12-12T20:17:57.448462700Z",
     "start_time": "2023-12-12T20:17:57.395958200Z"
    }
   },
   "id": "511a0093e2bc5d71"
  },
  {
   "cell_type": "code",
   "execution_count": 14,
   "outputs": [],
   "source": [],
   "metadata": {
    "collapsed": false,
    "ExecuteTime": {
     "end_time": "2023-12-12T20:17:57.454484500Z",
     "start_time": "2023-12-12T20:17:57.446401Z"
    }
   },
   "id": "5f3cf2014e272e2c"
  }
 ],
 "metadata": {
  "kernelspec": {
   "name": "python3",
   "language": "python",
   "display_name": "Python 3 (ipykernel)"
  },
  "language_info": {
   "codemirror_mode": {
    "name": "ipython",
    "version": 2
   },
   "file_extension": ".py",
   "mimetype": "text/x-python",
   "name": "python",
   "nbconvert_exporter": "python",
   "pygments_lexer": "ipython2",
   "version": "2.7.6"
  }
 },
 "nbformat": 4,
 "nbformat_minor": 5
}
