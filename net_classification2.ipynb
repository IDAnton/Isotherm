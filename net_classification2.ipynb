{
 "cells": [
  {
   "cell_type": "code",
   "execution_count": 2,
   "id": "initial_id",
   "metadata": {
    "collapsed": true,
    "ExecuteTime": {
     "end_time": "2023-10-12T13:02:24.246833400Z",
     "start_time": "2023-10-12T13:02:18.621022100Z"
    }
   },
   "outputs": [],
   "source": [
    "from tensorflow import keras\n",
    "import numpy as np\n",
    "import matplotlib.pyplot as plt\n",
    "from sklearn.utils import shuffle\n",
    "from sklearn.model_selection import train_test_split\n",
    "\n"
   ]
  },
  {
   "cell_type": "code",
   "execution_count": 3,
   "outputs": [],
   "source": [
    "with open(\"data/kernel_generated2/Pressure_s_Carbon-loc-isoth-N2.xlsx.npy\", 'rb') as f:\n",
    "    pressures_carbon = np.load(f)\n",
    "with open(\"data/kernel_generated2/Pressure_s_Silica-loc-isoth1.xlsx.npy\", 'rb') as f:\n",
    "    pressures_silica = np.load(f)\n",
    "\n",
    "x = []\n",
    "y = []\n",
    "for i in range(1, 10001):\n",
    "    raw_data = np.load(f'data/test_silica/{i}.npz')\n",
    "    x.append([raw_data[\"n_s\"]/max(raw_data[\"n_s\"]), raw_data[\"n_s\"]/max(raw_data[\"n_s\"])])\n",
    "    y.append([1])\n",
    "for i in range(1, 10001):\n",
    "    raw_data = np.load(f'data/test_carbon/{i}.npz')\n",
    "    n_s = np.interp(pressures_silica, pressures_carbon, raw_data[\"n_s\"])\n",
    "    n_d = np.interp(pressures_silica, pressures_carbon, raw_data[\"n_d\"])\n",
    "    x.append([n_s/max(n_s), n_d/max(n_d)])\n",
    "    y.append([0])\n",
    "#x, y = shuffle(x, y)\n",
    "x = np.array(x)\n",
    "y = np.array(y)\n",
    "x_train, x_test, y_train, y_test = train_test_split(x, y, test_size=0.33)\n",
    "idx = np.random.permutation(len(x_train))\n",
    "x_train = x_train[idx]\n",
    "y_train = y_train[idx]\n",
    "# x_train = x_train.reshape((x_train.shape[0], x_train.shape[1], 1))\n",
    "# x_test = x_test.reshape((x_test.shape[0], x_test.shape[1], 1))"
   ],
   "metadata": {
    "collapsed": false,
    "ExecuteTime": {
     "end_time": "2023-10-12T13:02:46.514592500Z",
     "start_time": "2023-10-12T13:02:24.247833100Z"
    }
   },
   "id": "3c0dd23e7b77bebb"
  },
  {
   "cell_type": "code",
   "execution_count": 4,
   "outputs": [],
   "source": [
    "def make_model(input_shape):\n",
    "    input_layer = keras.layers.Input(input_shape)\n",
    "\n",
    "    conv1 = keras.layers.Conv1D(filters=64, kernel_size=3, padding=\"same\")(input_layer)\n",
    "    conv1 = keras.layers.BatchNormalization()(conv1)\n",
    "    conv1 = keras.layers.ReLU()(conv1)\n",
    "\n",
    "    conv2 = keras.layers.Conv1D(filters=64, kernel_size=3, padding=\"same\")(conv1)\n",
    "    conv2 = keras.layers.BatchNormalization()(conv2)\n",
    "    conv2 = keras.layers.ReLU()(conv2)\n",
    "\n",
    "    conv3 = keras.layers.Conv1D(filters=64, kernel_size=3, padding=\"same\")(conv2)\n",
    "    conv3 = keras.layers.BatchNormalization()(conv3)\n",
    "    conv3 = keras.layers.ReLU()(conv3)\n",
    "\n",
    "    gap = keras.layers.GlobalAveragePooling1D()(conv3)\n",
    "\n",
    "    output_layer = keras.layers.Dense(2, activation=\"softmax\")(gap)\n",
    "\n",
    "    return keras.models.Model(inputs=input_layer, outputs=output_layer)\n",
    "\n",
    "\n",
    "model = make_model(input_shape=np.array(x_train).shape[1:])"
   ],
   "metadata": {
    "collapsed": false,
    "ExecuteTime": {
     "end_time": "2023-10-12T13:02:46.827266Z",
     "start_time": "2023-10-12T13:02:46.515592500Z"
    }
   },
   "id": "1375d5e0c2b3710a"
  },
  {
   "cell_type": "code",
   "execution_count": 5,
   "outputs": [
    {
     "name": "stdout",
     "output_type": "stream",
     "text": [
      "Epoch 1/10\n",
      "108/108 [==============================] - 3s 9ms/step - loss: 0.0489 - sparse_categorical_accuracy: 0.9855 - val_loss: 1.4599 - val_sparse_categorical_accuracy: 0.5067 - lr: 0.0010\n",
      "Epoch 2/10\n",
      " 20/108 [====>.........................] - ETA: 0s - loss: 0.0028 - sparse_categorical_accuracy: 1.0000"
     ]
    },
    {
     "name": "stderr",
     "output_type": "stream",
     "text": [
      "C:\\Users\\ivano\\PycharmProjects\\isotherm\\venv\\Lib\\site-packages\\keras\\src\\engine\\training.py:3079: UserWarning: You are saving your model as an HDF5 file via `model.save()`. This file format is considered legacy. We recommend using instead the native Keras format, e.g. `model.save('my_model.keras')`.\n",
      "  saving_api.save_model(\n"
     ]
    },
    {
     "name": "stdout",
     "output_type": "stream",
     "text": [
      "108/108 [==============================] - 1s 6ms/step - loss: 0.0018 - sparse_categorical_accuracy: 1.0000 - val_loss: 2.2993 - val_sparse_categorical_accuracy: 0.5067 - lr: 0.0010\n",
      "Epoch 3/10\n",
      "108/108 [==============================] - 1s 5ms/step - loss: 9.6371e-04 - sparse_categorical_accuracy: 1.0000 - val_loss: 2.2807 - val_sparse_categorical_accuracy: 0.5067 - lr: 0.0010\n",
      "Epoch 4/10\n",
      "108/108 [==============================] - 1s 6ms/step - loss: 5.3391e-04 - sparse_categorical_accuracy: 1.0000 - val_loss: 0.5307 - val_sparse_categorical_accuracy: 0.7358 - lr: 0.0010\n",
      "Epoch 5/10\n",
      "108/108 [==============================] - 1s 6ms/step - loss: 3.6674e-04 - sparse_categorical_accuracy: 1.0000 - val_loss: 0.0054 - val_sparse_categorical_accuracy: 1.0000 - lr: 0.0010\n",
      "Epoch 6/10\n",
      "108/108 [==============================] - 1s 6ms/step - loss: 2.5384e-04 - sparse_categorical_accuracy: 1.0000 - val_loss: 6.8258e-04 - val_sparse_categorical_accuracy: 1.0000 - lr: 0.0010\n",
      "Epoch 7/10\n",
      "108/108 [==============================] - 1s 6ms/step - loss: 2.0051e-04 - sparse_categorical_accuracy: 1.0000 - val_loss: 3.3629e-04 - val_sparse_categorical_accuracy: 1.0000 - lr: 0.0010\n",
      "Epoch 8/10\n",
      "108/108 [==============================] - 1s 6ms/step - loss: 1.5730e-04 - sparse_categorical_accuracy: 1.0000 - val_loss: 3.9765e-04 - val_sparse_categorical_accuracy: 1.0000 - lr: 0.0010\n",
      "Epoch 9/10\n",
      "108/108 [==============================] - 1s 6ms/step - loss: 1.2936e-04 - sparse_categorical_accuracy: 1.0000 - val_loss: 1.6026e-04 - val_sparse_categorical_accuracy: 1.0000 - lr: 0.0010\n",
      "Epoch 10/10\n",
      "108/108 [==============================] - 1s 6ms/step - loss: 1.0420e-04 - sparse_categorical_accuracy: 1.0000 - val_loss: 6.4990e-05 - val_sparse_categorical_accuracy: 1.0000 - lr: 0.0010\n"
     ]
    }
   ],
   "source": [
    "epochs = 10\n",
    "batch_size = 100\n",
    "\n",
    "callbacks = [\n",
    "    keras.callbacks.ModelCheckpoint(\n",
    "        \"best_model.h5\", save_best_only=True, monitor=\"val_loss\"\n",
    "    ),\n",
    "    keras.callbacks.ReduceLROnPlateau(\n",
    "        monitor=\"val_loss\", factor=0.5, patience=20, min_lr=0.0001\n",
    "    ),\n",
    "    keras.callbacks.EarlyStopping(monitor=\"val_loss\", patience=50, verbose=1),\n",
    "]\n",
    "model.compile(\n",
    "    optimizer=\"adam\",\n",
    "    loss=\"sparse_categorical_crossentropy\",\n",
    "    metrics=[\"sparse_categorical_accuracy\"],\n",
    ")\n",
    "history = model.fit(\n",
    "    x_train,\n",
    "    y_train,\n",
    "    batch_size=batch_size,\n",
    "    epochs=epochs,\n",
    "    callbacks=callbacks,\n",
    "    validation_split=0.2,\n",
    "    verbose=1,\n",
    ")"
   ],
   "metadata": {
    "collapsed": false,
    "ExecuteTime": {
     "end_time": "2023-10-12T13:02:55.565822700Z",
     "start_time": "2023-10-12T13:02:46.827266Z"
    }
   },
   "id": "3b01365babd9620d"
  },
  {
   "cell_type": "code",
   "execution_count": 6,
   "outputs": [
    {
     "data": {
      "text/plain": "<Figure size 640x480 with 1 Axes>",
      "image/png": "[encoded data removed]"
     },
     "metadata": {},
     "output_type": "display_data"
    }
   ],
   "source": [
    "metric = \"sparse_categorical_accuracy\"\n",
    "plt.figure()\n",
    "plt.plot(history.history[metric])\n",
    "plt.plot(history.history[\"val_\" + metric])\n",
    "plt.title(\"model \" + metric)\n",
    "plt.ylabel(metric, fontsize=\"large\")\n",
    "plt.xlabel(\"epoch\", fontsize=\"large\")\n",
    "plt.legend([\"train\", \"val\"], loc=\"best\")\n",
    "plt.show()\n",
    "plt.close()"
   ],
   "metadata": {
    "collapsed": false,
    "ExecuteTime": {
     "end_time": "2023-10-12T13:03:28.440762500Z",
     "start_time": "2023-10-12T13:03:28.219768100Z"
    }
   },
   "id": "7d9bb1247df00ae5"
  },
  {
   "cell_type": "code",
   "execution_count": 50,
   "outputs": [
    {
     "name": "stdout",
     "output_type": "stream",
     "text": [
      "207/207 [==============================] - 0s 2ms/step\n"
     ]
    }
   ],
   "source": [
    "res = model.predict(x_test)"
   ],
   "metadata": {
    "collapsed": false,
    "ExecuteTime": {
     "end_time": "2023-10-11T17:48:39.843665200Z",
     "start_time": "2023-10-11T17:48:39.263371400Z"
    }
   },
   "id": "f0e0dc2586467ba0"
  },
  {
   "cell_type": "code",
   "execution_count": 1,
   "outputs": [
    {
     "ename": "NameError",
     "evalue": "name 'res' is not defined",
     "output_type": "error",
     "traceback": [
      "\u001B[1;31m---------------------------------------------------------------------------\u001B[0m",
      "\u001B[1;31mNameError\u001B[0m                                 Traceback (most recent call last)",
      "Cell \u001B[1;32mIn[1], line 2\u001B[0m\n\u001B[0;32m      1\u001B[0m i \u001B[38;5;241m=\u001B[39m \u001B[38;5;241m3000\u001B[39m\n\u001B[1;32m----> 2\u001B[0m \u001B[43mres\u001B[49m[i], y_test[i][\u001B[38;5;241m0\u001B[39m]\n",
      "\u001B[1;31mNameError\u001B[0m: name 'res' is not defined"
     ]
    }
   ],
   "source": [
    "i = 1\n",
    "res[i], y_test[i][0]"
   ],
   "metadata": {
    "collapsed": false,
    "ExecuteTime": {
     "end_time": "2023-10-12T13:02:15.046269400Z",
     "start_time": "2023-10-12T13:02:14.820454Z"
    }
   },
   "id": "4f85cfedeb402632"
  },
  {
   "cell_type": "code",
   "execution_count": null,
   "outputs": [],
   "source": [],
   "metadata": {
    "collapsed": false
   },
   "id": "abbab407e1e085d1"
  }
 ],
 "metadata": {
  "kernelspec": {
   "display_name": "Python 3",
   "language": "python",
   "name": "python3"
  },
  "language_info": {
   "codemirror_mode": {
    "name": "ipython",
    "version": 2
   },
   "file_extension": ".py",
   "mimetype": "text/x-python",
   "name": "python",
   "nbconvert_exporter": "python",
   "pygments_lexer": "ipython2",
   "version": "2.7.6"
  }
 },
 "nbformat": 4,
 "nbformat_minor": 5
}
