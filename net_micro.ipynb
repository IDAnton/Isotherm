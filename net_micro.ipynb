{
 "cells": [
  {
   "cell_type": "code",
   "execution_count": 4,
   "id": "initial_id",
   "metadata": {
    "collapsed": true,
    "ExecuteTime": {
     "end_time": "2023-10-11T14:02:32.524227400Z",
     "start_time": "2023-10-11T14:02:28.954267400Z"
    }
   },
   "outputs": [],
   "source": [
    "import numpy as np\n",
    "from tensorflow import keras\n",
    "from tensorflow.keras import layers\n",
    "from tensorflow import losses\n",
    "from sklearn.model_selection import train_test_split\n",
    "import matplotlib.pyplot as plt"
   ]
  },
  {
   "cell_type": "code",
   "execution_count": 5,
   "outputs": [],
   "source": [
    "def plot_loss(history):\n",
    "    plt.plot(history.history['loss'], label='loss', marker=\".\")\n",
    "    #plt.plot(history.history['val_loss'], label='val_loss')\n",
    "    plt.xlabel('Epoch')\n",
    "    plt.ylabel('Error [MPG]')\n",
    "    plt.legend()\n",
    "    plt.grid(True)"
   ],
   "metadata": {
    "collapsed": false,
    "ExecuteTime": {
     "end_time": "2023-10-11T14:02:32.531483300Z",
     "start_time": "2023-10-11T14:02:32.525531900Z"
    }
   },
   "id": "7dd358d1dbf2806d"
  },
  {
   "cell_type": "code",
   "execution_count": 7,
   "outputs": [],
   "source": [
    "x = []\n",
    "y = []\n",
    "for i in range(1, 10001):\n",
    "    raw_data = np.load(f'data/test_silica/{i}.npz')\n",
    "    x.append(np.concatenate((raw_data[\"n_s\"]/max(raw_data[\"n_s\"]), raw_data[\"n_d\"]/max(raw_data[\"n_d\"])), axis=0))\n",
    "    y.append(raw_data[\"a\"])"
   ],
   "metadata": {
    "collapsed": false,
    "ExecuteTime": {
     "end_time": "2023-10-11T14:02:49.443785900Z",
     "start_time": "2023-10-11T14:02:41.364684200Z"
    }
   },
   "id": "5c714281964393a7"
  },
  {
   "cell_type": "code",
   "execution_count": 8,
   "outputs": [],
   "source": [
    "x = np.array(x)\n",
    "factor = max(y)\n",
    "y = np.array(y) / factor\n",
    "\n",
    "x_train, x_test, y_train, y_test = train_test_split(x, y, test_size=0.33)"
   ],
   "metadata": {
    "collapsed": false,
    "ExecuteTime": {
     "end_time": "2023-10-11T14:02:50.337624800Z",
     "start_time": "2023-10-11T14:02:50.280010Z"
    }
   },
   "id": "80aed185eb4a56aa"
  },
  {
   "cell_type": "code",
   "execution_count": 9,
   "outputs": [
    {
     "name": "stdout",
     "output_type": "stream",
     "text": [
      "Model: \"sequential\"\n",
      "_________________________________________________________________\n",
      " Layer (type)                Output Shape              Param #   \n",
      "=================================================================\n",
      " dense (Dense)               (None, 400)               366800    \n",
      "                                                                 \n",
      " dense_1 (Dense)             (None, 200)               80200     \n",
      "                                                                 \n",
      " dense_2 (Dense)             (None, 100)               20100     \n",
      "                                                                 \n",
      " dense_3 (Dense)             (None, 50)                5050      \n",
      "                                                                 \n",
      " dense_4 (Dense)             (None, 20)                1020      \n",
      "                                                                 \n",
      " dense_5 (Dense)             (None, 1)                 21        \n",
      "                                                                 \n",
      "=================================================================\n",
      "Total params: 473191 (1.81 MB)\n",
      "Trainable params: 473191 (1.81 MB)\n",
      "Non-trainable params: 0 (0.00 Byte)\n",
      "_________________________________________________________________\n"
     ]
    }
   ],
   "source": [
    "model = keras.Sequential(\n",
    "    [\n",
    "        keras.Input(shape=len(x_train[0], )),\n",
    "        layers.Dense(400, activation='relu'),\n",
    "        layers.Dense(200, activation='relu'),\n",
    "        layers.Dense(100, activation='relu'),\n",
    "        layers.Dense(50, activation='relu'),\n",
    "        layers.Dense(20, activation='relu'),\n",
    "        layers.Dense(1)\n",
    "    ]\n",
    ")\n",
    "model.summary()"
   ],
   "metadata": {
    "collapsed": false,
    "ExecuteTime": {
     "end_time": "2023-10-11T14:02:51.202191Z",
     "start_time": "2023-10-11T14:02:51.078334300Z"
    }
   },
   "id": "431082b8fcafbc8d"
  },
  {
   "cell_type": "code",
   "execution_count": 10,
   "outputs": [],
   "source": [
    "model.compile(optimizer='adam',\n",
    "             loss=\"mean_absolute_error\")"
   ],
   "metadata": {
    "collapsed": false,
    "ExecuteTime": {
     "end_time": "2023-10-11T14:02:53.551047600Z",
     "start_time": "2023-10-11T14:02:53.534422800Z"
    }
   },
   "id": "c4e81afc7b1a4983"
  },
  {
   "cell_type": "code",
   "execution_count": 11,
   "outputs": [
    {
     "name": "stdout",
     "output_type": "stream",
     "text": [
      "Epoch 1/100\n",
      "67/67 [==============================] - 2s 6ms/step - loss: 0.2452\n",
      "Epoch 2/100\n",
      "67/67 [==============================] - 0s 6ms/step - loss: 0.1917\n",
      "Epoch 3/100\n",
      "67/67 [==============================] - 0s 6ms/step - loss: 0.1945\n",
      "Epoch 4/100\n",
      "67/67 [==============================] - 0s 6ms/step - loss: 0.1905\n",
      "Epoch 5/100\n",
      "67/67 [==============================] - 0s 6ms/step - loss: 0.1894\n",
      "Epoch 6/100\n",
      "67/67 [==============================] - 0s 6ms/step - loss: 0.1893\n",
      "Epoch 7/100\n",
      "67/67 [==============================] - 0s 6ms/step - loss: 0.1879\n",
      "Epoch 8/100\n",
      "67/67 [==============================] - 0s 6ms/step - loss: 0.1855\n",
      "Epoch 9/100\n",
      "67/67 [==============================] - 0s 6ms/step - loss: 0.1855\n",
      "Epoch 10/100\n",
      "67/67 [==============================] - 0s 6ms/step - loss: 0.1850\n",
      "Epoch 11/100\n",
      "67/67 [==============================] - 0s 6ms/step - loss: 0.1836\n",
      "Epoch 12/100\n",
      "67/67 [==============================] - 0s 6ms/step - loss: 0.1821\n",
      "Epoch 13/100\n",
      "67/67 [==============================] - 0s 6ms/step - loss: 0.1821\n",
      "Epoch 14/100\n",
      "67/67 [==============================] - 0s 6ms/step - loss: 0.1772\n",
      "Epoch 15/100\n",
      "67/67 [==============================] - 0s 6ms/step - loss: 0.1734\n",
      "Epoch 16/100\n",
      "67/67 [==============================] - 0s 6ms/step - loss: 0.1727\n",
      "Epoch 17/100\n",
      "67/67 [==============================] - 0s 6ms/step - loss: 0.1680\n",
      "Epoch 18/100\n",
      "67/67 [==============================] - 0s 6ms/step - loss: 0.1562\n",
      "Epoch 19/100\n",
      "67/67 [==============================] - 0s 6ms/step - loss: 0.1494\n",
      "Epoch 20/100\n",
      "67/67 [==============================] - 0s 6ms/step - loss: 0.1505\n",
      "Epoch 21/100\n",
      "67/67 [==============================] - 0s 6ms/step - loss: 0.1409\n",
      "Epoch 22/100\n",
      "67/67 [==============================] - 0s 6ms/step - loss: 0.1325\n",
      "Epoch 23/100\n",
      "67/67 [==============================] - 0s 6ms/step - loss: 0.1424\n",
      "Epoch 24/100\n",
      "67/67 [==============================] - 0s 6ms/step - loss: 0.1351\n",
      "Epoch 25/100\n",
      "67/67 [==============================] - 0s 6ms/step - loss: 0.1320\n",
      "Epoch 26/100\n",
      "67/67 [==============================] - 0s 6ms/step - loss: 0.1749\n",
      "Epoch 27/100\n",
      "67/67 [==============================] - 0s 6ms/step - loss: 0.1402\n",
      "Epoch 28/100\n",
      "67/67 [==============================] - 0s 6ms/step - loss: 0.1346\n",
      "Epoch 29/100\n",
      "67/67 [==============================] - 0s 6ms/step - loss: 0.1096\n",
      "Epoch 30/100\n",
      "67/67 [==============================] - 0s 6ms/step - loss: 0.1196\n",
      "Epoch 31/100\n",
      "67/67 [==============================] - 0s 6ms/step - loss: 0.1067\n",
      "Epoch 32/100\n",
      "67/67 [==============================] - 0s 6ms/step - loss: 0.1263\n",
      "Epoch 33/100\n",
      "67/67 [==============================] - 0s 6ms/step - loss: 0.1209\n",
      "Epoch 34/100\n",
      "67/67 [==============================] - 0s 6ms/step - loss: 0.0978\n",
      "Epoch 35/100\n",
      "67/67 [==============================] - 0s 6ms/step - loss: 0.1495\n",
      "Epoch 36/100\n",
      "67/67 [==============================] - 0s 6ms/step - loss: 0.1036\n",
      "Epoch 37/100\n",
      "67/67 [==============================] - 0s 6ms/step - loss: 0.1290\n",
      "Epoch 38/100\n",
      "67/67 [==============================] - 0s 6ms/step - loss: 0.1195\n",
      "Epoch 39/100\n",
      "67/67 [==============================] - 0s 6ms/step - loss: 0.1077\n",
      "Epoch 40/100\n",
      "67/67 [==============================] - 0s 6ms/step - loss: 0.1132\n",
      "Epoch 41/100\n",
      "67/67 [==============================] - 0s 6ms/step - loss: 0.1002\n",
      "Epoch 42/100\n",
      "67/67 [==============================] - 0s 6ms/step - loss: 0.1013\n",
      "Epoch 43/100\n",
      "67/67 [==============================] - 0s 6ms/step - loss: 0.1107\n",
      "Epoch 44/100\n",
      "67/67 [==============================] - 0s 6ms/step - loss: 0.1036\n",
      "Epoch 45/100\n",
      "67/67 [==============================] - 0s 6ms/step - loss: 0.0900\n",
      "Epoch 46/100\n",
      "67/67 [==============================] - 0s 6ms/step - loss: 0.1040\n",
      "Epoch 47/100\n",
      "67/67 [==============================] - 0s 6ms/step - loss: 0.0862\n",
      "Epoch 48/100\n",
      "67/67 [==============================] - 0s 6ms/step - loss: 0.0956\n",
      "Epoch 49/100\n",
      "67/67 [==============================] - 0s 6ms/step - loss: 0.1057\n",
      "Epoch 50/100\n",
      "67/67 [==============================] - 0s 5ms/step - loss: 0.0820\n",
      "Epoch 51/100\n",
      "67/67 [==============================] - 0s 6ms/step - loss: 0.0816\n",
      "Epoch 52/100\n",
      "67/67 [==============================] - 0s 6ms/step - loss: 0.1063\n",
      "Epoch 53/100\n",
      "67/67 [==============================] - 0s 5ms/step - loss: 0.0810\n",
      "Epoch 54/100\n",
      "67/67 [==============================] - 0s 6ms/step - loss: 0.1102\n",
      "Epoch 55/100\n",
      "67/67 [==============================] - 0s 6ms/step - loss: 0.0807\n",
      "Epoch 56/100\n",
      "67/67 [==============================] - 0s 6ms/step - loss: 0.1126\n",
      "Epoch 57/100\n",
      "67/67 [==============================] - 0s 6ms/step - loss: 0.0965\n",
      "Epoch 58/100\n",
      "67/67 [==============================] - 0s 6ms/step - loss: 0.0791\n",
      "Epoch 59/100\n",
      "67/67 [==============================] - 0s 6ms/step - loss: 0.0874\n",
      "Epoch 60/100\n",
      "67/67 [==============================] - 0s 7ms/step - loss: 0.1301\n",
      "Epoch 61/100\n",
      "67/67 [==============================] - 0s 6ms/step - loss: 0.0772\n",
      "Epoch 62/100\n",
      "67/67 [==============================] - 0s 6ms/step - loss: 0.0910\n",
      "Epoch 63/100\n",
      "67/67 [==============================] - 0s 6ms/step - loss: 0.0816\n",
      "Epoch 64/100\n",
      "67/67 [==============================] - 0s 7ms/step - loss: 0.0589\n",
      "Epoch 65/100\n",
      "67/67 [==============================] - 0s 6ms/step - loss: 0.0581\n",
      "Epoch 66/100\n",
      "67/67 [==============================] - 1s 8ms/step - loss: 0.0645\n",
      "Epoch 67/100\n",
      "67/67 [==============================] - 0s 6ms/step - loss: 0.0712\n",
      "Epoch 68/100\n",
      "67/67 [==============================] - 0s 6ms/step - loss: 0.0651\n",
      "Epoch 69/100\n",
      "67/67 [==============================] - 0s 7ms/step - loss: 0.0941\n",
      "Epoch 70/100\n",
      "67/67 [==============================] - 0s 6ms/step - loss: 0.0765\n",
      "Epoch 71/100\n",
      "67/67 [==============================] - 0s 6ms/step - loss: 0.0870\n",
      "Epoch 72/100\n",
      "67/67 [==============================] - 0s 6ms/step - loss: 0.0777\n",
      "Epoch 73/100\n",
      "67/67 [==============================] - 0s 6ms/step - loss: 0.0541\n",
      "Epoch 74/100\n",
      "67/67 [==============================] - 0s 6ms/step - loss: 0.0646\n",
      "Epoch 75/100\n",
      "67/67 [==============================] - 0s 6ms/step - loss: 0.0599\n",
      "Epoch 76/100\n",
      "67/67 [==============================] - 0s 6ms/step - loss: 0.0766\n",
      "Epoch 77/100\n",
      "67/67 [==============================] - 0s 6ms/step - loss: 0.0549\n",
      "Epoch 78/100\n",
      "67/67 [==============================] - 0s 6ms/step - loss: 0.0601\n",
      "Epoch 79/100\n",
      "67/67 [==============================] - 0s 6ms/step - loss: 0.0829\n",
      "Epoch 80/100\n",
      "67/67 [==============================] - 0s 6ms/step - loss: 0.0579\n",
      "Epoch 81/100\n",
      "67/67 [==============================] - 0s 6ms/step - loss: 0.0592\n",
      "Epoch 82/100\n",
      "67/67 [==============================] - 0s 6ms/step - loss: 0.0496\n",
      "Epoch 83/100\n",
      "67/67 [==============================] - 0s 6ms/step - loss: 0.0679\n",
      "Epoch 84/100\n",
      "67/67 [==============================] - 0s 6ms/step - loss: 0.0806\n",
      "Epoch 85/100\n",
      "67/67 [==============================] - 0s 6ms/step - loss: 0.0523\n",
      "Epoch 86/100\n",
      "67/67 [==============================] - 0s 6ms/step - loss: 0.0681\n",
      "Epoch 87/100\n",
      "67/67 [==============================] - 0s 5ms/step - loss: 0.0698\n",
      "Epoch 88/100\n",
      "67/67 [==============================] - 0s 5ms/step - loss: 0.0543\n",
      "Epoch 89/100\n",
      "67/67 [==============================] - 0s 6ms/step - loss: 0.0504\n",
      "Epoch 90/100\n",
      "67/67 [==============================] - 0s 5ms/step - loss: 0.0698\n",
      "Epoch 91/100\n",
      "67/67 [==============================] - 0s 6ms/step - loss: 0.0658\n",
      "Epoch 92/100\n",
      "67/67 [==============================] - 0s 6ms/step - loss: 0.1023\n",
      "Epoch 93/100\n",
      "67/67 [==============================] - 0s 5ms/step - loss: 0.0619\n",
      "Epoch 94/100\n",
      "67/67 [==============================] - 0s 6ms/step - loss: 0.0767\n",
      "Epoch 95/100\n",
      "67/67 [==============================] - 0s 6ms/step - loss: 0.0623\n",
      "Epoch 96/100\n",
      "67/67 [==============================] - 0s 5ms/step - loss: 0.0822\n",
      "Epoch 97/100\n",
      "67/67 [==============================] - 0s 5ms/step - loss: 0.0496\n",
      "Epoch 98/100\n",
      "67/67 [==============================] - 0s 5ms/step - loss: 0.0497\n",
      "Epoch 99/100\n",
      "67/67 [==============================] - 0s 6ms/step - loss: 0.0609\n",
      "Epoch 100/100\n",
      "67/67 [==============================] - 0s 6ms/step - loss: 0.0681\n"
     ]
    },
    {
     "data": {
      "text/plain": "<Figure size 640x480 with 1 Axes>",
      "image/png": "[encoded data removed]"
     },
     "metadata": {},
     "output_type": "display_data"
    }
   ],
   "source": [
    "history = model.fit(np.array(x_train), np.array(y_train), epochs=100, batch_size=100, shuffle=True)\n",
    "plot_loss(history)"
   ],
   "metadata": {
    "collapsed": false,
    "ExecuteTime": {
     "end_time": "2023-10-11T14:03:37.130508900Z",
     "start_time": "2023-10-11T14:02:55.621711300Z"
    }
   },
   "id": "66687fa01e4ce94f"
  },
  {
   "cell_type": "code",
   "execution_count": 12,
   "outputs": [
    {
     "data": {
      "text/plain": "0.03602811321616173"
     },
     "execution_count": 12,
     "metadata": {},
     "output_type": "execute_result"
    }
   ],
   "source": [
    "accuracy = model.evaluate(x_test, y_test, verbose=0)\n",
    "accuracy"
   ],
   "metadata": {
    "collapsed": false,
    "ExecuteTime": {
     "end_time": "2023-10-11T14:03:44.460412900Z",
     "start_time": "2023-10-11T14:03:44.076744800Z"
    }
   },
   "id": "59bdcf7b2a0f89b2"
  },
  {
   "cell_type": "code",
   "execution_count": 13,
   "outputs": [
    {
     "name": "stdout",
     "output_type": "stream",
     "text": [
      "104/104 [==============================] - 0s 2ms/step\n"
     ]
    }
   ],
   "source": [
    "res = model.predict(np.array(x_test))"
   ],
   "metadata": {
    "collapsed": false,
    "ExecuteTime": {
     "end_time": "2023-10-11T14:03:46.069921500Z",
     "start_time": "2023-10-11T14:03:45.591116300Z"
    }
   },
   "id": "bafad122c3857564"
  },
  {
   "cell_type": "code",
   "execution_count": 20,
   "outputs": [
    {
     "data": {
      "text/plain": "(0.45570403, 0.48484848484848486)"
     },
     "execution_count": 20,
     "metadata": {},
     "output_type": "execute_result"
    }
   ],
   "source": [
    "i = 1\n",
    "res[i][0], y_test[i]"
   ],
   "metadata": {
    "collapsed": false,
    "ExecuteTime": {
     "end_time": "2023-10-11T14:04:25.385317600Z",
     "start_time": "2023-10-11T14:04:25.361189700Z"
    }
   },
   "id": "23464a7773de6ff8"
  },
  {
   "cell_type": "code",
   "execution_count": null,
   "outputs": [],
   "source": [],
   "metadata": {
    "collapsed": false,
    "ExecuteTime": {
     "start_time": "2023-10-11T14:02:38.130469Z"
    }
   },
   "id": "3db2b7ce3538343b"
  }
 ],
 "metadata": {
  "kernelspec": {
   "display_name": "Python 3",
   "language": "python",
   "name": "python3"
  },
  "language_info": {
   "codemirror_mode": {
    "name": "ipython",
    "version": 2
   },
   "file_extension": ".py",
   "mimetype": "text/x-python",
   "name": "python",
   "nbconvert_exporter": "python",
   "pygments_lexer": "ipython2",
   "version": "2.7.6"
  }
 },
 "nbformat": 4,
 "nbformat_minor": 5
}
