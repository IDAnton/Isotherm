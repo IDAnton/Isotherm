{
 "cells": [
  {
   "cell_type": "code",
   "execution_count": 138,
   "id": "initial_id",
   "metadata": {
    "collapsed": true,
    "ExecuteTime": {
     "end_time": "2023-10-11T12:37:08.871276500Z",
     "start_time": "2023-10-11T12:37:08.077230100Z"
    }
   },
   "outputs": [],
   "source": [
    "import numpy as np\n",
    "from tensorflow import keras\n",
    "from tensorflow.keras import layers\n",
    "from tensorflow import losses\n",
    "from sklearn.model_selection import train_test_split\n",
    "import matplotlib.pyplot as plt"
   ]
  },
  {
   "cell_type": "code",
   "execution_count": 151,
   "outputs": [],
   "source": [
    "def plot_loss(history):\n",
    "    plt.plot(history.history['loss'], label='loss', marker=\".\")\n",
    "    #plt.plot(history.history['val_loss'], label='val_loss')\n",
    "    plt.xlabel('Epoch')\n",
    "    plt.ylabel('Error [MPG]')\n",
    "    plt.legend()\n",
    "    plt.grid(True)"
   ],
   "metadata": {
    "collapsed": false,
    "ExecuteTime": {
     "end_time": "2023-10-11T12:39:42.195197Z",
     "start_time": "2023-10-11T12:39:42.169178Z"
    }
   },
   "id": "7dd358d1dbf2806d"
  },
  {
   "cell_type": "code",
   "execution_count": 140,
   "outputs": [],
   "source": [
    "x = []\n",
    "y = []\n",
    "for i in range(1, 10001):\n",
    "    raw_data = np.load(f'data/test_carbon/{i}.npz')\n",
    "    x.append(np.concatenate((raw_data[\"n_s\"]/max(raw_data[\"n_s\"]), raw_data[\"n_d\"]/max(raw_data[\"n_d\"])), axis=0))\n",
    "    y.append(raw_data[\"a\"])"
   ],
   "metadata": {
    "collapsed": false,
    "ExecuteTime": {
     "end_time": "2023-10-11T12:37:17.802221900Z",
     "start_time": "2023-10-11T12:37:08.873278100Z"
    }
   },
   "id": "5c714281964393a7"
  },
  {
   "cell_type": "code",
   "execution_count": 141,
   "outputs": [],
   "source": [
    "x = np.array(x)\n",
    "factor = max(y)\n",
    "y = np.array(y) / factor\n",
    "\n",
    "x_train, x_test, y_train, y_test = train_test_split(x, y, test_size=0.33)"
   ],
   "metadata": {
    "collapsed": false,
    "ExecuteTime": {
     "end_time": "2023-10-11T12:37:17.864776Z",
     "start_time": "2023-10-11T12:37:17.805244300Z"
    }
   },
   "id": "80aed185eb4a56aa"
  },
  {
   "cell_type": "code",
   "execution_count": 160,
   "outputs": [
    {
     "name": "stdout",
     "output_type": "stream",
     "text": [
      "Model: \"sequential_14\"\n",
      "_________________________________________________________________\n",
      " Layer (type)                Output Shape              Param #   \n",
      "=================================================================\n",
      " dense_53 (Dense)            (None, 400)               366800    \n",
      "                                                                 \n",
      " dense_54 (Dense)            (None, 200)               80200     \n",
      "                                                                 \n",
      " dense_55 (Dense)            (None, 100)               20100     \n",
      "                                                                 \n",
      " dense_56 (Dense)            (None, 50)                5050      \n",
      "                                                                 \n",
      " dense_57 (Dense)            (None, 20)                1020      \n",
      "                                                                 \n",
      " dense_58 (Dense)            (None, 1)                 21        \n",
      "                                                                 \n",
      "=================================================================\n",
      "Total params: 473191 (1.81 MB)\n",
      "Trainable params: 473191 (1.81 MB)\n",
      "Non-trainable params: 0 (0.00 Byte)\n",
      "_________________________________________________________________\n"
     ]
    }
   ],
   "source": [
    "model = keras.Sequential(\n",
    "    [\n",
    "        keras.Input(shape=len(x_train[0], )),\n",
    "        layers.Dense(400, activation='relu'),\n",
    "        layers.Dense(200, activation='relu'),\n",
    "        layers.Dense(100, activation='relu'),\n",
    "        layers.Dense(50, activation='relu'),\n",
    "        layers.Dense(20, activation='relu'),\n",
    "        layers.Dense(1)\n",
    "    ]\n",
    ")\n",
    "model.summary()"
   ],
   "metadata": {
    "collapsed": false,
    "ExecuteTime": {
     "end_time": "2023-10-11T12:41:17.818701400Z",
     "start_time": "2023-10-11T12:41:17.735807800Z"
    }
   },
   "id": "431082b8fcafbc8d"
  },
  {
   "cell_type": "code",
   "execution_count": 161,
   "outputs": [],
   "source": [
    "model.compile(optimizer='adam',\n",
    "             loss=\"mean_absolute_error\")"
   ],
   "metadata": {
    "collapsed": false,
    "ExecuteTime": {
     "end_time": "2023-10-11T12:41:18.611937400Z",
     "start_time": "2023-10-11T12:41:18.595904200Z"
    }
   },
   "id": "c4e81afc7b1a4983"
  },
  {
   "cell_type": "code",
   "execution_count": 162,
   "outputs": [
    {
     "name": "stdout",
     "output_type": "stream",
     "text": [
      "Epoch 1/100\n",
      "67/67 [==============================] - 1s 6ms/step - loss: 0.2517\n",
      "Epoch 2/100\n",
      "67/67 [==============================] - 0s 6ms/step - loss: 0.1991\n",
      "Epoch 3/100\n",
      "67/67 [==============================] - 0s 6ms/step - loss: 0.1907\n",
      "Epoch 4/100\n",
      "67/67 [==============================] - 0s 6ms/step - loss: 0.1967\n",
      "Epoch 5/100\n",
      "67/67 [==============================] - 0s 6ms/step - loss: 0.1906\n",
      "Epoch 6/100\n",
      "67/67 [==============================] - 0s 6ms/step - loss: 0.1961\n",
      "Epoch 7/100\n",
      "67/67 [==============================] - 0s 7ms/step - loss: 0.1880\n",
      "Epoch 8/100\n",
      "67/67 [==============================] - 0s 6ms/step - loss: 0.1867\n",
      "Epoch 9/100\n",
      "67/67 [==============================] - 0s 6ms/step - loss: 0.1874\n",
      "Epoch 10/100\n",
      "67/67 [==============================] - 0s 6ms/step - loss: 0.1844\n",
      "Epoch 11/100\n",
      "67/67 [==============================] - 0s 6ms/step - loss: 0.1834\n",
      "Epoch 12/100\n",
      "67/67 [==============================] - 0s 6ms/step - loss: 0.1813\n",
      "Epoch 13/100\n",
      "67/67 [==============================] - 0s 6ms/step - loss: 0.1859\n",
      "Epoch 14/100\n",
      "67/67 [==============================] - 0s 6ms/step - loss: 0.1842\n",
      "Epoch 15/100\n",
      "67/67 [==============================] - 0s 6ms/step - loss: 0.1842\n",
      "Epoch 16/100\n",
      "67/67 [==============================] - 0s 6ms/step - loss: 0.1785\n",
      "Epoch 17/100\n",
      "67/67 [==============================] - 0s 7ms/step - loss: 0.1740\n",
      "Epoch 18/100\n",
      "67/67 [==============================] - 0s 7ms/step - loss: 0.1755\n",
      "Epoch 19/100\n",
      "67/67 [==============================] - 0s 6ms/step - loss: 0.1697\n",
      "Epoch 20/100\n",
      "67/67 [==============================] - 0s 6ms/step - loss: 0.1660\n",
      "Epoch 21/100\n",
      "67/67 [==============================] - 0s 6ms/step - loss: 0.1551\n",
      "Epoch 22/100\n",
      "67/67 [==============================] - 0s 6ms/step - loss: 0.1737\n",
      "Epoch 23/100\n",
      "67/67 [==============================] - 0s 6ms/step - loss: 0.1698\n",
      "Epoch 24/100\n",
      "67/67 [==============================] - 0s 6ms/step - loss: 0.1562\n",
      "Epoch 25/100\n",
      "67/67 [==============================] - 0s 6ms/step - loss: 0.1513\n",
      "Epoch 26/100\n",
      "67/67 [==============================] - 0s 6ms/step - loss: 0.1257\n",
      "Epoch 27/100\n",
      "67/67 [==============================] - 0s 6ms/step - loss: 0.1486\n",
      "Epoch 28/100\n",
      "67/67 [==============================] - 0s 6ms/step - loss: 0.1288\n",
      "Epoch 29/100\n",
      "67/67 [==============================] - 0s 6ms/step - loss: 0.1343\n",
      "Epoch 30/100\n",
      "67/67 [==============================] - 0s 6ms/step - loss: 0.1449\n",
      "Epoch 31/100\n",
      "67/67 [==============================] - 0s 6ms/step - loss: 0.1389\n",
      "Epoch 32/100\n",
      "67/67 [==============================] - 0s 6ms/step - loss: 0.1603\n",
      "Epoch 33/100\n",
      "67/67 [==============================] - 0s 6ms/step - loss: 0.1426\n",
      "Epoch 34/100\n",
      "67/67 [==============================] - 0s 6ms/step - loss: 0.1914\n",
      "Epoch 35/100\n",
      "67/67 [==============================] - 0s 6ms/step - loss: 0.1872\n",
      "Epoch 36/100\n",
      "67/67 [==============================] - 0s 6ms/step - loss: 0.1872\n",
      "Epoch 37/100\n",
      "67/67 [==============================] - 0s 6ms/step - loss: 0.1861\n",
      "Epoch 38/100\n",
      "67/67 [==============================] - 0s 6ms/step - loss: 0.1646\n",
      "Epoch 39/100\n",
      "67/67 [==============================] - 0s 6ms/step - loss: 0.1532\n",
      "Epoch 40/100\n",
      "67/67 [==============================] - 0s 6ms/step - loss: 0.1456\n",
      "Epoch 41/100\n",
      "67/67 [==============================] - 0s 6ms/step - loss: 0.1275\n",
      "Epoch 42/100\n",
      "67/67 [==============================] - 0s 6ms/step - loss: 0.1278\n",
      "Epoch 43/100\n",
      "67/67 [==============================] - 0s 6ms/step - loss: 0.1064\n",
      "Epoch 44/100\n",
      "67/67 [==============================] - 0s 6ms/step - loss: 0.1428\n",
      "Epoch 45/100\n",
      "67/67 [==============================] - 0s 6ms/step - loss: 0.1248\n",
      "Epoch 46/100\n",
      "67/67 [==============================] - 0s 6ms/step - loss: 0.1132\n",
      "Epoch 47/100\n",
      "67/67 [==============================] - 0s 6ms/step - loss: 0.1101\n",
      "Epoch 48/100\n",
      "67/67 [==============================] - 0s 6ms/step - loss: 0.1004\n",
      "Epoch 49/100\n",
      "67/67 [==============================] - 0s 6ms/step - loss: 0.1215\n",
      "Epoch 50/100\n",
      "67/67 [==============================] - 0s 6ms/step - loss: 0.0905\n",
      "Epoch 51/100\n",
      "67/67 [==============================] - 0s 6ms/step - loss: 0.0925\n",
      "Epoch 52/100\n",
      "67/67 [==============================] - 0s 6ms/step - loss: 0.1226\n",
      "Epoch 53/100\n",
      "67/67 [==============================] - 0s 6ms/step - loss: 0.1103\n",
      "Epoch 54/100\n",
      "67/67 [==============================] - 0s 6ms/step - loss: 0.1026\n",
      "Epoch 55/100\n",
      "67/67 [==============================] - 0s 6ms/step - loss: 0.0823\n",
      "Epoch 56/100\n",
      "67/67 [==============================] - 0s 6ms/step - loss: 0.0999\n",
      "Epoch 57/100\n",
      "67/67 [==============================] - 0s 6ms/step - loss: 0.0861\n",
      "Epoch 58/100\n",
      "67/67 [==============================] - 0s 6ms/step - loss: 0.1102\n",
      "Epoch 59/100\n",
      "67/67 [==============================] - 0s 6ms/step - loss: 0.0817\n",
      "Epoch 60/100\n",
      "67/67 [==============================] - 0s 6ms/step - loss: 0.0883\n",
      "Epoch 61/100\n",
      "67/67 [==============================] - 0s 6ms/step - loss: 0.0677\n",
      "Epoch 62/100\n",
      "67/67 [==============================] - 0s 6ms/step - loss: 0.0926\n",
      "Epoch 63/100\n",
      "67/67 [==============================] - 0s 6ms/step - loss: 0.0886\n",
      "Epoch 64/100\n",
      "67/67 [==============================] - 0s 6ms/step - loss: 0.0779\n",
      "Epoch 65/100\n",
      "67/67 [==============================] - 0s 6ms/step - loss: 0.0881\n",
      "Epoch 66/100\n",
      "67/67 [==============================] - 0s 6ms/step - loss: 0.1004\n",
      "Epoch 67/100\n",
      "67/67 [==============================] - 0s 6ms/step - loss: 0.0846\n",
      "Epoch 68/100\n",
      "67/67 [==============================] - 1s 7ms/step - loss: 0.0825\n",
      "Epoch 69/100\n",
      "67/67 [==============================] - 0s 6ms/step - loss: 0.0792\n",
      "Epoch 70/100\n",
      "67/67 [==============================] - 0s 6ms/step - loss: 0.0825\n",
      "Epoch 71/100\n",
      "67/67 [==============================] - 0s 6ms/step - loss: 0.0759\n",
      "Epoch 72/100\n",
      "67/67 [==============================] - 0s 6ms/step - loss: 0.0583\n",
      "Epoch 73/100\n",
      "67/67 [==============================] - 0s 6ms/step - loss: 0.0663\n",
      "Epoch 74/100\n",
      "67/67 [==============================] - 0s 6ms/step - loss: 0.0652\n",
      "Epoch 75/100\n",
      "67/67 [==============================] - 0s 6ms/step - loss: 0.0673\n",
      "Epoch 76/100\n",
      "67/67 [==============================] - 0s 6ms/step - loss: 0.0746\n",
      "Epoch 77/100\n",
      "67/67 [==============================] - 0s 6ms/step - loss: 0.0645\n",
      "Epoch 78/100\n",
      "67/67 [==============================] - 0s 6ms/step - loss: 0.0804\n",
      "Epoch 79/100\n",
      "67/67 [==============================] - 0s 6ms/step - loss: 0.0824\n",
      "Epoch 80/100\n",
      "67/67 [==============================] - 0s 6ms/step - loss: 0.0664\n",
      "Epoch 81/100\n",
      "67/67 [==============================] - 0s 7ms/step - loss: 0.0659\n",
      "Epoch 82/100\n",
      "67/67 [==============================] - 0s 6ms/step - loss: 0.0759\n",
      "Epoch 83/100\n",
      "67/67 [==============================] - 0s 6ms/step - loss: 0.0665\n",
      "Epoch 84/100\n",
      "67/67 [==============================] - 0s 6ms/step - loss: 0.0622\n",
      "Epoch 85/100\n",
      "67/67 [==============================] - 0s 6ms/step - loss: 0.0540\n",
      "Epoch 86/100\n",
      "67/67 [==============================] - 0s 6ms/step - loss: 0.0653\n",
      "Epoch 87/100\n",
      "67/67 [==============================] - 0s 6ms/step - loss: 0.0711\n",
      "Epoch 88/100\n",
      "67/67 [==============================] - 0s 6ms/step - loss: 0.0567\n",
      "Epoch 89/100\n",
      "67/67 [==============================] - 0s 6ms/step - loss: 0.0537\n",
      "Epoch 90/100\n",
      "67/67 [==============================] - 0s 6ms/step - loss: 0.0583\n",
      "Epoch 91/100\n",
      "67/67 [==============================] - 0s 6ms/step - loss: 0.0716\n",
      "Epoch 92/100\n",
      "67/67 [==============================] - 0s 6ms/step - loss: 0.0759\n",
      "Epoch 93/100\n",
      "67/67 [==============================] - 0s 6ms/step - loss: 0.0566\n",
      "Epoch 94/100\n",
      "67/67 [==============================] - 0s 6ms/step - loss: 0.0921\n",
      "Epoch 95/100\n",
      "67/67 [==============================] - 0s 6ms/step - loss: 0.0618\n",
      "Epoch 96/100\n",
      "67/67 [==============================] - 0s 6ms/step - loss: 0.0574\n",
      "Epoch 97/100\n",
      "67/67 [==============================] - 0s 6ms/step - loss: 0.0703\n",
      "Epoch 98/100\n",
      "67/67 [==============================] - 0s 6ms/step - loss: 0.0454\n",
      "Epoch 99/100\n",
      "67/67 [==============================] - 0s 6ms/step - loss: 0.0780\n",
      "Epoch 100/100\n",
      "67/67 [==============================] - 0s 6ms/step - loss: 0.0536\n"
     ]
    },
    {
     "data": {
      "text/plain": "<Figure size 640x480 with 1 Axes>",
      "image/png": "[encoded data removed]"
     },
     "metadata": {},
     "output_type": "display_data"
    }
   ],
   "source": [
    "history = model.fit(np.array(x_train), np.array(y_train), epochs=100, batch_size=100, shuffle=True)\n",
    "plot_loss(history)"
   ],
   "metadata": {
    "collapsed": false,
    "ExecuteTime": {
     "end_time": "2023-10-11T12:41:59.801352100Z",
     "start_time": "2023-10-11T12:41:19.796730200Z"
    }
   },
   "id": "66687fa01e4ce94f"
  },
  {
   "cell_type": "code",
   "execution_count": 166,
   "outputs": [
    {
     "data": {
      "text/plain": "0.03572257608175278"
     },
     "execution_count": 166,
     "metadata": {},
     "output_type": "execute_result"
    }
   ],
   "source": [
    "accuracy = model.evaluate(x_test, y_test, verbose=0)\n",
    "accuracy"
   ],
   "metadata": {
    "collapsed": false,
    "ExecuteTime": {
     "end_time": "2023-10-11T12:42:35.205372600Z",
     "start_time": "2023-10-11T12:42:34.933417900Z"
    }
   },
   "id": "59bdcf7b2a0f89b2"
  },
  {
   "cell_type": "code",
   "execution_count": 167,
   "outputs": [
    {
     "name": "stdout",
     "output_type": "stream",
     "text": [
      "210/210 [==============================] - 0s 2ms/step\n"
     ]
    }
   ],
   "source": [
    "res = model.predict(np.array(x_train))"
   ],
   "metadata": {
    "collapsed": false,
    "ExecuteTime": {
     "end_time": "2023-10-11T12:42:45.177236500Z",
     "start_time": "2023-10-11T12:42:44.560847200Z"
    }
   },
   "id": "bafad122c3857564"
  },
  {
   "cell_type": "code",
   "execution_count": null,
   "outputs": [],
   "source": [
    "i = 1500\n",
    "res[i][0], y_train[i]"
   ],
   "metadata": {
    "collapsed": false,
    "is_executing": true
   },
   "id": "23464a7773de6ff8"
  },
  {
   "cell_type": "code",
   "execution_count": null,
   "outputs": [],
   "source": [],
   "metadata": {
    "collapsed": false
   },
   "id": "3db2b7ce3538343b"
  }
 ],
 "metadata": {
  "kernelspec": {
   "display_name": "Python 3",
   "language": "python",
   "name": "python3"
  },
  "language_info": {
   "codemirror_mode": {
    "name": "ipython",
    "version": 2
   },
   "file_extension": ".py",
   "mimetype": "text/x-python",
   "name": "python",
   "nbconvert_exporter": "python",
   "pygments_lexer": "ipython2",
   "version": "2.7.6"
  }
 },
 "nbformat": 4,
 "nbformat_minor": 5
}
