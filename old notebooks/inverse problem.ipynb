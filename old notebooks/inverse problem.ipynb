{
 "cells": [
  {
   "cell_type": "code",
   "execution_count": 1,
   "outputs": [],
   "source": [
    "import numpy as np\n",
    "import matplotlib.pyplot as plt\n",
    "import matplotlib\n",
    "import copy\n",
    "\n",
    "from generator import Generator\n",
    "from inverse import fit_SLSQP, fit_matrix\n",
    "\n",
    "#%matplotlib inline  \n",
    "\n",
    "def plot():\n",
    "    plt.grid()\n",
    "    plt.legend()\n",
    "    plt.show()"
   ],
   "metadata": {
    "collapsed": false,
    "ExecuteTime": {
     "end_time": "2024-02-16T11:22:09.232695500Z",
     "start_time": "2024-02-16T11:22:08.552694500Z"
    }
   },
   "id": "f92477c2cd9ffd45"
  },
  {
   "cell_type": "markdown",
   "source": [
    "### Генерируем изотерму, решаем для нее обратную задачу"
   ],
   "metadata": {
    "collapsed": false
   },
   "id": "458645f14769b086"
  },
  {
   "cell_type": "code",
   "execution_count": 2,
   "outputs": [],
   "source": [
    "gen = Generator(path_s=\"data/initial kernels/Kernel_Silica_Adsorption.npy\",\n",
    "                        path_d=\"data/initial kernels/Kernel_Silica_Desorption.npy\",\n",
    "                        path_p_d=\"data/initial kernels/Pressure_Silica.npy\",\n",
    "                        path_p_s=\"data/initial kernels/Pressure_Silica.npy\",\n",
    "                        path_a=\"data/initial kernels/Size_Kernel_Silica_Adsorption.npy\"\n",
    "                )\n",
    "gen.generate_pore_distribution(sigma1=1, sigma2=2, d0_1=1, d0_2=20, a=0.5)\n",
    "gen.calculate_calculate_isotherms_right()\n",
    "gen.interp_desorption()\n",
    "_ = gen.plot_isotherm()"
   ],
   "metadata": {
    "collapsed": false,
    "ExecuteTime": {
     "end_time": "2024-02-16T11:22:10.866866600Z",
     "start_time": "2024-02-16T11:22:09.688909700Z"
    }
   },
   "id": "a775204c097ace97"
  },
  {
   "cell_type": "code",
   "execution_count": 3,
   "outputs": [],
   "source": [
    "kernel_carbon = np.load(\"data/initial kernels/Kernel_Silica_Adsorption.npy\")\n",
    "pore_widths = np.load(\"data/initial kernels/Size_Kernel_Silica_Adsorption.npy\")"
   ],
   "metadata": {
    "collapsed": false,
    "ExecuteTime": {
     "end_time": "2024-02-16T11:22:11.679765100Z",
     "start_time": "2024-02-16T11:22:11.661777500Z"
    }
   },
   "id": "3b62c855cc8733d2"
  },
  {
   "cell_type": "code",
   "execution_count": 11,
   "outputs": [
    {
     "name": "stderr",
     "output_type": "stream",
     "text": [
      "C:\\Users\\ivano\\PycharmProjects\\isotherm\\inverse.py:27: RuntimeWarning: divide by zero encountered in log\n",
      "  adsorption)).sum(axis=0) + alpha * np.sum(w * np.log(w)) / len(pore_dist) + beta * np.sum(\n",
      "C:\\Users\\ivano\\PycharmProjects\\isotherm\\inverse.py:27: RuntimeWarning: invalid value encountered in multiply\n",
      "  adsorption)).sum(axis=0) + alpha * np.sum(w * np.log(w)) / len(pore_dist) + beta * np.sum(\n"
     ]
    }
   ],
   "source": [
    "fit1 = fit_SLSQP(adsorption=gen.n_s, kernel=kernel_carbon, a_array=pore_widths)\n",
    "fit2 = fit_matrix(adsorption=gen.n_s, kernel=kernel_carbon.T)"
   ],
   "metadata": {
    "collapsed": false,
    "ExecuteTime": {
     "end_time": "2024-02-15T05:31:57.179572500Z",
     "start_time": "2024-02-15T05:31:54.292573300Z"
    }
   },
   "id": "fea4ee157767af6d"
  },
  {
   "cell_type": "code",
   "execution_count": 13,
   "outputs": [],
   "source": [
    "plt.plot(pore_widths, fit1.x, marker=\".\", label=\"SLSQP\")\n",
    "#plt.plot(pore_widths, fit2[0], marker=\".\", label=\"Matrix\")\n",
    "plt.plot(pore_widths, gen.pore_distribution, marker=\".\", label=\"Generated isotherm\")\n",
    "plot()"
   ],
   "metadata": {
    "collapsed": false,
    "ExecuteTime": {
     "end_time": "2024-02-15T05:31:59.353750700Z",
     "start_time": "2024-02-15T05:31:58.374572300Z"
    }
   },
   "id": "9fc93077aaca60b4"
  },
  {
   "cell_type": "markdown",
   "source": [
    "### Добавляем случайного шума к сгенерированной изотерме"
   ],
   "metadata": {
    "collapsed": false
   },
   "id": "5dc9d2c221a40a09"
  },
  {
   "cell_type": "code",
   "execution_count": 12,
   "outputs": [],
   "source": [
    "n_s_with_noise = gen.n_s * np.random.normal(loc=1, scale=0.015, size=len(gen.n_s))\n",
    "plt.plot(gen.pressures_s, n_s_with_noise, label=\"Isotherm with random noise\")\n",
    "plt.plot(gen.pressures_s, gen.n_s, marker=\".\", label=\"Initial isotherm\")\n",
    "plt.ylabel(\"Adsorption value\")\n",
    "plt.xlabel(\"P / P0\")\n",
    "plot()"
   ],
   "metadata": {
    "collapsed": false,
    "ExecuteTime": {
     "end_time": "2024-02-15T05:31:58.379573400Z",
     "start_time": "2024-02-15T05:31:57.181576500Z"
    }
   },
   "id": "62539a0fb233af64"
  },
  {
   "cell_type": "code",
   "execution_count": 7,
   "outputs": [],
   "source": [
    "# решаем задачу с шумом\n",
    "fit1_noise = fit_SLSQP(adsorption=n_s_with_noise, kernel=kernel_carbon, a_array=pore_widths, beta=0.01)\n",
    "fit2_noise = fit_matrix(adsorption=n_s_with_noise, kernel=kernel_carbon.T, rcond=0)\n",
    "plt.plot(pore_widths, fit1_noise.x, marker=\".\", label=\"Functional minimization method\")\n",
    "#plt.plot(pore_widths, fit2_noise[0], marker=\".\", label=\"Matrix\")\n",
    "plt.plot(pore_widths, gen.pore_distribution, marker=\".\", label=\"Pore size distribution\")\n",
    "plt.xlabel(\"Pore size (nm)\")\n",
    "plt.ylabel(\"Surface area\")\n",
    "plot()"
   ],
   "metadata": {
    "collapsed": false,
    "ExecuteTime": {
     "end_time": "2024-02-12T13:01:36.787431200Z",
     "start_time": "2024-02-12T13:01:34.209084400Z"
    }
   },
   "id": "748771e45d77531f"
  },
  {
   "cell_type": "code",
   "execution_count": 8,
   "outputs": [],
   "source": [
    "# строим изотермы по полученному распределению пор\n",
    "gen1 = copy.deepcopy(gen)\n",
    "gen2 = copy.deepcopy(gen)\n",
    "gen1.pore_distribution = fit1_noise.x\n",
    "gen2.pore_distribution = fit2_noise[0]\n",
    "gen1.calculate_isotherms()\n",
    "gen2.calculate_isotherms()\n",
    "plt.plot(gen1.pressures_s, gen1.n_s, marker=\".\", label=\"SLSQP\")\n",
    "plt.plot(gen2.pressures_s, gen2.n_s, marker=\".\", label=\"Matrix\")\n",
    "plt.plot(gen.pressures_s, gen.n_s, marker=\".\", label=\"Generated isotherm\")\n",
    "plot()"
   ],
   "metadata": {
    "collapsed": false,
    "ExecuteTime": {
     "end_time": "2024-02-12T13:01:37.958752Z",
     "start_time": "2024-02-12T13:01:36.783422900Z"
    }
   },
   "id": "a250b6cb004cc958"
  },
  {
   "cell_type": "markdown",
   "source": [
    "### Теперь с экспериментальной изотермой"
   ],
   "metadata": {
    "collapsed": false
   },
   "id": "5ce1ec7931b78f63"
  },
  {
   "cell_type": "code",
   "execution_count": 15,
   "outputs": [],
   "source": [
    "exp_data = np.loadtxt(\"data/real/MCM-41-adsorb.txt\")\n",
    "#exp_data = np.loadtxt(\"data/real/carbon.txt\")\n",
    "p_exp = np.empty(len(exp_data))\n",
    "n_exp = np.empty(len(exp_data))\n",
    "for i in range(len(exp_data)):  # Загружаем адсорбцию и давления\n",
    "    p_exp[i] = exp_data[i][0]\n",
    "    n_exp[i] = exp_data[i][1]\n",
    "j = np.argmax(n_exp) + 1  # Отделяем адсорбционную ветку\n",
    "n_s_exp_raw = n_exp[:j]\n",
    "p_exp_sorb = p_exp[:j]\n",
    "\n",
    "plt.plot(p_exp_sorb, n_s_exp_raw, marker=\".\", label=\"MCM-41\")\n",
    "plot()"
   ],
   "metadata": {
    "collapsed": false,
    "ExecuteTime": {
     "end_time": "2024-02-16T11:26:10.992472100Z",
     "start_time": "2024-02-16T11:26:09.813638500Z"
    }
   },
   "id": "fe7c89bbf29602ab"
  },
  {
   "cell_type": "code",
   "execution_count": 16,
   "outputs": [],
   "source": [
    "# интерполируем экспериментальную изотерму под давления кернала\n",
    "n_s_exp_uncut = np.interp(gen.pressures_s[40:], p_exp_sorb, n_s_exp_raw)\n",
    "plt.plot(gen.pressures_s[40:], n_s_exp_uncut)\n",
    "# min_exp_pressure_i = np.where(n_s_exp_uncut==min(n_s_exp_uncut))[0][-1]  # индекс первого давления в эксп\n",
    "# max_exp_pressure_i = sorted((np.abs(gen.pressures_s - p_exp_sorb[-1])).argsort()[:1], reverse=False)[0]  # индекс последнего давления в эксп\n",
    "n_s_exp = n_s_exp_uncut\n",
    "pressures_s_cut = gen.pressures_s[40:]\n",
    "cut_kernel = (kernel_carbon.T[40:]).T  # отрезаем от кернела давления которых нет в эксперименте\n",
    "plt.plot(pressures_s_cut, n_s_exp, marker=\".\", label=\"Interpolated real carbon isotherm\")\n",
    "plot()"
   ],
   "metadata": {
    "collapsed": false,
    "ExecuteTime": {
     "end_time": "2024-02-16T11:26:12.732594900Z",
     "start_time": "2024-02-16T11:26:11.805146400Z"
    }
   },
   "id": "167d0c84be852aa5"
  },
  {
   "cell_type": "code",
   "execution_count": 37,
   "outputs": [
    {
     "name": "stderr",
     "output_type": "stream",
     "text": [
      "C:\\Users\\ivano\\PycharmProjects\\isotherm\\inverse.py:27: RuntimeWarning: divide by zero encountered in log\n",
      "  adsorption)).sum(axis=0) + alpha * np.sum(w * np.log(w)) / len(pore_dist) + beta * np.sum(\n",
      "C:\\Users\\ivano\\PycharmProjects\\isotherm\\inverse.py:27: RuntimeWarning: invalid value encountered in multiply\n",
      "  adsorption)).sum(axis=0) + alpha * np.sum(w * np.log(w)) / len(pore_dist) + beta * np.sum(\n"
     ]
    }
   ],
   "source": [
    "fit1_exp= fit_SLSQP(adsorption=n_s_exp, kernel=cut_kernel, a_array=pore_widths, beta=0.01)"
   ],
   "metadata": {
    "collapsed": false,
    "ExecuteTime": {
     "end_time": "2024-02-16T06:08:25.316164400Z",
     "start_time": "2024-02-16T06:08:25.143165100Z"
    }
   },
   "id": "d1e4f5befaef89b0"
  },
  {
   "cell_type": "code",
   "execution_count": 38,
   "outputs": [],
   "source": [
    "real_distr = np.loadtxt(\"data/real/carbon_distr.txt\", skiprows=4, unpack=True)\n",
    "plt.plot(pore_widths, fit1_exp.x, marker=\".\", label=\"SLSQP\")\n",
    "plt.plot(real_distr[0], real_distr[4], marker=\".\", label=\"Real\")\n",
    "#plt.yscale(\"log\")\n",
    "plot()"
   ],
   "metadata": {
    "collapsed": false,
    "ExecuteTime": {
     "end_time": "2024-02-16T06:08:32.659094800Z",
     "start_time": "2024-02-16T06:08:25.930460Z"
    }
   },
   "id": "cefd294af6cab15b"
  },
  {
   "cell_type": "code",
   "execution_count": 12,
   "outputs": [],
   "source": [
    "# строим изотермы по полученному распределению пор\n",
    "gen1_exp = copy.deepcopy(gen)\n",
    "gen2_exp = copy.deepcopy(gen)\n",
    "gen1_exp.pore_distribution = fit1_exp.x\n",
    "gen1_exp.calculate_calculate_isotherms_right()\n",
    "plt.plot(gen1_exp.pressures_s[40:], gen1_exp.n_s[40:], marker=\".\", label=\"SLSQP\")\n",
    "plt.plot(pressures_s_cut, n_s_exp, marker=\".\", label=\"Interpolated real carbon isotherm\")\n",
    "plot()"
   ],
   "metadata": {
    "collapsed": false,
    "ExecuteTime": {
     "end_time": "2024-02-16T05:46:54.078249600Z",
     "start_time": "2024-02-16T05:46:44.626190300Z"
    }
   },
   "id": "b6ab71e4c0c1b1ea"
  },
  {
   "cell_type": "markdown",
   "source": [
    "### Нейросеть"
   ],
   "metadata": {
    "collapsed": false
   },
   "id": "78b5cbf62373f783"
  },
  {
   "cell_type": "code",
   "execution_count": 17,
   "outputs": [],
   "source": [
    "# импортируем модель\n",
    "import keras\n",
    "import tensorflow as tf\n",
    "model = keras.models.load_model('data/models/classification.keras', custom_objects={'abs': tf.math.abs})\n",
    "#model2 = keras.models.load_model('data/models/silica_medium_relu.keras', custom_objects={'abs': tf.math.abs})"
   ],
   "metadata": {
    "collapsed": false,
    "ExecuteTime": {
     "end_time": "2024-02-16T11:26:15.754904200Z",
     "start_time": "2024-02-16T11:26:15.530921400Z"
    }
   },
   "id": "1191cbb8cb067471"
  },
  {
   "cell_type": "code",
   "execution_count": 22,
   "outputs": [
    {
     "name": "stdout",
     "output_type": "stream",
     "text": [
      "1/1 [==============================] - 0s 23ms/step\n"
     ]
    }
   ],
   "source": [
    "# prepare exp data for net\n",
    "n_s_exp = n_s_exp_uncut\n",
    "n_s_exp_for_net = n_s_exp - min(n_s_exp)\n",
    "x_scale=max(n_s_exp_for_net)\n",
    "n_s_exp_for_net = n_s_exp_for_net / x_scale\n",
    "\n",
    "plt.plot(gen.pressures_s[40:], n_s_exp_for_net, marker=\".\")\n",
    "plt.show()\n",
    "fit3_exp = model.predict(np.array([n_s_exp_for_net])).T  # получаем ответ от нейросети\n",
    "\n",
    "# gen3_exp = copy.deepcopy(gen)  # нормируем на реальную изотерму\n",
    "# gen3_exp.pore_distribution = fit3_exp\n",
    "# gen3_exp.calculate_isotherms()\n",
    "# scale_res = max(n_s_exp) / max(gen3_exp.n_s)"
   ],
   "metadata": {
    "collapsed": false,
    "ExecuteTime": {
     "end_time": "2024-02-16T11:29:33.761462400Z",
     "start_time": "2024-02-16T11:29:32.626841700Z"
    }
   },
   "id": "e0b2f9b83d342d6c"
  },
  {
   "cell_type": "code",
   "execution_count": 64,
   "outputs": [],
   "source": [
    "plt.plot(pore_widths, fit3_exp*x_scale, marker=\".\", label=\"MCM-41_1\")\n",
    "plt.plot(pore_widths, fit3_exp2*x_scale, marker=\".\", label=\"MCM-41_nist\")\n",
    "#plt.plot(pore_widths, fit1_exp.x, marker=\".\", label=\"Classic method of functional minimization\")\n",
    "# plt.plot(real_distr[0], real_distr[4], marker=\".\", label=\"Адсорбционный прибор\")\n",
    "# plt.yscale(\"log\")\n",
    "\n",
    "plt.xlabel(\"Pore size (nm)\")\n",
    "plt.ylabel(\"Surface area\")\n",
    "plot()"
   ],
   "metadata": {
    "collapsed": false,
    "ExecuteTime": {
     "end_time": "2024-02-16T06:20:22.221485400Z",
     "start_time": "2024-02-16T06:17:43.347513700Z"
    }
   },
   "id": "78af4e2177aa1532"
  },
  {
   "cell_type": "code",
   "execution_count": 22,
   "outputs": [],
   "source": [
    "fit3_exp_shaped = fit3_exp.reshape(128,)\n",
    "# fit3_exp_shaped[-40:] = np.zeros(40)\n",
    "# print(pore_widths[-40])\n",
    "\n",
    "gen3_exp = copy.deepcopy(gen)\n",
    "gen3_exp.pore_distribution = fit3_exp_shaped * x_scale\n",
    "gen3_exp.calculate_calculate_isotherms_right()\n",
    "gen1_exp.calculate_calculate_isotherms_right()\n",
    "# plt.plot(gen1_exp.pressures_s[min_exp_pressure_i:max_exp_pressure_i], gen1_exp.n_s[min_exp_pressure_i:max_exp_pressure_i]/np.max(gen1_exp.n_s), marker=\".\", label=\"SLSQP\")\n",
    "plt.plot(gen3_exp.pressures_s[40:], gen3_exp.n_s[40:]/np.max(gen3_exp.n_s), marker=\".\", label=\"Network\")\n",
    "plt.plot(pressures_s_cut, n_s_exp/np.max(n_s_exp), marker=\".\", label=\"Real carbon isotherm\")\n",
    "plot()"
   ],
   "metadata": {
    "collapsed": false,
    "ExecuteTime": {
     "end_time": "2024-02-16T05:50:20.701017600Z",
     "start_time": "2024-02-16T05:49:33.052318600Z"
    }
   },
   "id": "393b47acdcf33b5c"
  },
  {
   "cell_type": "code",
   "execution_count": 19,
   "outputs": [],
   "source": [
    "#total_V_exp = np.sum((real_distr[0][1:]-real_distr[0][:-1])*real_distr[4][:-1])\n",
    "gen4_exp = copy.deepcopy(gen)\n",
    "interp_real_distr = np.interp(gen4_exp.a_array, real_distr[0], real_distr[4])\n",
    "#total_V_interp = np.sum((gen4_exp.a_array[1:]-gen4_exp.a_array[:-1])*interp_real_distr[:-1])\n",
    "gen4_exp.pore_distribution = interp_real_distr\n",
    "gen4_exp.calculate_calculate_isotherms_right()\n",
    "interp_scale = np.max(n_s_exp)/np.max(gen4_exp.n_s)\n",
    "plt.plot(pressures_s_cut, n_s_exp, marker=\".\", label=\"Real carbon isotherm\")\n",
    "plt.plot(gen4_exp.pressures_s, gen4_exp.n_s*interp_scale, marker=\".\", label=\"Real with our kernel\")\n",
    "plt.legend()\n",
    "plt.show()"
   ],
   "metadata": {
    "collapsed": false,
    "ExecuteTime": {
     "end_time": "2024-02-16T05:48:29.198292Z",
     "start_time": "2024-02-16T05:48:12.440131400Z"
    }
   },
   "id": "4cd8e2634538d7b5"
  },
  {
   "cell_type": "code",
   "execution_count": null,
   "outputs": [],
   "source": [],
   "metadata": {
    "collapsed": false,
    "ExecuteTime": {
     "start_time": "2024-02-12T13:01:41.165794Z"
    }
   },
   "id": "5915ba4262d3a2b3"
  }
 ],
 "metadata": {
  "kernelspec": {
   "display_name": "Python 3",
   "language": "python",
   "name": "python3"
  },
  "language_info": {
   "codemirror_mode": {
    "name": "ipython",
    "version": 2
   },
   "file_extension": ".py",
   "mimetype": "text/x-python",
   "name": "python",
   "nbconvert_exporter": "python",
   "pygments_lexer": "ipython2",
   "version": "2.7.6"
  }
 },
 "nbformat": 4,
 "nbformat_minor": 5
}
