{
 "cells": [
  {
   "cell_type": "code",
   "execution_count": 17,
   "id": "c354ac40-d909-4b1f-a6c6-ede55ee64535",
   "metadata": {
    "tags": [],
    "ExecuteTime": {
     "end_time": "2023-09-28T07:49:24.958358400Z",
     "start_time": "2023-09-28T07:49:24.950462100Z"
    }
   },
   "outputs": [],
   "source": [
    "import numpy as np\n",
    "import pandas as pd\n",
    "import matplotlib.pyplot as plt\n",
    "import matplotlib as mpl\n",
    "\n",
    "from datetime import datetime\n",
    "mpl.use('TkAgg')"
   ]
  },
  {
   "cell_type": "code",
   "execution_count": 18,
   "id": "33e17f78-b3be-4952-afde-8a34bbcaa75d",
   "metadata": {
    "tags": [],
    "ExecuteTime": {
     "end_time": "2023-09-28T07:49:29.214035600Z",
     "start_time": "2023-09-28T07:49:25.319280400Z"
    }
   },
   "outputs": [],
   "source": [
    "list_name = \"Carbon-loc-isoth-N2.xlsx\"\n",
    "#list_name = \"Silica-loc-isoth1.xlsx\"\n",
    "dataframe_sorb = pd.read_excel(list_name, header=None, sheet_name=\"Adsorption\")\n",
    "dataframe_desorb = pd.read_excel(list_name, header=None, sheet_name=\"Desorption\")\n",
    "P_START = 21  # индекс минимального давления\n",
    "p_array = np.array(dataframe_sorb[0][P_START:])  # сетка давлений\n",
    "a_array = np.array(dataframe_sorb.iloc[0][1:])  # сетка размеров пор\n",
    "\n",
    "array_of_isotherms_s = np.empty((len(a_array), len(p_array)))  # массив изотерм с i-м размером пор\n",
    "for i in range(len(a_array)):  # заполняем массив изотерм из таблицы pandas\n",
    "    array_of_isotherms_s[i] = dataframe_sorb[i+1][P_START:]\n",
    "    \n",
    "array_of_isotherms_d = np.empty((len(a_array), len(p_array)))  # массив изотерм с i-м размером пор\n",
    "for i in range(len(a_array)):  # заполняем массив изотерм из таблицы pandas\n",
    "    array_of_isotherms_d[i] = dataframe_desorb[i+1][P_START:]"
   ]
  },
  {
   "cell_type": "code",
   "execution_count": 41,
   "id": "1b446a9e-7709-4b3e-bf55-054d28583b24",
   "metadata": {
    "tags": [],
    "ExecuteTime": {
     "end_time": "2023-09-28T08:55:02.179613Z",
     "start_time": "2023-09-28T08:55:01.177065400Z"
    }
   },
   "outputs": [],
   "source": [
    "fig, ax=plt.subplots()  # строим график j-й изотермы из исходного набора\n",
    "j = 60\n",
    "ax.plot(p_array, array_of_isotherms_s[j], marker=\".\", label=f\"kernel isotherm sorption №{j}, pore size = {a_array[j]} nm\")\n",
    "ax.plot(p_array, array_of_isotherms_d[j], marker=\".\", label=f\"kernel isotherm desorption №{j}, pore size = {a_array[j]} nm\")\n",
    "\n",
    "# j1 = j+1\n",
    "# ax.plot(p_array, array_of_isotherms_s[j1], marker=\".\", label=f\"kernel isotherm sorption №{j1}, pore size = {a_array[j1]} nm\")\n",
    "# ax.plot(p_array, array_of_isotherms_d[j1], marker=\".\", label=f\"kernel isotherm desorption №{j1}, pore size = {a_array[j1]} nm\")\n",
    "\n",
    "ax.set_ylabel(\"sorption\")\n",
    "ax.set_xlabel(\"pressure\")\n",
    "legend = ax.legend(loc='upper right')\n",
    "plt.show() "
   ]
  },
  {
   "cell_type": "code",
   "execution_count": 19,
   "id": "9055dfca-bf44-4f2e-a880-ad4fe2674de5",
   "metadata": {
    "tags": [],
    "ExecuteTime": {
     "end_time": "2023-09-28T07:49:29.224052Z",
     "start_time": "2023-09-28T07:49:29.214035600Z"
    }
   },
   "outputs": [],
   "source": [
    "with open(\"data/kernel_generated/Kernel_Carbon-loc-isoth-N2.xlsx_Adsorption.npy\", 'rb') as f:\n",
    "    new_a_array_s = np.load(f)\n",
    "\n",
    "with open(\"data/kernel_generated/Kernel_Carbon-loc-isoth-N2.xlsx_Desorption.npy\", 'rb') as f:\n",
    "    new_a_array_d = np.load(f)\n",
    "    \n",
    "with open(\"data/kernel_generated/Size_Carbon-loc-isoth-N2.xlsx_Adsorption.npy\", 'rb') as f:\n",
    "    a_array_s = np.load(f)\n",
    "\n",
    "with open(\"data/kernel_generated/Size_Carbon-loc-isoth-N2.xlsx_Desorption.npy\", 'rb') as f:\n",
    "    a_array_d = np.load(f)"
   ]
  },
  {
   "cell_type": "code",
   "execution_count": 42,
   "id": "655712bc-6da6-4300-bc1b-6c525e9525cc",
   "metadata": {
    "tags": [],
    "ExecuteTime": {
     "end_time": "2023-09-28T08:55:08.402244300Z",
     "start_time": "2023-09-28T08:55:06.840470100Z"
    }
   },
   "outputs": [],
   "source": [
    "fig, ax=plt.subplots()\n",
    "j = 220\n",
    "\n",
    "j1  = sorted((np.abs(a_array_d - a_array_s[j])).argsort()[:1])[0]  # находим индексы ближайших к текущему размеров пор\n",
    "\n",
    "\n",
    "ax.plot(p_array, new_a_array_s[j], marker=\".\", label=f\"kernel isotherm sorption №{j}, pore size = {a_array_s[j]} nm\")\n",
    "ax.plot(p_array, new_a_array_d[j1], marker=\".\", label=f\"kernel isotherm desorption №{j1}, pore size = {a_array_d[j1]} nm\")\n",
    "\n",
    "ax.set_ylabel(\"sorption\")\n",
    "ax.set_xlabel(\"pressure\")\n",
    "legend = ax.legend(loc='upper right')\n",
    "plt.show() "
   ]
  },
  {
   "cell_type": "code",
   "execution_count": 169,
   "id": "95576106-380e-43ed-b0ac-e67a1ed79fa0",
   "metadata": {
    "tags": [],
    "ExecuteTime": {
     "end_time": "2023-09-28T11:35:06.172116200Z",
     "start_time": "2023-09-28T11:35:06.040081300Z"
    }
   },
   "outputs": [
    {
     "data": {
      "text/plain": "     pore_size  pressure_of_jump\n0     0.517500      2.511886e-06\n1     0.535613      7.943282e-06\n2     0.554359      3.981072e-06\n3     0.573762      7.943282e-06\n4     0.593843      1.000000e-07\n..         ...               ...\n129  43.773903      9.500000e-01\n130  45.306000      9.520000e-01\n131  46.891701      9.540000e-01\n132  48.532902      9.560000e-01\n133  50.231602      9.560000e-01\n\n[134 rows x 2 columns]",
      "text/html": "<div>\n<style scoped>\n    .dataframe tbody tr th:only-of-type {\n        vertical-align: middle;\n    }\n\n    .dataframe tbody tr th {\n        vertical-align: top;\n    }\n\n    .dataframe thead th {\n        text-align: right;\n    }\n</style>\n<table border=\"1\" class=\"dataframe\">\n  <thead>\n    <tr style=\"text-align: right;\">\n      <th></th>\n      <th>pore_size</th>\n      <th>pressure_of_jump</th>\n    </tr>\n  </thead>\n  <tbody>\n    <tr>\n      <th>0</th>\n      <td>0.517500</td>\n      <td>2.511886e-06</td>\n    </tr>\n    <tr>\n      <th>1</th>\n      <td>0.535613</td>\n      <td>7.943282e-06</td>\n    </tr>\n    <tr>\n      <th>2</th>\n      <td>0.554359</td>\n      <td>3.981072e-06</td>\n    </tr>\n    <tr>\n      <th>3</th>\n      <td>0.573762</td>\n      <td>7.943282e-06</td>\n    </tr>\n    <tr>\n      <th>4</th>\n      <td>0.593843</td>\n      <td>1.000000e-07</td>\n    </tr>\n    <tr>\n      <th>...</th>\n      <td>...</td>\n      <td>...</td>\n    </tr>\n    <tr>\n      <th>129</th>\n      <td>43.773903</td>\n      <td>9.500000e-01</td>\n    </tr>\n    <tr>\n      <th>130</th>\n      <td>45.306000</td>\n      <td>9.520000e-01</td>\n    </tr>\n    <tr>\n      <th>131</th>\n      <td>46.891701</td>\n      <td>9.540000e-01</td>\n    </tr>\n    <tr>\n      <th>132</th>\n      <td>48.532902</td>\n      <td>9.560000e-01</td>\n    </tr>\n    <tr>\n      <th>133</th>\n      <td>50.231602</td>\n      <td>9.560000e-01</td>\n    </tr>\n  </tbody>\n</table>\n<p>134 rows × 2 columns</p>\n</div>"
     },
     "execution_count": 169,
     "metadata": {},
     "output_type": "execute_result"
    }
   ],
   "source": [
    "#  обработка изотерм со скачком\n",
    "pore_size_jump_pressure_d = pd.DataFrame(columns=['pore_size', 'pressure_of_jump'])  # таблица размер пор - давление при котором происходит скачок в изотерме с данным размером пор\n",
    "for i, sorption_a in enumerate(array_of_isotherms_d):\n",
    "    sorption_delta_array = sorption_a[1:] - sorption_a[:-1]\n",
    "    jump_i = np.argmax(sorption_delta_array)  # индекс скачка \n",
    "    jump_pressure = p_array[jump_i]  #  давление скачка\n",
    "    pore_size_jump_pressure_d.loc[len(pore_size_jump_pressure_d.index)] = [a_array[i], jump_pressure]\n",
    "    \n",
    "pore_size_jump_pressure_s = pd.DataFrame(columns=['pore_size', 'pressure_of_jump'])  # таблица размер пор - давление при котором происходит скачок в изотерме с данным размером пор\n",
    "for i, sorption_a in enumerate(array_of_isotherms_s):\n",
    "    sorption_delta_array = sorption_a[1:] - sorption_a[:-1]\n",
    "    jump_i = np.argmax(sorption_delta_array)  # индекс скачка \n",
    "    jump_pressure = p_array[jump_i]  #  давление скачка\n",
    "    pore_size_jump_pressure_s.loc[len(pore_size_jump_pressure_s.index)] = [a_array[i], jump_pressure]   \n",
    "pore_size_jump_pressure_d"
   ]
  },
  {
   "cell_type": "code",
   "execution_count": 23,
   "id": "1fbb2ba9-1af6-484a-99e1-f89d18e2dc60",
   "metadata": {
    "tags": [],
    "ExecuteTime": {
     "end_time": "2023-09-28T07:49:35.250546400Z",
     "start_time": "2023-09-28T07:49:32.526787400Z"
    }
   },
   "outputs": [],
   "source": [
    "# Строим изотермы десорбции с размерами пор, взятыми из уже сгенерированных изотерм сорбции\n",
    "def get_k_b(x1, y1, x2, y2):\n",
    "    k = (y1 - y2) / (x1 - x2)\n",
    "    b = y1 - k*x1\n",
    "    return k, b\n",
    "\n",
    "A_START = 21\n",
    "def generate_kernel_isotherm(step_i):\n",
    "    current_a_size = a_array_s[step_i]\n",
    "    new_isotherm = np.zeros(shape=p_array.shape)\n",
    "    j1, j2  = sorted((np.abs(a_array - current_a_size)).argsort()[:2])  # находим индексы ближайших к текущему размеров пор\n",
    "    \n",
    "    if current_a_size == a_array[j1]:\n",
    "        return array_of_isotherms_d[j1]\n",
    "    if current_a_size == a_array[j2]:\n",
    "        return array_of_isotherms_d[j2]\n",
    "    \n",
    "    i = 0\n",
    "    while p_array[i] <= pore_size_jump_pressure_d[\"pressure_of_jump\"][j1]:\n",
    "        new_isotherm[i] = np.interp(current_a_size, xp=(a_array[j1], a_array[j2]), fp=(array_of_isotherms_d[j1][i], array_of_isotherms_d[j2][i]))\n",
    "        i += 1\n",
    "    tmp = i\n",
    "    \n",
    "    i = len(p_array) - 1\n",
    "    while p_array[i] > pore_size_jump_pressure_d[\"pressure_of_jump\"][j2]:\n",
    "        new_isotherm[i] = np.interp(current_a_size, xp=(a_array[j1], a_array[j2]), fp=(array_of_isotherms_d[j1][i], array_of_isotherms_d[j2][i]))\n",
    "        i -= 1\n",
    "    \n",
    "    step_pressure = np.interp(current_a_size, (pore_size_jump_pressure_d[\"pore_size\"][j1], pore_size_jump_pressure_d[\"pore_size\"][j2]),\n",
    "                              (pore_size_jump_pressure_d[\"pressure_of_jump\"][j1], pore_size_jump_pressure_d[\"pressure_of_jump\"][j2]))\n",
    "    \n",
    "    while p_array[i] >= step_pressure:\n",
    "        k, b = get_k_b(p_array[i+2], new_isotherm[i+2],  p_array[i+1],  new_isotherm[i+1])\n",
    "        new_isotherm[i] =  p_array[i] * k + b\n",
    "        i -= 1\n",
    "    \n",
    "    i = tmp\n",
    "    while p_array[i] <= step_pressure:\n",
    "        k, b = get_k_b(p_array[i-2], new_isotherm[i-2],  p_array[i-1],  new_isotherm[i-1])\n",
    "        new_isotherm[i] =  p_array[i] * k + b\n",
    "        i += 1\n",
    "    \n",
    "    return new_isotherm\n",
    "    \n",
    "    \n",
    "result = []\n",
    "for step_i in range(len(new_a_array_s)):\n",
    "     result.append(generate_kernel_isotherm(step_i))"
   ]
  },
  {
   "cell_type": "code",
   "execution_count": 24,
   "id": "24df027e-4a24-4d0d-94af-2e38f0084d4f",
   "metadata": {
    "tags": [],
    "ExecuteTime": {
     "end_time": "2023-09-28T07:49:40.669774800Z",
     "start_time": "2023-09-28T07:49:39.389102500Z"
    }
   },
   "outputs": [],
   "source": [
    "fig, ax=plt.subplots()\n",
    "j = 304\n",
    "ax.plot(p_array, new_a_array_s[j], marker=\"*\", label=f\"new sorption №{j}, pore size = {a_array_s[j]} nm\")\n",
    "ax.plot(p_array, result[j], marker=\".\", label=f\"new desorption №{j1}, pore size = {a_array_s[j]} nm\")\n",
    "\n",
    "j1, j2  = sorted((np.abs(a_array - a_array_s[j])).argsort()[:2])\n",
    "ax.plot(p_array, array_of_isotherms_s[j1], marker=\"*\", label=f\"kernel sorption №{j1}, pore size = {a_array[j1]} nm\")\n",
    "ax.plot(p_array, array_of_isotherms_d[j1], marker=\".\", label=f\"kernel desorption №{j1}, pore size = {a_array[j1]} nm\")\n",
    "ax.plot(p_array, array_of_isotherms_s[j2], marker=\"*\", label=f\"kernel sorption №{j2}, pore size = {a_array[j2]} nm\")\n",
    "ax.plot(p_array, array_of_isotherms_d[j2], marker=\".\", label=f\"kernel desorption №{j2}, pore size = {a_array[j2]} nm\")\n",
    "\n",
    "legend = ax.legend(loc='upper right')\n",
    "plt.show() "
   ]
  },
  {
   "cell_type": "code",
   "execution_count": 25,
   "id": "1c4b66a3-62a5-415f-a9c1-1c38ce2c335f",
   "metadata": {
    "tags": [],
    "ExecuteTime": {
     "end_time": "2023-09-28T07:49:45.317305400Z",
     "start_time": "2023-09-28T07:49:45.307399100Z"
    }
   },
   "outputs": [],
   "source": [
    "# with open(f'data/kernel_generated/Kernel_test_desorb.npy', 'wb') as f:\n",
    "#     np.save(f, np.array(result))"
   ]
  },
  {
   "cell_type": "code",
   "execution_count": 293,
   "id": "a0a863fe-3f97-4a60-a998-0b33d636c7eb",
   "metadata": {
    "ExecuteTime": {
     "end_time": "2023-09-28T13:17:19.080086300Z",
     "start_time": "2023-09-28T13:17:09.961231700Z"
    }
   },
   "outputs": [
    {
     "name": "stdout",
     "output_type": "stream",
     "text": [
      "497 580\n"
     ]
    }
   ],
   "source": [
    "# Пробуем другой подход для десорбционных изотерм, делаем отдельную более подробную сетку давлений\n",
    "part_of_new_p_array = np.interp(a_array_s[27:], pore_size_jump_pressure_d[\"pore_size\"], pore_size_jump_pressure_d[\"pressure_of_jump\"].to_numpy())\n",
    "i1  = (np.abs(p_array - part_of_new_p_array[0])).argsort()[:1][0]\n",
    "i2  = (np.abs(p_array - part_of_new_p_array[-1])).argsort()[:1][0]\n",
    "\n",
    "#new_p_array = np.concatenate((p_array[:i1], part_of_new_p_array, p_array[i2+1:]), axis=0)\n",
    "new_p_array = part_of_new_p_array\n",
    "print(len(new_p_array), len(p_array))\n",
    "fig, ax = plt.subplots()\n",
    "ax.plot(p_array, marker=\".\")\n",
    "ax.plot(new_p_array, marker=\".\")\n",
    "plt.show() "
   ]
  },
  {
   "cell_type": "code",
   "execution_count": 296,
   "outputs": [
    {
     "name": "stdout",
     "output_type": "stream",
     "text": [
      "0.00125992100220174 0.001000000047497451\n"
     ]
    },
    {
     "ename": "IndexError",
     "evalue": "index -498 is out of bounds for axis 0 with size 497",
     "output_type": "error",
     "traceback": [
      "\u001B[1;31m---------------------------------------------------------------------------\u001B[0m",
      "\u001B[1;31mIndexError\u001B[0m                                Traceback (most recent call last)",
      "Cell \u001B[1;32mIn[296], line 48\u001B[0m\n\u001B[0;32m     46\u001B[0m result \u001B[38;5;241m=\u001B[39m []\n\u001B[0;32m     47\u001B[0m \u001B[38;5;28;01mfor\u001B[39;00m step_i \u001B[38;5;129;01min\u001B[39;00m \u001B[38;5;28mrange\u001B[39m(\u001B[38;5;28mlen\u001B[39m(part_of_new_p_array)):\n\u001B[1;32m---> 48\u001B[0m      result\u001B[38;5;241m.\u001B[39mappend(\u001B[43mgenerate_kernel_isotherm\u001B[49m\u001B[43m(\u001B[49m\u001B[43mstep_i\u001B[49m\u001B[43m)\u001B[49m)\n",
      "Cell \u001B[1;32mIn[296], line 32\u001B[0m, in \u001B[0;36mgenerate_kernel_isotherm\u001B[1;34m(step_i)\u001B[0m\n\u001B[0;32m     29\u001B[0m step_pressure \u001B[38;5;241m=\u001B[39m new_p_array[step_i]\n\u001B[0;32m     30\u001B[0m \u001B[38;5;28mprint\u001B[39m(new_p_array[i], step_pressure)\n\u001B[1;32m---> 32\u001B[0m \u001B[38;5;28;01mwhile\u001B[39;00m \u001B[43mnew_p_array\u001B[49m\u001B[43m[\u001B[49m\u001B[43mi\u001B[49m\u001B[43m]\u001B[49m \u001B[38;5;241m>\u001B[39m\u001B[38;5;241m=\u001B[39m step_pressure:\n\u001B[0;32m     33\u001B[0m     k, b \u001B[38;5;241m=\u001B[39m get_k_b(new_p_array[i\u001B[38;5;241m+\u001B[39m\u001B[38;5;241m2\u001B[39m], new_isotherm[i\u001B[38;5;241m+\u001B[39m\u001B[38;5;241m2\u001B[39m],  new_p_array[i\u001B[38;5;241m+\u001B[39m\u001B[38;5;241m1\u001B[39m],  new_isotherm[i\u001B[38;5;241m+\u001B[39m\u001B[38;5;241m1\u001B[39m])\n\u001B[0;32m     34\u001B[0m     new_isotherm[i] \u001B[38;5;241m=\u001B[39m  new_p_array[i] \u001B[38;5;241m*\u001B[39m k \u001B[38;5;241m+\u001B[39m b\n",
      "\u001B[1;31mIndexError\u001B[0m: index -498 is out of bounds for axis 0 with size 497"
     ]
    }
   ],
   "source": [
    "# Строим изотермы десорбции с размерами пор, взятыми из уже сгенерированных изотерм сорбции\n",
    "def generate_kernel_isotherm(step_i):\n",
    "    current_a_size = a_array_s[step_i]\n",
    "    new_isotherm = np.zeros(shape=new_p_array.shape)\n",
    "    j1, j2  = sorted((np.abs(a_array - current_a_size)).argsort()[:2])  # находим индексы ближайших к текущему размеров пор\n",
    "    \n",
    "    if current_a_size == a_array[j1]:\n",
    "        return np.interp(new_p_array, p_array, array_of_isotherms_d[j1])\n",
    "    if current_a_size == a_array[j2]:\n",
    "        return np.interp(new_p_array, p_array, array_of_isotherms_d[j2])\n",
    "    \n",
    "    i = 0\n",
    "    while new_p_array[i] <= pore_size_jump_pressure_d[\"pressure_of_jump\"][j1]:\n",
    "        i1, i2  = sorted((np.abs(p_array - new_p_array[i])).argsort()[:2])\n",
    "        s1 = np.interp(new_p_array[i], (p_array[i1], p_array[i2]),(array_of_isotherms_d[j1][i1], array_of_isotherms_d[j1][i2])) # интерполяция корневых изотрем под новую сетку давлений \n",
    "        s2 = np.interp(new_p_array[i], (p_array[i1], p_array[i2]),(array_of_isotherms_d[j2][i1], array_of_isotherms_d[j2][i2]))\n",
    "        new_isotherm[i] = np.interp(current_a_size, xp=(a_array[j1], a_array[j2]), fp=(s1, s2))\n",
    "        i += 1\n",
    "    tmp = i\n",
    "    \n",
    "    i = len(new_p_array) - 1\n",
    "    while p_array[min((np.abs(p_array - new_p_array[i])).argsort()[:2])] > pore_size_jump_pressure_d[\"pressure_of_jump\"][j2]:\n",
    "        i1, i2  = sorted((np.abs(p_array - new_p_array[i])).argsort()[:2])\n",
    "        s1 = np.interp(new_p_array[i], (p_array[i1], p_array[i2]),(array_of_isotherms_d[j1][i1], array_of_isotherms_d[j1][i2]))\n",
    "        s2 = np.interp(new_p_array[i], (p_array[i1], p_array[i2]),(array_of_isotherms_d[j2][i1], array_of_isotherms_d[j2][i2]))\n",
    "        new_isotherm[i] = np.interp(current_a_size, xp=(a_array[j1], a_array[j2]), fp=(s1, s2))\n",
    "        i -= 1\n",
    "        \n",
    "    step_pressure = new_p_array[step_i]\n",
    "    \n",
    "    while new_p_array[i] >= step_pressure:\n",
    "        k, b = get_k_b(new_p_array[i+2], new_isotherm[i+2],  new_p_array[i+1],  new_isotherm[i+1])\n",
    "        new_isotherm[i] =  new_p_array[i] * k + b\n",
    "        i -= 1\n",
    "\n",
    "    i = tmp\n",
    "    while new_p_array[i] <= step_pressure:\n",
    "        k, b = get_k_b(new_p_array[i-2], new_isotherm[i-2],  new_p_array[i-1],  new_isotherm[i-1])\n",
    "        new_isotherm[i] =  new_p_array[i] * k + b\n",
    "        i += 1\n",
    "\n",
    "    return new_isotherm\n",
    "    \n",
    "\n",
    "result = []\n",
    "for step_i in range(len(a_array_s)):\n",
    "     result.append(generate_kernel_isotherm(step_i))"
   ],
   "metadata": {
    "collapsed": false,
    "ExecuteTime": {
     "end_time": "2023-09-28T13:19:59.137788100Z",
     "start_time": "2023-09-28T13:19:59.067164200Z"
    }
   },
   "id": "1a8bb7212d865db1"
  },
  {
   "cell_type": "code",
   "execution_count": 273,
   "outputs": [
    {
     "name": "stdout",
     "output_type": "stream",
     "text": [
      "new_p_array[j]=9.99999974737875e-06\n"
     ]
    }
   ],
   "source": [
    "fig, ax=plt.subplots()\n",
    "j = 20\n",
    "print(f'{new_p_array[j]=}')\n",
    "ax.plot(p_array, new_a_array_s[j], marker=\"*\", label=f\"new sorption №{j}, pore size = {a_array_s[j]} nm\")\n",
    "ax.plot(new_p_array, result[j], marker=\".\", label=f\"new desorption №{j1}, pore size = {a_array_s[j]} nm\")\n",
    "\n",
    "j1, j2  = sorted((np.abs(a_array - a_array_s[j])).argsort()[:2])\n",
    "ax.plot(p_array, array_of_isotherms_s[j1], marker=\"*\", label=f\"kernel sorption №{j1}, pore size = {a_array[j1]} nm\")\n",
    "ax.plot(p_array, array_of_isotherms_d[j1], marker=\".\", label=f\"kernel desorption №{j1}, pore size = {a_array[j1]} nm\")\n",
    "ax.plot(p_array, array_of_isotherms_s[j2], marker=\"*\", label=f\"kernel sorption №{j2}, pore size = {a_array[j2]} nm\")\n",
    "ax.plot(p_array, array_of_isotherms_d[j2], marker=\".\", label=f\"kernel desorption №{j2}, pore size = {a_array[j2]} nm\")\n",
    "\n",
    "legend = ax.legend(loc='upper right')\n",
    "plt.show() "
   ],
   "metadata": {
    "collapsed": false,
    "ExecuteTime": {
     "end_time": "2023-09-28T12:25:51.186531400Z",
     "start_time": "2023-09-28T12:25:28.891004200Z"
    }
   },
   "id": "c81cf5d326f24e56"
  },
  {
   "cell_type": "code",
   "execution_count": 108,
   "outputs": [],
   "source": [
    "with open(f'data/kernel_generated/Kernel_test2_desorb.npy', 'wb') as f:\n",
    "    np.save(f, np.array(result))\n",
    "with open(f'data/kernel_generated/pressure_test2_desorb.npy', 'wb') as f:\n",
    "    np.save(f, np.array(new_p_array))"
   ],
   "metadata": {
    "collapsed": false,
    "ExecuteTime": {
     "end_time": "2023-09-28T10:57:40.577413Z",
     "start_time": "2023-09-28T10:57:40.569274300Z"
    }
   },
   "id": "4a8f8f954b4be775"
  },
  {
   "cell_type": "code",
   "execution_count": null,
   "outputs": [],
   "source": [],
   "metadata": {
    "collapsed": false
   },
   "id": "83f1ed2f979ffdf1"
  }
 ],
 "metadata": {
  "kernelspec": {
   "display_name": "Python 3 (ipykernel)",
   "language": "python",
   "name": "python3"
  },
  "language_info": {
   "codemirror_mode": {
    "name": "ipython",
    "version": 3
   },
   "file_extension": ".py",
   "mimetype": "text/x-python",
   "name": "python",
   "nbconvert_exporter": "python",
   "pygments_lexer": "ipython3",
   "version": "3.11.3"
  }
 },
 "nbformat": 4,
 "nbformat_minor": 5
}
