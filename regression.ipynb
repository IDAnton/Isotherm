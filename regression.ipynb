{
 "cells": [
  {
   "cell_type": "code",
   "execution_count": 1,
   "id": "initial_id",
   "metadata": {
    "collapsed": true,
    "ExecuteTime": {
     "end_time": "2024-04-21T03:19:07.466577Z",
     "start_time": "2024-04-21T03:19:01.547383Z"
    }
   },
   "outputs": [],
   "source": [
    "import numpy as np\n",
    "import tensorflow.compat.v1 as tf\n",
    "import matplotlib.pyplot as plt\n",
    "import pandas as pd\n",
    "from tensorflow.keras import layers, Sequential, Input\n",
    "from sklearn.model_selection import train_test_split\n",
    "from sklearn.utils import shuffle\n",
    "from generator import Generator"
   ]
  },
  {
   "cell_type": "code",
   "execution_count": 2,
   "outputs": [],
   "source": [
    "def plot():\n",
    "    plt.legend()\n",
    "    plt.grid(True)\n",
    "    plt.show()\n",
    "\n",
    "def plot_loss(history):\n",
    "    plt.plot(history.history['loss'], label='loss', marker=\".\")\n",
    "    plt.plot(history.history['val_loss'], label='val_loss')\n",
    "    plt.xlabel('Epoch')\n",
    "    plt.ylabel('Error [MPG]')\n",
    "    plot()\n",
    "    \n",
    "def pre_process_isotherm(isotherm):\n",
    "    isotherm -= min(isotherm)\n",
    "    isotherm /= max(isotherm)\n",
    "    return isotherm\n",
    "    \n",
    "def load_dataset(path):\n",
    "    min_exp_pressure_i = 40\n",
    "    max_exp_pressure_i =  458 # silcia 458 # carbon 547\n",
    "    with open(path, 'rb') as f:\n",
    "            dataset = np.load(f)\n",
    "            isotherm_data = dataset[\"isotherm_data\"]\n",
    "            pore_distribution_data = dataset[\"pore_distribution_data\"]\n",
    "    x = np.empty((isotherm_data.shape[0], (-min_exp_pressure_i + max_exp_pressure_i)))\n",
    "    y = np.empty(pore_distribution_data.shape)\n",
    "    for i in range(len(isotherm_data)):\n",
    "        isotherm = pre_process_isotherm(isotherm_data[i][min_exp_pressure_i:max_exp_pressure_i])\n",
    "        pore_distribution = pre_process_isotherm(pore_distribution_data[i])\n",
    "        x[i] = isotherm\n",
    "        y[i] = pore_distribution\n",
    "    x, y = shuffle(x, y)\n",
    "    return x, y\n",
    "\n",
    "def create_model():\n",
    "    ## DENSE NET\n",
    "    model = Sequential(\n",
    "        [\n",
    "            Input(shape=len(x_train[0],)),\n",
    "            layers.Dense(400, activation='relu'),\n",
    "            layers.Dense(400, activation='relu'),\n",
    "            layers.Dense(400, activation='relu'),\n",
    "            layers.Dense(400, activation='relu'),\n",
    "            layers.Dense(400, activation='relu'),\n",
    "            layers.Dense(400, activation='relu'),\n",
    "            layers.Dense(400, activation='relu'),\n",
    "            layers.Dense(len(y_train[0]), activation='relu')\n",
    "        ]\n",
    "    )\n",
    "    model.compile(loss='mean_squared_error', optimizer='Adam')\n",
    "    return model"
   ],
   "metadata": {
    "collapsed": false,
    "ExecuteTime": {
     "end_time": "2024-04-21T03:19:07.480576Z",
     "start_time": "2024-04-21T03:19:07.469577Z"
    }
   },
   "id": "98226eed5b8acbd0"
  },
  {
   "cell_type": "code",
   "execution_count": 3,
   "outputs": [],
   "source": [
    "x, y = load_dataset('data/datasets/Silica_medium.npz')"
   ],
   "metadata": {
    "collapsed": false,
    "ExecuteTime": {
     "end_time": "2024-04-21T03:19:44.727372Z",
     "start_time": "2024-04-21T03:19:07.481575Z"
    }
   },
   "id": "1f104f33d58de2ad"
  },
  {
   "cell_type": "code",
   "execution_count": 4,
   "outputs": [],
   "source": [
    "x_train, x_test, y_train, y_test = train_test_split(x, y, test_size=0.25)"
   ],
   "metadata": {
    "collapsed": false,
    "ExecuteTime": {
     "end_time": "2024-04-21T03:19:45.625028Z",
     "start_time": "2024-04-21T03:19:44.868027Z"
    }
   },
   "id": "e050c9f0d43b1c44"
  },
  {
   "cell_type": "code",
   "execution_count": 7,
   "outputs": [],
   "source": [
    "model = create_model()"
   ],
   "metadata": {
    "collapsed": false,
    "ExecuteTime": {
     "end_time": "2024-04-19T09:02:05.576859Z",
     "start_time": "2024-04-19T09:02:05.352784Z"
    }
   },
   "id": "6ff9113a73806767"
  },
  {
   "cell_type": "code",
   "execution_count": null,
   "outputs": [],
   "source": [
    "# from keras import backend as K\n",
    "# K.set_value(model.optimizer.learning_rate, 0.0001)\n",
    "mcp_save = tf.keras.callbacks.ModelCheckpoint(filepath='data/models/silica_04_relu.keras', save_best_only=True,\n",
    "                                           monitor='val_loss', mode='min', verbose=1, save_weights_only=False,\n",
    "                                           save_freq='epoch')\n",
    "\n",
    "reduce_lr_loss = tf.keras.callbacks.ReduceLROnPlateau(monitor='val_loss', factor=0.5,\n",
    "                                                   patience=50, verbose=1, mode='auto')\n",
    "history = model.fit(np.array(x_train), np.array(y_train),\n",
    "                    epochs=1000, batch_size=1000, shuffle=True,\n",
    "                    validation_data=(np.array(x_test), np.array(y_test)), callbacks=[mcp_save, reduce_lr_loss])\n",
    "plot_loss(history)"
   ],
   "metadata": {
    "collapsed": false,
    "ExecuteTime": {
     "start_time": "2024-04-19T08:57:37.539323Z"
    }
   },
   "id": "daf79747432cd339"
  },
  {
   "cell_type": "code",
   "execution_count": 5,
   "outputs": [],
   "source": [
    "# load model\n",
    "model = tf.keras.models.load_model('data/models/silica_medium_relu.keras', custom_objects={'abs': tf.math.abs})"
   ],
   "metadata": {
    "collapsed": false,
    "ExecuteTime": {
     "end_time": "2024-04-21T03:19:57.689990Z",
     "start_time": "2024-04-21T03:19:56.855992Z"
    }
   },
   "id": "ac8cae34578158f6"
  },
  {
   "cell_type": "code",
   "execution_count": 6,
   "outputs": [
    {
     "name": "stdout",
     "output_type": "stream",
     "text": [
      "9375/9375 [==============================] - 67s 7ms/step\n"
     ]
    }
   ],
   "source": [
    "# predict x_train\n",
    "prediction = model.predict(np.array(x_train))"
   ],
   "metadata": {
    "collapsed": false,
    "ExecuteTime": {
     "end_time": "2024-04-21T03:21:13.985563Z",
     "start_time": "2024-04-21T03:19:57.701990Z"
    }
   },
   "id": "3936d7f526408c2e"
  },
  {
   "cell_type": "code",
   "execution_count": 8,
   "outputs": [],
   "source": [
    "# test on x_train\n",
    "pore_widths = np.load(\"data/initial kernels/Size_Kernel_Silica_Adsorption.npy\")\n",
    "pressures = np.load(\"data/initial kernels/Pressure_Carbon.npy\")\n",
    "NX, NY = 4 , 5\n",
    "figure, axis = plt.subplots(NX, NY)\n",
    "for i in range(NX):\n",
    "    for j in range(NY):\n",
    "        k = np.random.randint(0, len(x_train))\n",
    "        x_scale_factor = max(pore_widths)/len(x_train[k])\n",
    "        axis[i, j].plot(pore_widths/x_scale_factor, prediction[k], marker=\".\", label=f\"Prediction\") \n",
    "        axis[i, j].plot(pore_widths/x_scale_factor, y_train[k], marker=\".\", label=\"Real distribution\")\n",
    "        axis[i, j].plot(x_train[k], label=\"Isotherm\")\n",
    "        axis[i, j].set_title(f\"№ {k}\")\n",
    "        axis[i, j].title.set_size(10)\n",
    "plt.subplots_adjust(hspace=0.6, right=0.95, left=0.05, bottom=0.05, top=0.95)\n",
    "plt.legend()\n",
    "plot()"
   ],
   "metadata": {
    "collapsed": false,
    "ExecuteTime": {
     "end_time": "2024-04-21T03:21:19.661170Z",
     "start_time": "2024-04-21T03:21:17.413852Z"
    }
   },
   "id": "c0f7f9f4bae77a4c"
  },
  {
   "cell_type": "code",
   "execution_count": 7,
   "outputs": [
    {
     "name": "stdout",
     "output_type": "stream",
     "text": [
      "1/1 [==============================] - 0s 94ms/step\n"
     ]
    },
    {
     "name": "stderr",
     "output_type": "stream",
     "text": [
      "No artists with labels found to put in legend.  Note that artists whose label start with an underscore are ignored when legend() is called with no argument.\n"
     ]
    },
    {
     "data": {
      "text/plain": "<tools.TestApp.App at 0x219e38f6e00>"
     },
     "execution_count": 7,
     "metadata": {},
     "output_type": "execute_result"
    }
   ],
   "source": [
    "# test with test Generator\n",
    "from tools import TestApp\n",
    "gen = Generator(path_s=\"data/initial kernels/Kernel_Silica_Adsorption.npy\",\n",
    "                    path_d=\"data/initial kernels/Kernel_Silica_Desorption.npy\",\n",
    "                    path_p_d=\"data/initial kernels/Pressure_Silica.npy\",\n",
    "                    path_p_s=\"data/initial kernels/Pressure_Silica.npy\",\n",
    "                    path_a=\"data/initial kernels/Size_Kernel_Silica_Adsorption.npy\"\n",
    "                    )\n",
    "# gen = Generator(path_s=\"data/initial kernels/Kernel_Carbon_Adsorption.npy\",\n",
    "#                               path_d=\"data/initial kernels/Kernel_Carbon_Desorption.npy\",\n",
    "#                               path_p_d=\"data/initial kernels/Pressure_Carbon.npy\",\n",
    "#                               path_p_s=\"data/initial kernels/Pressure_Carbon.npy\",\n",
    "#                               path_a=\"data/initial kernels/Size_Kernel_Carbon_Adsorption.npy\"\n",
    "#                             )\n",
    "TestApp.App(model, gen)"
   ],
   "metadata": {
    "collapsed": false,
    "ExecuteTime": {
     "end_time": "2024-04-21T03:21:17.401882Z",
     "start_time": "2024-04-21T03:21:13.986461Z"
    }
   },
   "id": "efcd0aa0fe36bac8"
  },
  {
   "cell_type": "code",
   "execution_count": 20,
   "outputs": [],
   "source": [
    "#exp_file_list = [\"MCM-41\", \"SBA-15\", \"SBA-16\", \"MIL-101\", \"MIL-101_2\", \"DUT-49\",\"FDM-4\",\"PCN-333\",\"PCN-777\",\"MIL-100\"]\n",
    "exp_file_list = [\"carbon\"]\n",
    "p_exp_list = []\n",
    "n_s_exp_raw_list = []\n",
    "for exp_file_name in exp_file_list:\n",
    "    data = pd.read_csv(f\"data/real/{exp_file_name}.txt\", header=None)\n",
    "    # p_exp_list.append(data.iloc[:,1].to_numpy())\n",
    "    # n_s_exp_raw_list.append(data.iloc[:,3].to_numpy())\n",
    "    p_exp_list.append(data.iloc[:,0].to_numpy())\n",
    "    n_s_exp_raw_list.append(data.iloc[:,1].to_numpy())"
   ],
   "metadata": {
    "collapsed": false,
    "ExecuteTime": {
     "end_time": "2024-04-21T04:07:58.039362Z",
     "start_time": "2024-04-21T04:07:58.032383Z"
    }
   },
   "id": "1b77e8c380dc9e48"
  },
  {
   "cell_type": "code",
   "execution_count": 21,
   "outputs": [
    {
     "ename": "IndexError",
     "evalue": "list index out of range",
     "output_type": "error",
     "traceback": [
      "\u001B[1;31m---------------------------------------------------------------------------\u001B[0m",
      "\u001B[1;31mIndexError\u001B[0m                                Traceback (most recent call last)",
      "Cell \u001B[1;32mIn[21], line 2\u001B[0m\n\u001B[0;32m      1\u001B[0m j \u001B[38;5;241m=\u001B[39m \u001B[38;5;241m2\u001B[39m\n\u001B[1;32m----> 2\u001B[0m plt\u001B[38;5;241m.\u001B[39mplot(\u001B[43mp_exp_list\u001B[49m\u001B[43m[\u001B[49m\u001B[43mj\u001B[49m\u001B[43m]\u001B[49m, n_s_exp_raw_list[j], marker\u001B[38;5;241m=\u001B[39m\u001B[38;5;124m\"\u001B[39m\u001B[38;5;124m.\u001B[39m\u001B[38;5;124m\"\u001B[39m, label\u001B[38;5;241m=\u001B[39mexp_file_list[j])\n\u001B[0;32m      3\u001B[0m \u001B[38;5;66;03m#plot()\u001B[39;00m\n",
      "\u001B[1;31mIndexError\u001B[0m: list index out of range"
     ]
    }
   ],
   "source": [
    "j = 2\n",
    "plt.plot(p_exp_list[j], n_s_exp_raw_list[j], marker=\".\", label=exp_file_list[j])\n",
    "#plot()"
   ],
   "metadata": {
    "collapsed": false,
    "ExecuteTime": {
     "end_time": "2024-04-21T04:07:58.812360Z",
     "start_time": "2024-04-21T04:07:58.785358Z"
    }
   },
   "id": "a7600267dd8ee248"
  },
  {
   "cell_type": "code",
   "execution_count": 22,
   "outputs": [],
   "source": [
    "# интерполируем экспериментальную изотерму под давления кернала\n",
    "n_s_exp_list = []\n",
    "for i in range(len(p_exp_list)):\n",
    "    n_s_exp_list.append(np.interp(gen.pressures_s[40:458], p_exp_list[i], n_s_exp_raw_list[i]))"
   ],
   "metadata": {
    "collapsed": false,
    "ExecuteTime": {
     "end_time": "2024-04-21T04:08:03.018295Z",
     "start_time": "2024-04-21T04:08:03.011290Z"
    }
   },
   "id": "17fa210fb149ba49"
  },
  {
   "cell_type": "code",
   "execution_count": 23,
   "outputs": [
    {
     "ename": "IndexError",
     "evalue": "list index out of range",
     "output_type": "error",
     "traceback": [
      "\u001B[1;31m---------------------------------------------------------------------------\u001B[0m",
      "\u001B[1;31mIndexError\u001B[0m                                Traceback (most recent call last)",
      "Cell \u001B[1;32mIn[23], line 2\u001B[0m\n\u001B[0;32m      1\u001B[0m j \u001B[38;5;241m=\u001B[39m \u001B[38;5;241m2\u001B[39m\n\u001B[1;32m----> 2\u001B[0m plt\u001B[38;5;241m.\u001B[39mplot(gen\u001B[38;5;241m.\u001B[39mpressures_s[\u001B[38;5;241m40\u001B[39m:\u001B[38;5;241m458\u001B[39m], \u001B[43mn_s_exp_list\u001B[49m\u001B[43m[\u001B[49m\u001B[43mj\u001B[49m\u001B[43m]\u001B[49m, marker\u001B[38;5;241m=\u001B[39m\u001B[38;5;124m\"\u001B[39m\u001B[38;5;124m.\u001B[39m\u001B[38;5;124m\"\u001B[39m, label\u001B[38;5;241m=\u001B[39mexp_file_list[j])\n\u001B[0;32m      3\u001B[0m \u001B[38;5;66;03m#plot()\u001B[39;00m\n",
      "\u001B[1;31mIndexError\u001B[0m: list index out of range"
     ]
    }
   ],
   "source": [
    "j = 2\n",
    "plt.plot(gen.pressures_s[40:458], n_s_exp_list[j], marker=\".\", label=exp_file_list[j])\n",
    "#plot()"
   ],
   "metadata": {
    "collapsed": false,
    "ExecuteTime": {
     "end_time": "2024-04-21T04:08:04.585113Z",
     "start_time": "2024-04-21T04:08:04.556106Z"
    }
   },
   "id": "7648e2fb6c309ea0"
  },
  {
   "cell_type": "code",
   "execution_count": 24,
   "outputs": [
    {
     "name": "stdout",
     "output_type": "stream",
     "text": [
      "1/1 [==============================] - 0s 27ms/step\n"
     ]
    }
   ],
   "source": [
    "n_s_exp_for_net_list = [pre_process_isotherm(np.copy(n_s_exp)) for n_s_exp in n_s_exp_list]\n",
    "fit_exp_list = [model.predict(np.array([n_s_exp_for_net])).T for n_s_exp_for_net in n_s_exp_for_net_list]"
   ],
   "metadata": {
    "collapsed": false,
    "ExecuteTime": {
     "end_time": "2024-04-21T04:08:05.591036Z",
     "start_time": "2024-04-21T04:08:05.449037Z"
    }
   },
   "id": "e5eb0f653a71de51"
  },
  {
   "cell_type": "code",
   "execution_count": 25,
   "outputs": [
    {
     "ename": "IndexError",
     "evalue": "list index out of range",
     "output_type": "error",
     "traceback": [
      "\u001B[1;31m---------------------------------------------------------------------------\u001B[0m",
      "\u001B[1;31mIndexError\u001B[0m                                Traceback (most recent call last)",
      "Cell \u001B[1;32mIn[25], line 6\u001B[0m\n\u001B[0;32m      4\u001B[0m \u001B[38;5;28;01mfor\u001B[39;00m i \u001B[38;5;129;01min\u001B[39;00m \u001B[38;5;28mrange\u001B[39m(NX):\n\u001B[0;32m      5\u001B[0m     \u001B[38;5;28;01mfor\u001B[39;00m j \u001B[38;5;129;01min\u001B[39;00m \u001B[38;5;28mrange\u001B[39m(NY):\n\u001B[1;32m----> 6\u001B[0m         x_scale_factor \u001B[38;5;241m=\u001B[39m \u001B[38;5;28mmax\u001B[39m(gen\u001B[38;5;241m.\u001B[39ma_array)\u001B[38;5;241m/\u001B[39m\u001B[38;5;28mmax\u001B[39m(\u001B[43mp_exp_list\u001B[49m\u001B[43m[\u001B[49m\u001B[43mk\u001B[49m\u001B[43m]\u001B[49m)\n\u001B[0;32m      7\u001B[0m         y_scale_factor \u001B[38;5;241m=\u001B[39m \u001B[38;5;28mmax\u001B[39m(fit_exp_list[k])\u001B[38;5;241m/\u001B[39m\u001B[38;5;28mmax\u001B[39m(n_s_exp_raw_list[k])\n\u001B[0;32m      8\u001B[0m         axis[i, j]\u001B[38;5;241m.\u001B[39mplot(pore_widths, fit_exp_list[k], marker\u001B[38;5;241m=\u001B[39m\u001B[38;5;124m\"\u001B[39m\u001B[38;5;124m.\u001B[39m\u001B[38;5;124m\"\u001B[39m, label\u001B[38;5;241m=\u001B[39m\u001B[38;5;124mf\u001B[39m\u001B[38;5;124m\"\u001B[39m\u001B[38;5;124mDistribution\u001B[39m\u001B[38;5;124m\"\u001B[39m) \n",
      "\u001B[1;31mIndexError\u001B[0m: list index out of range"
     ]
    }
   ],
   "source": [
    "NX, NY = 3 , 4\n",
    "figure, axis = plt.subplots(NX, NY)\n",
    "k = 0\n",
    "for i in range(NX):\n",
    "    for j in range(NY):\n",
    "        x_scale_factor = max(gen.a_array)/max(p_exp_list[k])\n",
    "        y_scale_factor = max(fit_exp_list[k])/max(n_s_exp_raw_list[k])\n",
    "        axis[i, j].plot(pore_widths, fit_exp_list[k], marker=\".\", label=f\"Distribution\") \n",
    "        axis[i, j].plot(p_exp_list[k]*x_scale_factor, n_s_exp_raw_list[k]*y_scale_factor, label=f\"{exp_file_list[k]}\", marker=\".\")\n",
    "        axis[i, j].set_title(f\"max at {round(gen.a_array[np.argmax(fit_exp_list[k])], 2)} nm\")\n",
    "        axis[i, j].title.set_size(12)\n",
    "        axis[i, j].legend(loc=\"upper right\")\n",
    "        axis[i, j].grid()\n",
    "        k += 1\n",
    "        if k >= len(fit_exp_list):\n",
    "            break\n",
    "plt.subplots_adjust(hspace=0.6, right=0.95, left=0.05, bottom=0.05, top=0.95)\n",
    "plot()"
   ],
   "metadata": {
    "collapsed": false,
    "ExecuteTime": {
     "end_time": "2024-04-21T04:08:06.512244Z",
     "start_time": "2024-04-21T04:08:06.281268Z"
    }
   },
   "id": "cae6c851c04bbfaf"
  },
  {
   "cell_type": "code",
   "execution_count": 26,
   "outputs": [],
   "source": [
    "### Classic\n",
    "from inverse import fit_SLSQP\n",
    "kernel = np.load(\"data/initial kernels/Kernel_Silica_Adsorption.npy\")\n",
    "\n",
    "### normalize on size\n",
    "# a_array = np.load(\"data/initial kernels/Size_Kernel_Silica_Adsorption.npy\")\n",
    "# for i in range(len(a_array)):\n",
    "#     kernel[i] /= a_array[i]\n",
    "#     kernel[i] /= a_array[i]\n",
    "###\n",
    "\n",
    "cut_kernel = []\n",
    "for i in range(len(kernel)):\n",
    "    cut_kernel.append(kernel[i][40:458])\n",
    "cut_kernel = np.array(cut_kernel)\n",
    "fit_classic_list = [fit_SLSQP(adsorption=n_s, kernel=cut_kernel, a_array=pore_widths) for n_s in n_s_exp_list]"
   ],
   "metadata": {
    "collapsed": false,
    "ExecuteTime": {
     "end_time": "2024-04-21T04:08:09.413323Z",
     "start_time": "2024-04-21T04:08:07.166140Z"
    }
   },
   "id": "9949a77c1d2e89c0"
  },
  {
   "cell_type": "code",
   "execution_count": 33,
   "outputs": [
    {
     "name": "stderr",
     "output_type": "stream",
     "text": [
      "No artists with labels found to put in legend.  Note that artists whose label start with an underscore are ignored when legend() is called with no argument.\n"
     ]
    }
   ],
   "source": [
    "NX, NY = 3, 4\n",
    "figure, axis = plt.subplots(NX, NY)\n",
    "k = 0\n",
    "for i in range(NX):\n",
    "    for j in range(NY):\n",
    "        x_scale_factor = max(gen.a_array)/max(p_exp_list[k])\n",
    "        y_scale_factor = max(fit_classic_list[k].x)/max(n_s_exp_raw_list[k])\n",
    "        y_scale_factor_net = max(fit_classic_list[k].x)/max(fit_exp_list[k])\n",
    "\n",
    "        \n",
    "        axis[i, j].plot(pore_widths, fit_exp_list[k]*y_scale_factor_net, marker=\".\", label=f\"net\") \n",
    "        axis[i, j].plot(pore_widths, fit_classic_list[k].x, marker=\".\", label=f\"classic\") \n",
    "        axis[i, j].plot(p_exp_list[k]*x_scale_factor, n_s_exp_raw_list[k]*y_scale_factor, label=f\"{exp_file_list[k]}\", marker=\".\")\n",
    "        axis[i, j].set_title(f\"max at {round(gen.a_array[np.argmax(fit_classic_list[k].x)], 2)} nm\")\n",
    "        axis[i, j].title.set_size(12)\n",
    "        axis[i, j].legend(loc=\"upper right\")\n",
    "        axis[i, j].grid()\n",
    "        k += 1\n",
    "        if k >= len(fit_exp_list):\n",
    "            break\n",
    "plt.subplots_adjust(hspace=0.6, right=0.95, left=0.05, bottom=0.05, top=0.95)\n",
    "plot()"
   ],
   "metadata": {
    "collapsed": false,
    "ExecuteTime": {
     "end_time": "2024-04-21T04:09:47.548731Z",
     "start_time": "2024-04-21T04:09:18.390435Z"
    }
   },
   "id": "707d030f7db4a23"
  },
  {
   "cell_type": "code",
   "execution_count": 75,
   "outputs": [
    {
     "name": "stderr",
     "output_type": "stream",
     "text": [
      "No artists with labels found to put in legend.  Note that artists whose label start with an underscore are ignored when legend() is called with no argument.\n"
     ]
    }
   ],
   "source": [
    "# compare net, classic, quantachrome distributions\n",
    "NX, NY = 3 , 4\n",
    "figure, axis = plt.subplots(NX, NY)\n",
    "k = 0\n",
    "\n",
    "def calculate_isotherm_by_distribution(generator:Generator, a_array, distribution):\n",
    "    generator.a_array = a_array\n",
    "    generator.pore_distribution = distribution\n",
    "    generator.calculate_isotherms()\n",
    "    return generator.n_s\n",
    "\n",
    "\n",
    "#/np.ediff1d(pore_widths, to_begin=pore_widths[0])\n",
    "for i in range(NX):\n",
    "    for j in range(NY):\n",
    "        quantachrome_pore_size = np.genfromtxt(f\"data/real/quantachrome/silica/distribution/{exp_file_list[k]}.csv\", delimiter=\",\")[1:].T[0] / 10 * 2 # /10 - перевод в НМ * 2 - в QH размер - Half pore width.\n",
    "        quantachrome_dV = np.genfromtxt(f\"data/real/quantachrome/silica/distribution/{exp_file_list[k]}.csv\", delimiter=\",\")[1:].T[3]\n",
    "        # isotherm_formQC = calculate_isotherm_by_distribution(gen, pore_widths, np.interp(pore_widths, quantachrome_pore_size, quantachrome_dV))\n",
    "        # y_scale_factor_QH = max(n_s_exp_raw_list[k]) / max(isotherm_formQC)\n",
    "        # quantachrome_dV *= y_scale_factor_QH\n",
    "        \n",
    "        y_scale_factor_classic = max(quantachrome_dV) / max(fit_classic_list[k].x)\n",
    "        y_scale_factor_net = max(quantachrome_dV) / max(fit_exp_list[k])\n",
    "        \n",
    "        axis[i, j].plot(pore_widths, fit_exp_list[k]*y_scale_factor_net, marker=\".\", label=f\"net\") \n",
    "        axis[i, j].plot(pore_widths, fit_classic_list[k].x*y_scale_factor_classic, marker=\".\", label=f\"classic\") \n",
    "        axis[i, j].plot(quantachrome_pore_size, quantachrome_dV, marker=\".\", label=f\"quantachrome\") \n",
    "        axis[i, j].set_title(f\"{exp_file_list[k]}\")\n",
    "        axis[i, j].title.set_size(12)\n",
    "        axis[i, j].legend(loc=\"upper right\")\n",
    "        axis[i, j].grid()\n",
    "        k += 1\n",
    "        if k >= len(fit_exp_list):\n",
    "            break\n",
    "plt.subplots_adjust(hspace=0.6, right=0.95, left=0.05, bottom=0.05, top=0.95)\n",
    "plot()"
   ],
   "metadata": {
    "collapsed": false,
    "ExecuteTime": {
     "end_time": "2024-04-21T04:27:47.785159Z",
     "start_time": "2024-04-21T04:27:14.814768Z"
    }
   },
   "id": "8e0b9fbf987405b3"
  },
  {
   "cell_type": "code",
   "outputs": [],
   "source": [
    "# plots for presentation\n",
    "import matplotlib.pyplot as plt\n",
    "from importlib import reload\n",
    "plt=reload(plt)\n",
    "\n",
    "k = 0\n",
    "\n",
    "quantachrome_pore_size = np.genfromtxt(f\"data/real/quantachrome/silica/distribution/{exp_file_list[k]}.csv\", delimiter=\",\")[1:].T[0] / 10 * 2 # /10 - перевод в НМ * 2 - в QH размер - Half pore width.\n",
    "quantachrome_dV = np.genfromtxt(f\"data/real/quantachrome/silica/distribution/{exp_file_list[k]}.csv\", delimiter=\",\")[1:].T[3]\n",
    "        # isotherm_formQC = calculate_isotherm_by_distribution(gen, pore_widths, np.interp(pore_widths, quantachrome_pore_size, quantachrome_dV))\n",
    "        # y_scale_factor_QH = max(n_s_exp_raw_list[k]) / max(isotherm_formQC)\n",
    "        # quantachrome_dV *= y_scale_factor_QH\n",
    "        \n",
    "y_scale_factor_classic = max(quantachrome_dV) / max(fit_classic_list[k].x)\n",
    "y_scale_factor_net = max(quantachrome_dV) / max(fit_exp_list[k])\n",
    "        \n",
    "plt.plot(pore_widths, fit_exp_list[k]*y_scale_factor_net, marker=\".\", label=f\"Суррогатная модель\") \n",
    "plt.plot(pore_widths, fit_classic_list[k].x*y_scale_factor_classic, marker=\".\", label=f\"Математическое решение\") \n",
    "#plt.plot(quantachrome_pore_size, quantachrome_dV, marker=\".\", label=f\"Математическое решение QH\") \n",
    "plt.legend(loc=\"upper right\")\n",
    "plt.grid()\n",
    "plt.title(f\"{exp_file_list[k]}\")\n",
    "\n",
    "# plt.xscale('log')\n",
    "plt.subplots_adjust(left=0.15,\n",
    "                    bottom=0.133, \n",
    "                    right=0.979, \n",
    "                    top=0.917, \n",
    "                    wspace=0.4, \n",
    "                    hspace=0.4)\n",
    "plt.legend()\n",
    "plt.grid(True)\n",
    "plt.ylabel(\"Объем пор, $см^3$/ нм * гр\")\n",
    "plt.xlabel(\"Размер пор, нм\")\n",
    "plt.show()\n"
   ],
   "metadata": {
    "collapsed": false,
    "ExecuteTime": {
     "end_time": "2024-04-21T04:29:16.004731Z",
     "start_time": "2024-04-21T04:28:24.254598Z"
    }
   },
   "id": "c5e26ea811ae701c",
   "execution_count": 76
  },
  {
   "cell_type": "code",
   "outputs": [],
   "source": [
    "# plots for presentation 2\n",
    "k = 3\n",
    "plt.plot(p_exp_list[k], n_s_exp_raw_list[k], marker=\".\", color='b', label=f\"{exp_file_list[k]}\") \n",
    "k=9\n",
    "plt.plot(p_exp_list[k], n_s_exp_raw_list[k], marker=\".\", color='r', label=f\"{exp_file_list[k]}\") \n",
    "plt.legend(loc=\"upper right\")\n",
    "plt.grid()\n",
    "plt.title(f\"Изотермы адсорбции\")\n",
    "\n",
    "# plt.xscale('log')\n",
    "plt.subplots_adjust(left=0.15,\n",
    "                    bottom=0.133, \n",
    "                    right=0.979, \n",
    "                    top=0.917, \n",
    "                    wspace=0.4, \n",
    "                    hspace=0.4)\n",
    "plt.legend()\n",
    "plt.grid(True)\n",
    "plt.ylabel(\"Адсорбция, $см^3$/г\")\n",
    "plt.xlabel(\"Давление, $P/P_{0}$\")\n",
    "plt.show()\n"
   ],
   "metadata": {
    "collapsed": false,
    "ExecuteTime": {
     "end_time": "2024-04-20T13:25:46.637334Z",
     "start_time": "2024-04-20T13:25:20.913535Z"
    }
   },
   "id": "be93198745d6bc2d",
   "execution_count": 105
  },
  {
   "cell_type": "code",
   "outputs": [],
   "source": [
    "# plots for presentation 3\n",
    "\n",
    "fig, ax1 = plt.subplots(figsize=(6, 7))\n",
    "ax1.set_xlabel(\"Размер пор, нм\")\n",
    "ax1.set_ylabel(\"Объем пор, $см^3$/ нм * гр\")\n",
    "k = 0\n",
    "plt.title(f\"{exp_file_list[k]}\")\n",
    "quantachrome_pore_size = np.genfromtxt(f\"data/real/quantachrome/silica/distribution/{exp_file_list[k]}.csv\", delimiter=\",\")[1:].T[0] / 10 * 2 # /10 - перевод в НМ * 2 - в QH размер - Half pore width.\n",
    "quantachrome_dV = np.genfromtxt(f\"data/real/quantachrome/silica/distribution/{exp_file_list[k]}.csv\", delimiter=\",\")[1:].T[3]\n",
    "        # isotherm_formQC = calculate_isotherm_by_distribution(gen, pore_widths, np.interp(pore_widths, quantachrome_pore_size, quantachrome_dV))\n",
    "        # y_scale_factor_QH = max(n_s_exp_raw_list[k]) / max(isotherm_formQC)\n",
    "        # quantachrome_dV *= y_scale_factor_QH\n",
    "        \n",
    "y_scale_factor_classic = max(quantachrome_dV) / max(fit_classic_list[k].x)\n",
    "y_scale_factor_net = max(quantachrome_dV) / max(fit_exp_list[k])\n",
    "        \n",
    "ax1.plot(pore_widths[0:100], (fit_exp_list[k]*y_scale_factor_net)[0:100], marker=\".\", label=f\"Суррогатная модель\") \n",
    "ax1.plot(pore_widths[0:100], (fit_classic_list[k].x*y_scale_factor_classic)[0:100], marker=\".\", label=f\"Математическое решение\") \n",
    "# ax1.tick_params(axis='y')\n",
    "# plt.legend(loc=\"right\")\n",
    "\n",
    "\n",
    "ax2 = ax1.twinx()\n",
    "ax3 = ax2.twiny()  # instantiate a second axes that shares the same x-axis\n",
    "ax3.set_xlabel(\"Давление, $P/P_{0}$\")\n",
    "ax2.set_ylabel(\"Адсорбция, $см^3$/г\")  # we already handled the x-label with ax1\n",
    "ax3.plot(p_exp_list[k], n_s_exp_raw_list[k], color='g', label=f\"Изотерма адсорбции\") \n",
    "# plt.legend(loc=\"right\")\n",
    "# \n",
    "# ax2.tick_params(axis='y')\n",
    "# plt.subplots_adjust(left=0.15,\n",
    "#                     bottom=0.133, \n",
    "#                     right=0.979, \n",
    "#                     top=0.917, \n",
    "#                     wspace=0.4, \n",
    "#                     hspace=0.4)\n",
    "\n",
    "fig.tight_layout()\n",
    "plt.show()"
   ],
   "metadata": {
    "collapsed": false,
    "ExecuteTime": {
     "end_time": "2024-04-20T15:56:17.781121Z",
     "start_time": "2024-04-20T15:56:04.116823Z"
    }
   },
   "id": "2d0a60b839334253",
   "execution_count": 215
  },
  {
   "cell_type": "code",
   "outputs": [
    {
     "name": "stdout",
     "output_type": "stream",
     "text": [
      "11604.13183306725\n",
      "16453.542415743774\n",
      "16144.299115837244\n",
      "16609.55397275496\n",
      "16870.982106153013\n"
     ]
    },
    {
     "ename": "FileNotFoundError",
     "evalue": "data/real/quantachrome/silica/fitting/DUT-49.csv not found.",
     "output_type": "error",
     "traceback": [
      "\u001B[1;31m---------------------------------------------------------------------------\u001B[0m",
      "\u001B[1;31mFileNotFoundError\u001B[0m                         Traceback (most recent call last)",
      "Cell \u001B[1;32mIn[88], line 10\u001B[0m\n\u001B[0;32m      8\u001B[0m net_isotherm \u001B[38;5;241m=\u001B[39m calculate_isotherm_by_distribution(gen, pore_widths, fit_exp_list[k]\u001B[38;5;241m.\u001B[39mT[\u001B[38;5;241m0\u001B[39m])\n\u001B[0;32m      9\u001B[0m classic_isotherm \u001B[38;5;241m=\u001B[39m calculate_isotherm_by_distribution(gen, pore_widths, fit_classic_list[k]\u001B[38;5;241m.\u001B[39mx)\n\u001B[1;32m---> 10\u001B[0m quantachrome_data \u001B[38;5;241m=\u001B[39m \u001B[43mnp\u001B[49m\u001B[38;5;241;43m.\u001B[39;49m\u001B[43mgenfromtxt\u001B[49m\u001B[43m(\u001B[49m\u001B[38;5;124;43mf\u001B[39;49m\u001B[38;5;124;43m\"\u001B[39;49m\u001B[38;5;124;43mdata/real/quantachrome/silica/fitting/\u001B[39;49m\u001B[38;5;132;43;01m{\u001B[39;49;00m\u001B[43mexp_file_list\u001B[49m\u001B[43m[\u001B[49m\u001B[43mk\u001B[49m\u001B[43m]\u001B[49m\u001B[38;5;132;43;01m}\u001B[39;49;00m\u001B[38;5;124;43m.csv\u001B[39;49m\u001B[38;5;124;43m\"\u001B[39;49m\u001B[43m,\u001B[49m\u001B[43m \u001B[49m\u001B[43mdelimiter\u001B[49m\u001B[38;5;241;43m=\u001B[39;49m\u001B[38;5;124;43m\"\u001B[39;49m\u001B[38;5;124;43m,\u001B[39;49m\u001B[38;5;124;43m\"\u001B[39;49m\u001B[43m)\u001B[49m[\u001B[38;5;241m1\u001B[39m:]\u001B[38;5;241m.\u001B[39mT\n\u001B[0;32m     11\u001B[0m quantachrome_pore_size \u001B[38;5;241m=\u001B[39m np\u001B[38;5;241m.\u001B[39mgenfromtxt(\u001B[38;5;124mf\u001B[39m\u001B[38;5;124m\"\u001B[39m\u001B[38;5;124mdata/real/quantachrome/silica/distribution/\u001B[39m\u001B[38;5;132;01m{\u001B[39;00mexp_file_list[k]\u001B[38;5;132;01m}\u001B[39;00m\u001B[38;5;124m.csv\u001B[39m\u001B[38;5;124m\"\u001B[39m, delimiter\u001B[38;5;241m=\u001B[39m\u001B[38;5;124m\"\u001B[39m\u001B[38;5;124m,\u001B[39m\u001B[38;5;124m\"\u001B[39m)[\u001B[38;5;241m1\u001B[39m:]\u001B[38;5;241m.\u001B[39mT[\u001B[38;5;241m0\u001B[39m] \u001B[38;5;241m/\u001B[39m \u001B[38;5;241m10\u001B[39m \u001B[38;5;241m*\u001B[39m \u001B[38;5;241m2\u001B[39m\n\u001B[0;32m     12\u001B[0m quantachrome_dV \u001B[38;5;241m=\u001B[39m np\u001B[38;5;241m.\u001B[39mgenfromtxt(\u001B[38;5;124mf\u001B[39m\u001B[38;5;124m\"\u001B[39m\u001B[38;5;124mdata/real/quantachrome/silica/distribution/\u001B[39m\u001B[38;5;132;01m{\u001B[39;00mexp_file_list[k]\u001B[38;5;132;01m}\u001B[39;00m\u001B[38;5;124m.csv\u001B[39m\u001B[38;5;124m\"\u001B[39m, delimiter\u001B[38;5;241m=\u001B[39m\u001B[38;5;124m\"\u001B[39m\u001B[38;5;124m,\u001B[39m\u001B[38;5;124m\"\u001B[39m)[\u001B[38;5;241m1\u001B[39m:]\u001B[38;5;241m.\u001B[39mT[\u001B[38;5;241m3\u001B[39m]\n",
      "File \u001B[1;32m~\\PycharmProjects\\isotherm\\venv10\\lib\\site-packages\\numpy\\lib\\npyio.py:1980\u001B[0m, in \u001B[0;36mgenfromtxt\u001B[1;34m(fname, dtype, comments, delimiter, skip_header, skip_footer, converters, missing_values, filling_values, usecols, names, excludelist, deletechars, replace_space, autostrip, case_sensitive, defaultfmt, unpack, usemask, loose, invalid_raise, max_rows, encoding, ndmin, like)\u001B[0m\n\u001B[0;32m   1978\u001B[0m     fname \u001B[38;5;241m=\u001B[39m os_fspath(fname)\n\u001B[0;32m   1979\u001B[0m \u001B[38;5;28;01mif\u001B[39;00m \u001B[38;5;28misinstance\u001B[39m(fname, \u001B[38;5;28mstr\u001B[39m):\n\u001B[1;32m-> 1980\u001B[0m     fid \u001B[38;5;241m=\u001B[39m \u001B[43mnp\u001B[49m\u001B[38;5;241;43m.\u001B[39;49m\u001B[43mlib\u001B[49m\u001B[38;5;241;43m.\u001B[39;49m\u001B[43m_datasource\u001B[49m\u001B[38;5;241;43m.\u001B[39;49m\u001B[43mopen\u001B[49m\u001B[43m(\u001B[49m\u001B[43mfname\u001B[49m\u001B[43m,\u001B[49m\u001B[43m \u001B[49m\u001B[38;5;124;43m'\u001B[39;49m\u001B[38;5;124;43mrt\u001B[39;49m\u001B[38;5;124;43m'\u001B[39;49m\u001B[43m,\u001B[49m\u001B[43m \u001B[49m\u001B[43mencoding\u001B[49m\u001B[38;5;241;43m=\u001B[39;49m\u001B[43mencoding\u001B[49m\u001B[43m)\u001B[49m\n\u001B[0;32m   1981\u001B[0m     fid_ctx \u001B[38;5;241m=\u001B[39m contextlib\u001B[38;5;241m.\u001B[39mclosing(fid)\n\u001B[0;32m   1982\u001B[0m \u001B[38;5;28;01melse\u001B[39;00m:\n",
      "File \u001B[1;32m~\\PycharmProjects\\isotherm\\venv10\\lib\\site-packages\\numpy\\lib\\_datasource.py:193\u001B[0m, in \u001B[0;36mopen\u001B[1;34m(path, mode, destpath, encoding, newline)\u001B[0m\n\u001B[0;32m    156\u001B[0m \u001B[38;5;250m\u001B[39m\u001B[38;5;124;03m\"\"\"\u001B[39;00m\n\u001B[0;32m    157\u001B[0m \u001B[38;5;124;03mOpen `path` with `mode` and return the file object.\u001B[39;00m\n\u001B[0;32m    158\u001B[0m \n\u001B[1;32m   (...)\u001B[0m\n\u001B[0;32m    189\u001B[0m \n\u001B[0;32m    190\u001B[0m \u001B[38;5;124;03m\"\"\"\u001B[39;00m\n\u001B[0;32m    192\u001B[0m ds \u001B[38;5;241m=\u001B[39m DataSource(destpath)\n\u001B[1;32m--> 193\u001B[0m \u001B[38;5;28;01mreturn\u001B[39;00m \u001B[43mds\u001B[49m\u001B[38;5;241;43m.\u001B[39;49m\u001B[43mopen\u001B[49m\u001B[43m(\u001B[49m\u001B[43mpath\u001B[49m\u001B[43m,\u001B[49m\u001B[43m \u001B[49m\u001B[43mmode\u001B[49m\u001B[43m,\u001B[49m\u001B[43m \u001B[49m\u001B[43mencoding\u001B[49m\u001B[38;5;241;43m=\u001B[39;49m\u001B[43mencoding\u001B[49m\u001B[43m,\u001B[49m\u001B[43m \u001B[49m\u001B[43mnewline\u001B[49m\u001B[38;5;241;43m=\u001B[39;49m\u001B[43mnewline\u001B[49m\u001B[43m)\u001B[49m\n",
      "File \u001B[1;32m~\\PycharmProjects\\isotherm\\venv10\\lib\\site-packages\\numpy\\lib\\_datasource.py:533\u001B[0m, in \u001B[0;36mDataSource.open\u001B[1;34m(self, path, mode, encoding, newline)\u001B[0m\n\u001B[0;32m    530\u001B[0m     \u001B[38;5;28;01mreturn\u001B[39;00m _file_openers[ext](found, mode\u001B[38;5;241m=\u001B[39mmode,\n\u001B[0;32m    531\u001B[0m                               encoding\u001B[38;5;241m=\u001B[39mencoding, newline\u001B[38;5;241m=\u001B[39mnewline)\n\u001B[0;32m    532\u001B[0m \u001B[38;5;28;01melse\u001B[39;00m:\n\u001B[1;32m--> 533\u001B[0m     \u001B[38;5;28;01mraise\u001B[39;00m \u001B[38;5;167;01mFileNotFoundError\u001B[39;00m(\u001B[38;5;124mf\u001B[39m\u001B[38;5;124m\"\u001B[39m\u001B[38;5;132;01m{\u001B[39;00mpath\u001B[38;5;132;01m}\u001B[39;00m\u001B[38;5;124m not found.\u001B[39m\u001B[38;5;124m\"\u001B[39m)\n",
      "\u001B[1;31mFileNotFoundError\u001B[0m: data/real/quantachrome/silica/fitting/DUT-49.csv not found."
     ]
    }
   ],
   "source": [
    "# Compare isotherms\n",
    "NX, NY = 2, 3\n",
    "figure, axis = plt.subplots(NX, NY)\n",
    "k = 0\n",
    "\n",
    "for i in range(NX):\n",
    "    for j in range(NY):\n",
    "        net_isotherm = calculate_isotherm_by_distribution(gen, pore_widths, fit_exp_list[k].T[0])\n",
    "        classic_isotherm = calculate_isotherm_by_distribution(gen, pore_widths, fit_classic_list[k].x)\n",
    "        quantachrome_data = np.genfromtxt(f\"data/real/quantachrome/silica/fitting/{exp_file_list[k]}.csv\", delimiter=\",\")[1:].T\n",
    "        quantachrome_pore_size = np.genfromtxt(f\"data/real/quantachrome/silica/distribution/{exp_file_list[k]}.csv\", delimiter=\",\")[1:].T[0] / 10 * 2\n",
    "        quantachrome_dV = np.genfromtxt(f\"data/real/quantachrome/silica/distribution/{exp_file_list[k]}.csv\", delimiter=\",\")[1:].T[3]\n",
    "        quantachrome_data2 = calculate_isotherm_by_distribution(gen, pore_widths, np.interp(pore_widths, quantachrome_pore_size, quantachrome_dV))\n",
    "        \n",
    "        y_scale_factor_net = max(net_isotherm) / max(n_s_exp_raw_list[k])\n",
    "        y_scale_factor_classic = max(classic_isotherm) / max(n_s_exp_raw_list[k])\n",
    "        y_scale_factor_quantachrome = max(quantachrome_data[1]) / max(n_s_exp_raw_list[k])\n",
    "        y_scale_factor_quantachrome2 = max(quantachrome_data2) / (n_s_exp_raw_list[k][-1]) #max(quantachrome_data[1]) / max(n_s_exp_raw_list[k])\n",
    "        print(1/y_scale_factor_quantachrome2)\n",
    "        \n",
    "        axis[i, j].plot(p_exp_list[k], n_s_exp_raw_list[k], label=\"real\")\n",
    "        axis[i, j].plot(gen.pressures_s, classic_isotherm/y_scale_factor_classic, marker=\".\", label=f\"classic\") \n",
    "        axis[i, j].plot(gen.pressures_s, net_isotherm/y_scale_factor_net, label=\"net\")\n",
    "        # axis[i, j].plot(quantachrome_data[0], quantachrome_data[1]/y_scale_factor_quantachrome, label=\"quantachrome\")\n",
    "        # axis[i, j].plot(gen.pressures_s, quantachrome_data2/y_scale_factor_quantachrome2, label=\"quantachrome_from_kernal\")\n",
    "        axis[i, j].set_title(f\"{exp_file_list[k]}\")\n",
    "        axis[i, j].legend(loc=\"lower right\")\n",
    "        axis[i, j].grid()\n",
    "        k += 1\n",
    "        if k >= len(fit_exp_list):\n",
    "            break\n",
    "plt.subplots_adjust(hspace=0.6, right=0.95, left=0.05, bottom=0.05, top=0.95)\n",
    "plot()"
   ],
   "metadata": {
    "collapsed": false,
    "ExecuteTime": {
     "end_time": "2024-04-19T10:57:22.416893Z",
     "start_time": "2024-04-19T10:57:22.130868Z"
    }
   },
   "id": "5e20fa504d7c45cc",
   "execution_count": 88
  },
  {
   "cell_type": "code",
   "outputs": [
    {
     "ename": "FileNotFoundError",
     "evalue": "data/real/quantachrome/silica/distribution/MIL-100.csv not found.",
     "output_type": "error",
     "traceback": [
      "\u001B[1;31m---------------------------------------------------------------------------\u001B[0m",
      "\u001B[1;31mFileNotFoundError\u001B[0m                         Traceback (most recent call last)",
      "Cell \u001B[1;32mIn[87], line 2\u001B[0m\n\u001B[0;32m      1\u001B[0m \u001B[38;5;66;03m#QUANTACHROME\u001B[39;00m\n\u001B[1;32m----> 2\u001B[0m data \u001B[38;5;241m=\u001B[39m \u001B[43mnp\u001B[49m\u001B[38;5;241;43m.\u001B[39;49m\u001B[43mgenfromtxt\u001B[49m\u001B[43m(\u001B[49m\u001B[38;5;124;43m\"\u001B[39;49m\u001B[38;5;124;43mdata/real/quantachrome/silica/distribution/MIL-100.csv\u001B[39;49m\u001B[38;5;124;43m\"\u001B[39;49m\u001B[43m,\u001B[49m\u001B[43m \u001B[49m\u001B[43mdelimiter\u001B[49m\u001B[38;5;241;43m=\u001B[39;49m\u001B[38;5;124;43m\"\u001B[39;49m\u001B[38;5;124;43m,\u001B[39;49m\u001B[38;5;124;43m\"\u001B[39;49m\u001B[43m)\u001B[49m[\u001B[38;5;241m1\u001B[39m:]\u001B[38;5;241m.\u001B[39mT[\u001B[38;5;241m0\u001B[39m]\n",
      "File \u001B[1;32m~\\PycharmProjects\\isotherm\\venv10\\lib\\site-packages\\numpy\\lib\\npyio.py:1980\u001B[0m, in \u001B[0;36mgenfromtxt\u001B[1;34m(fname, dtype, comments, delimiter, skip_header, skip_footer, converters, missing_values, filling_values, usecols, names, excludelist, deletechars, replace_space, autostrip, case_sensitive, defaultfmt, unpack, usemask, loose, invalid_raise, max_rows, encoding, ndmin, like)\u001B[0m\n\u001B[0;32m   1978\u001B[0m     fname \u001B[38;5;241m=\u001B[39m os_fspath(fname)\n\u001B[0;32m   1979\u001B[0m \u001B[38;5;28;01mif\u001B[39;00m \u001B[38;5;28misinstance\u001B[39m(fname, \u001B[38;5;28mstr\u001B[39m):\n\u001B[1;32m-> 1980\u001B[0m     fid \u001B[38;5;241m=\u001B[39m \u001B[43mnp\u001B[49m\u001B[38;5;241;43m.\u001B[39;49m\u001B[43mlib\u001B[49m\u001B[38;5;241;43m.\u001B[39;49m\u001B[43m_datasource\u001B[49m\u001B[38;5;241;43m.\u001B[39;49m\u001B[43mopen\u001B[49m\u001B[43m(\u001B[49m\u001B[43mfname\u001B[49m\u001B[43m,\u001B[49m\u001B[43m \u001B[49m\u001B[38;5;124;43m'\u001B[39;49m\u001B[38;5;124;43mrt\u001B[39;49m\u001B[38;5;124;43m'\u001B[39;49m\u001B[43m,\u001B[49m\u001B[43m \u001B[49m\u001B[43mencoding\u001B[49m\u001B[38;5;241;43m=\u001B[39;49m\u001B[43mencoding\u001B[49m\u001B[43m)\u001B[49m\n\u001B[0;32m   1981\u001B[0m     fid_ctx \u001B[38;5;241m=\u001B[39m contextlib\u001B[38;5;241m.\u001B[39mclosing(fid)\n\u001B[0;32m   1982\u001B[0m \u001B[38;5;28;01melse\u001B[39;00m:\n",
      "File \u001B[1;32m~\\PycharmProjects\\isotherm\\venv10\\lib\\site-packages\\numpy\\lib\\_datasource.py:193\u001B[0m, in \u001B[0;36mopen\u001B[1;34m(path, mode, destpath, encoding, newline)\u001B[0m\n\u001B[0;32m    156\u001B[0m \u001B[38;5;250m\u001B[39m\u001B[38;5;124;03m\"\"\"\u001B[39;00m\n\u001B[0;32m    157\u001B[0m \u001B[38;5;124;03mOpen `path` with `mode` and return the file object.\u001B[39;00m\n\u001B[0;32m    158\u001B[0m \n\u001B[1;32m   (...)\u001B[0m\n\u001B[0;32m    189\u001B[0m \n\u001B[0;32m    190\u001B[0m \u001B[38;5;124;03m\"\"\"\u001B[39;00m\n\u001B[0;32m    192\u001B[0m ds \u001B[38;5;241m=\u001B[39m DataSource(destpath)\n\u001B[1;32m--> 193\u001B[0m \u001B[38;5;28;01mreturn\u001B[39;00m \u001B[43mds\u001B[49m\u001B[38;5;241;43m.\u001B[39;49m\u001B[43mopen\u001B[49m\u001B[43m(\u001B[49m\u001B[43mpath\u001B[49m\u001B[43m,\u001B[49m\u001B[43m \u001B[49m\u001B[43mmode\u001B[49m\u001B[43m,\u001B[49m\u001B[43m \u001B[49m\u001B[43mencoding\u001B[49m\u001B[38;5;241;43m=\u001B[39;49m\u001B[43mencoding\u001B[49m\u001B[43m,\u001B[49m\u001B[43m \u001B[49m\u001B[43mnewline\u001B[49m\u001B[38;5;241;43m=\u001B[39;49m\u001B[43mnewline\u001B[49m\u001B[43m)\u001B[49m\n",
      "File \u001B[1;32m~\\PycharmProjects\\isotherm\\venv10\\lib\\site-packages\\numpy\\lib\\_datasource.py:533\u001B[0m, in \u001B[0;36mDataSource.open\u001B[1;34m(self, path, mode, encoding, newline)\u001B[0m\n\u001B[0;32m    530\u001B[0m     \u001B[38;5;28;01mreturn\u001B[39;00m _file_openers[ext](found, mode\u001B[38;5;241m=\u001B[39mmode,\n\u001B[0;32m    531\u001B[0m                               encoding\u001B[38;5;241m=\u001B[39mencoding, newline\u001B[38;5;241m=\u001B[39mnewline)\n\u001B[0;32m    532\u001B[0m \u001B[38;5;28;01melse\u001B[39;00m:\n\u001B[1;32m--> 533\u001B[0m     \u001B[38;5;28;01mraise\u001B[39;00m \u001B[38;5;167;01mFileNotFoundError\u001B[39;00m(\u001B[38;5;124mf\u001B[39m\u001B[38;5;124m\"\u001B[39m\u001B[38;5;132;01m{\u001B[39;00mpath\u001B[38;5;132;01m}\u001B[39;00m\u001B[38;5;124m not found.\u001B[39m\u001B[38;5;124m\"\u001B[39m)\n",
      "\u001B[1;31mFileNotFoundError\u001B[0m: data/real/quantachrome/silica/distribution/MIL-100.csv not found."
     ]
    }
   ],
   "source": [
    "#QUANTACHROME\n",
    "data = np.genfromtxt(\"data/real/quantachrome/silica/distribution/MIL-101.csv\", delimiter=\",\")[1:].T[0]"
   ],
   "metadata": {
    "collapsed": false,
    "ExecuteTime": {
     "end_time": "2024-04-19T10:53:55.488774Z",
     "start_time": "2024-04-19T10:53:55.373776Z"
    }
   },
   "id": "a2947b6286fe73b7",
   "execution_count": 87
  },
  {
   "cell_type": "code",
   "outputs": [],
   "source": [],
   "metadata": {
    "collapsed": false
   },
   "id": "29ec7e76cb0598ac"
  }
 ],
 "metadata": {
  "kernelspec": {
   "display_name": "Python 3",
   "language": "python",
   "name": "python3"
  },
  "language_info": {
   "codemirror_mode": {
    "name": "ipython",
    "version": 2
   },
   "file_extension": ".py",
   "mimetype": "text/x-python",
   "name": "python",
   "nbconvert_exporter": "python",
   "pygments_lexer": "ipython2",
   "version": "2.7.6"
  }
 },
 "nbformat": 4,
 "nbformat_minor": 5
}
