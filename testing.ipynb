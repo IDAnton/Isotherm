{
 "cells": [
  {
   "cell_type": "code",
   "execution_count": 1,
   "id": "c354ac40-d909-4b1f-a6c6-ede55ee64535",
   "metadata": {
    "tags": []
   },
   "outputs": [],
   "source": [
    "import numpy as np\n",
    "import pandas as pd\n",
    "import matplotlib.pyplot as plt\n",
    "import matplotlib as mpl\n",
    "\n",
    "from datetime import datetime\n",
    "mpl.use('TkAgg')"
   ]
  },
  {
   "cell_type": "code",
   "execution_count": 132,
   "id": "33e17f78-b3be-4952-afde-8a34bbcaa75d",
   "metadata": {
    "tags": []
   },
   "outputs": [],
   "source": [
    "list_name = \"Carbon-loc-isoth-N2.xlsx\"\n",
    "#list_name = \"Silica-loc-isoth1.xlsx\"\n",
    "dataframe_sorb = pd.read_excel(list_name, header=None, sheet_name=\"Adsorption\")\n",
    "dataframe_desorb = pd.read_excel(list_name, header=None, sheet_name=\"Desorption\")\n",
    "P_START = 21  # индекс минимального давления\n",
    "p_array = np.array(dataframe_sorb[0][P_START:])  # сетка давлений\n",
    "a_array = np.array(dataframe_sorb.iloc[0][1:])  # сетка размеров пор\n",
    "\n",
    "array_of_isotherms_s = np.empty((len(a_array), len(p_array)))  # массив изотерм с i-м размером пор\n",
    "for i in range(len(a_array)):  # заполняем массив изотерм из таблицы pandas\n",
    "    array_of_isotherms_s[i] = dataframe_sorb[i+1][P_START:]\n",
    "    \n",
    "array_of_isotherms_d = np.empty((len(a_array), len(p_array)))  # массив изотерм с i-м размером пор\n",
    "for i in range(len(a_array)):  # заполняем массив изотерм из таблицы pandas\n",
    "    array_of_isotherms_d[i] = dataframe_desorb[i+1][P_START:]"
   ]
  },
  {
   "cell_type": "code",
   "execution_count": 185,
   "id": "1b446a9e-7709-4b3e-bf55-054d28583b24",
   "metadata": {
    "tags": []
   },
   "outputs": [],
   "source": [
    "fig, ax=plt.subplots()  # строим график j-й изотермы из исходного набора\n",
    "j = 60\n",
    "ax.plot(p_array, array_of_isotherms_s[j], marker=\".\", label=f\"kernel isotherm sorption №{j}, pore size = {a_array[j]} nm\")\n",
    "ax.plot(p_array, array_of_isotherms_d[j], marker=\".\", label=f\"kernel isotherm desorption №{j}, pore size = {a_array[j]} nm\")\n",
    "\n",
    "# j1 = j+1\n",
    "# ax.plot(p_array, array_of_isotherms_s[j1], marker=\".\", label=f\"kernel isotherm sorption №{j1}, pore size = {a_array[j1]} nm\")\n",
    "# ax.plot(p_array, array_of_isotherms_d[j1], marker=\".\", label=f\"kernel isotherm desorption №{j1}, pore size = {a_array[j1]} nm\")\n",
    "\n",
    "ax.set_ylabel(\"sorption\")\n",
    "ax.set_xlabel(\"pressure\")\n",
    "legend = ax.legend(loc='upper right')\n",
    "plt.show() "
   ]
  },
  {
   "cell_type": "code",
   "execution_count": null,
   "id": "d5910b74-3897-47f2-b5fe-ddd4fa22dcf4",
   "metadata": {},
   "outputs": [],
   "source": []
  },
  {
   "cell_type": "code",
   "execution_count": null,
   "id": "e7be2da8-864c-4b15-b5e0-16532f843cf4",
   "metadata": {},
   "outputs": [],
   "source": []
  },
  {
   "cell_type": "code",
   "execution_count": null,
   "id": "415fc302-7364-4a60-8b0c-e03f8a8cec64",
   "metadata": {},
   "outputs": [],
   "source": []
  },
  {
   "cell_type": "code",
   "execution_count": 48,
   "id": "9055dfca-bf44-4f2e-a880-ad4fe2674de5",
   "metadata": {
    "tags": []
   },
   "outputs": [],
   "source": [
    "with open(\"data/kernel_generated/Kernel_Carbon-loc-isoth-N2.xlsx_Adsorption.npy\", 'rb') as f:\n",
    "    new_a_array_s = np.load(f)\n",
    "\n",
    "with open(\"data/kernel_generated/Kernel_Carbon-loc-isoth-N2.xlsx_Desorption.npy\", 'rb') as f:\n",
    "    new_a_array_d = np.load(f)\n",
    "    \n",
    "with open(\"data/kernel_generated/Size_Carbon-loc-isoth-N2.xlsx_Adsorption.npy\", 'rb') as f:\n",
    "    a_array_s = np.load(f)\n",
    "\n",
    "with open(\"data/kernel_generated/Size_Carbon-loc-isoth-N2.xlsx_Desorption.npy\", 'rb') as f:\n",
    "    a_array_d = np.load(f)"
   ]
  },
  {
   "cell_type": "code",
   "execution_count": 80,
   "id": "655712bc-6da6-4300-bc1b-6c525e9525cc",
   "metadata": {
    "tags": []
   },
   "outputs": [],
   "source": [
    "fig, ax=plt.subplots()\n",
    "j = 220\n",
    "\n",
    "j1  = sorted((np.abs(a_array_d - a_array_s[j])).argsort()[:1])[0]  # находим индексы ближайших к текущему размеров пор\n",
    "\n",
    "\n",
    "ax.plot(p_array, new_a_array_s[j], marker=\".\", label=f\"kernel isotherm sorption №{j}, pore size = {a_array_s[j]} nm\")\n",
    "ax.plot(p_array, new_a_array_d[j1], marker=\".\", label=f\"kernel isotherm desorption №{j1}, pore size = {a_array_d[j1]} nm\")\n",
    "\n",
    "ax.set_ylabel(\"sorption\")\n",
    "ax.set_xlabel(\"pressure\")\n",
    "legend = ax.legend(loc='upper right')\n",
    "plt.show() "
   ]
  },
  {
   "cell_type": "code",
   "execution_count": null,
   "id": "ffc9034e-5007-4517-a920-200abbbe1c68",
   "metadata": {},
   "outputs": [],
   "source": []
  },
  {
   "cell_type": "code",
   "execution_count": 192,
   "id": "95576106-380e-43ed-b0ac-e67a1ed79fa0",
   "metadata": {
    "tags": []
   },
   "outputs": [
    {
     "data": {
      "text/plain": [
       "(    pore_size  pressure_of_jump\n",
       " 90  11.443000             0.854\n",
       " 91  11.843599             0.862\n",
       " 92  12.258101             0.868\n",
       " 93  12.687100             0.874\n",
       " 94  13.131200             0.878\n",
       " 95  13.590800             0.884\n",
       " 96  14.066401             0.890\n",
       " 97  14.558800             0.894\n",
       " 98  15.068300             0.900\n",
       " 99  15.595700             0.904,\n",
       "     pore_size  pressure_of_jump\n",
       " 90  11.443000             0.786\n",
       " 91  11.843599             0.794\n",
       " 92  12.258101             0.802\n",
       " 93  12.687100             0.808\n",
       " 94  13.131200             0.816\n",
       " 95  13.590800             0.824\n",
       " 96  14.066401             0.830\n",
       " 97  14.558800             0.836\n",
       " 98  15.068300             0.842\n",
       " 99  15.595700             0.848)"
      ]
     },
     "execution_count": 192,
     "metadata": {},
     "output_type": "execute_result"
    }
   ],
   "source": [
    "#  обработка изотерм со скачком\n",
    "pore_size_jump_pressure_d = pd.DataFrame(columns=['pore_size', 'pressure_of_jump'])  # таблица размер пор - давление при котором происходит скачок в изотерме с данным размером пор\n",
    "for i, sorption_a in enumerate(array_of_isotherms_d):\n",
    "    sorption_delta_array = sorption_a[1:] - sorption_a[:-1]\n",
    "    jump_i = np.argmax(sorption_delta_array)  # индекс скачка \n",
    "    jump_pressure = p_array[jump_i]  #  давление скачка\n",
    "    pore_size_jump_pressure_d.loc[len(pore_size_jump_pressure_d.index)] = [a_array[i], jump_pressure]\n",
    "    \n",
    "pore_size_jump_pressure_s = pd.DataFrame(columns=['pore_size', 'pressure_of_jump'])  # таблица размер пор - давление при котором происходит скачок в изотерме с данным размером пор\n",
    "for i, sorption_a in enumerate(array_of_isotherms_s):\n",
    "    sorption_delta_array = sorption_a[1:] - sorption_a[:-1]\n",
    "    jump_i = np.argmax(sorption_delta_array)  # индекс скачка \n",
    "    jump_pressure = p_array[jump_i]  #  давление скачка\n",
    "    pore_size_jump_pressure_s.loc[len(pore_size_jump_pressure_s.index)] = [a_array[i], jump_pressure]\n",
    "    \n",
    "pore_size_jump_pressure_s[90:100], pore_size_jump_pressure_d[90:100]"
   ]
  },
  {
   "cell_type": "code",
   "execution_count": 241,
   "id": "1fbb2ba9-1af6-484a-99e1-f89d18e2dc60",
   "metadata": {
    "tags": []
   },
   "outputs": [],
   "source": [
    "def get_k_b(x1, y1, x2, y2):\n",
    "    k = (y1 - y2) / (x1 - x2)\n",
    "    b = y1 - k*x1\n",
    "    return k, b\n",
    "\n",
    "A_START = 21\n",
    "def generate_kernel_isotherm(step_i):\n",
    "    curent_a_size = a_array_s[step_i]\n",
    "    new_isotherm = np.zeros(shape=p_array.shape)\n",
    "    j1, j2  = sorted((np.abs(a_array - curent_a_size)).argsort()[:2])  # находим индексы ближайших к текущему размеров пор\n",
    "    \n",
    "    if curent_a_size == a_array[j1]:\n",
    "        return array_of_isotherms_d[j1]\n",
    "    if curent_a_size == a_array[j2]:\n",
    "        return array_of_isotherms_d[j2]\n",
    "    \n",
    "    i = 0\n",
    "    while p_array[i] <= pore_size_jump_pressure_d[\"pressure_of_jump\"][j1]:\n",
    "        new_isotherm[i] = np.interp(curent_a_size, xp=(a_array[j1], a_array[j2]), fp=(array_of_isotherms_d[j1][i], array_of_isotherms_d[j2][i]))\n",
    "        i += 1\n",
    "    tmp = i\n",
    "    \n",
    "    i = len(p_array) - 1\n",
    "    while p_array[i] > pore_size_jump_pressure_d[\"pressure_of_jump\"][j2]:\n",
    "        new_isotherm[i] = np.interp(curent_a_size, xp=(a_array[j1], a_array[j2]), fp=(array_of_isotherms_d[j1][i], array_of_isotherms_d[j2][i]))\n",
    "        i -= 1\n",
    "    \n",
    "    step_pressure = np.interp(curent_a_size, (pore_size_jump_pressure_d[\"pore_size\"][j1], pore_size_jump_pressure_d[\"pore_size\"][j2]),\n",
    "                              (pore_size_jump_pressure_d[\"pressure_of_jump\"][j1], pore_size_jump_pressure_d[\"pressure_of_jump\"][j2]))\n",
    "    \n",
    "    while p_array[i] >= step_pressure:\n",
    "        k, b = get_k_b(p_array[i+2], new_isotherm[i+2],  p_array[i+1],  new_isotherm[i+1])\n",
    "        new_isotherm[i] =  p_array[i] * k + b\n",
    "        i -= 1\n",
    "    \n",
    "    i = tmp\n",
    "    while p_array[i] <= step_pressure:\n",
    "        k, b = get_k_b(p_array[i-2], new_isotherm[i-2],  p_array[i-1],  new_isotherm[i-1])\n",
    "        new_isotherm[i] =  p_array[i] * k + b\n",
    "        i += 1\n",
    "    \n",
    "    return new_isotherm\n",
    "    \n",
    "    \n",
    "result = []\n",
    "for step_i in range(len(new_a_array_s)):\n",
    "     result.append(generate_kernel_isotherm(step_i))"
   ]
  },
  {
   "cell_type": "code",
   "execution_count": 244,
   "id": "24df027e-4a24-4d0d-94af-2e38f0084d4f",
   "metadata": {
    "tags": []
   },
   "outputs": [],
   "source": [
    "fig, ax=plt.subplots()\n",
    "j = 300\n",
    "ax.plot(p_array, new_a_array_s[j], marker=\"*\", label=f\"new sorption №{j}, pore size = {a_array_s[j]} nm\")\n",
    "ax.plot(p_array, result[j], marker=\".\", label=f\"new desorption №{j1}, pore size = {a_array_s[j]} nm\")\n",
    "\n",
    "j1, j2  = sorted((np.abs(a_array - a_array_s[j])).argsort()[:2])\n",
    "ax.plot(p_array, array_of_isotherms_s[j1], marker=\"*\", label=f\"kernel sorption №{j1}, pore size = {a_array[j1]} nm\")\n",
    "ax.plot(p_array, array_of_isotherms_d[j1], marker=\".\", label=f\"kernel desorption №{j1}, pore size = {a_array[j1]} nm\")\n",
    "ax.plot(p_array, array_of_isotherms_s[j2], marker=\"*\", label=f\"kernel sorption №{j2}, pore size = {a_array[j2]} nm\")\n",
    "ax.plot(p_array, array_of_isotherms_d[j2], marker=\".\", label=f\"kernel desorption №{j2}, pore size = {a_array[j2]} nm\")\n",
    "\n",
    "legend = ax.legend(loc='upper right')\n",
    "plt.show() "
   ]
  },
  {
   "cell_type": "code",
   "execution_count": 245,
   "id": "1c4b66a3-62a5-415f-a9c1-1c38ce2c335f",
   "metadata": {
    "tags": []
   },
   "outputs": [],
   "source": [
    "with open(f'data/kernel_generated/Kernel_test_desorb.npy', 'wb') as f:\n",
    "    np.save(f, np.array(result))\n"
   ]
  },
  {
   "cell_type": "code",
   "execution_count": null,
   "id": "a0a863fe-3f97-4a60-a998-0b33d636c7eb",
   "metadata": {},
   "outputs": [],
   "source": []
  }
 ],
 "metadata": {
  "kernelspec": {
   "display_name": "Python 3 (ipykernel)",
   "language": "python",
   "name": "python3"
  },
  "language_info": {
   "codemirror_mode": {
    "name": "ipython",
    "version": 3
   },
   "file_extension": ".py",
   "mimetype": "text/x-python",
   "name": "python",
   "nbconvert_exporter": "python",
   "pygments_lexer": "ipython3",
   "version": "3.11.3"
  }
 },
 "nbformat": 4,
 "nbformat_minor": 5
}
